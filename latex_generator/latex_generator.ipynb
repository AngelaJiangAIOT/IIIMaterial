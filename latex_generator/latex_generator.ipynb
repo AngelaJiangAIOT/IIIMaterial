{
 "cells": [
  {
   "cell_type": "code",
   "execution_count": 2,
   "metadata": {},
   "outputs": [],
   "source": [
    "import subprocess\n",
    "import os\n",
    "import re"
   ]
  },
  {
   "cell_type": "markdown",
   "metadata": {},
   "source": [
    "# Practice"
   ]
  },
  {
   "cell_type": "code",
   "execution_count": 3,
   "metadata": {},
   "outputs": [
    {
     "name": "stdout",
     "output_type": "stream",
     "text": [
      "..\\00_EnvironmentInstallation\\main00.ipynb\n",
      "..\\00_EnvironmentInstallation\\practice00.ipynb\n",
      "..\\01_MLIntroduction\\main01.ipynb\n",
      "..\\01_MLIntroduction\\practice01.ipynb\n",
      "..\\02_PreProcessing\\main02.ipynb\n",
      "..\\02_PreProcessing\\practice02.ipynb\n",
      "..\\03_ClusteringTheory\\main03.ipynb\n",
      "..\\03_ClusteringTheory\\practice03.ipynb\n",
      "..\\04_ClusteringPracticeWord2Vec\\main04.ipynb\n",
      "..\\04_ClusteringPracticeWord2Vec\\practice04.ipynb\n",
      "..\\05_Classification\\main05.ipynb\n",
      "..\\05_Classification\\practice05.ipynb\n",
      "..\\06_XgbCV\\main06.ipynb\n",
      "..\\06_XgbCV\\practice06.ipynb\n",
      "..\\07_RealEstatePractice\\main07.ipynb\n",
      "..\\07_RealEstatePractice\\practice07.ipynb\n",
      "..\\08_InformationRetreival\\main08.ipynb\n",
      "..\\08_InformationRetreival\\practice08.ipynb\n",
      "..\\09_RecommendationSystem\\main09.ipynb\n",
      "..\\09_RecommendationSystem\\practice09.ipynb\n"
     ]
    }
   ],
   "source": [
    "dirs = [d for d in os.listdir('..') if bool(re.match('\\d+\\_.+?', d))]\n",
    "for d in dirs: \n",
    "    for f in os.listdir(os.path.join('..', d)):\n",
    "        if f.startswith('main') and f.endswith('.ipynb'):\n",
    "            readfile_path = os.path.join(\"..\", d, f)\n",
    "            writefile_path = os.path.join(\"..\", d, f.replace(\"main\", \"practice\"))\n",
    "            print(readfile_path)\n",
    "            print(writefile_path)\n",
    "            readfile = open(readfile_path, 'r', encoding='utf8')\n",
    "            writefile = open(writefile_path, 'w', encoding='utf8')\n",
    "            starts_equal = False\n",
    "            starts_all = False\n",
    "            for line in readfile:\n",
    "                if \"#==============your works ends================#\" in line:\n",
    "                    starts_equal = False\n",
    "                if \"#!==============your works ends================!#\" in line:\n",
    "                    starts_all = False\n",
    "                if starts_equal and \"=\" in line:\n",
    "                    line = line.split(\"=\")[0] + \"=\" + line[-5:]\n",
    "                if starts_all:\n",
    "                    line = line[:5] + line[-5:]\n",
    "                if \"#=============your works starts===============#\" in line:\n",
    "                    starts_equal = True\n",
    "                if \"#!=============your works starts===============!#\" in line:\n",
    "                    starts_all = True\n",
    "\n",
    "                writefile.write(line)\n",
    "                \n",
    "            readfile.close()\n",
    "            writefile.close()\n"
   ]
  },
  {
   "cell_type": "markdown",
   "metadata": {},
   "source": [
    "# Latex"
   ]
  },
  {
   "cell_type": "code",
   "execution_count": 4,
   "metadata": {},
   "outputs": [
    {
     "name": "stdout",
     "output_type": "stream",
     "text": [
      "working_dir 06_XgbCV\n"
     ]
    }
   ],
   "source": [
    "working_dirs = [d for d in os.listdir(\"..\") if re.findall('\\d{2}', d)]\n",
    "for working_dir in working_dirs[6:7]:\n",
    "    print(\"working_dir\", working_dir)\n",
    "\n",
    "    filename = [f for f in os.listdir(os.path.join(\"..\", working_dir)) if f.startswith('practice')][0]\n",
    "    filepath = os.path.join(\"..\", working_dir, filename)\n",
    "    calls = [\"jupyter\", \"nbconvert\", \"--to\", \"latex\", filepath]\n",
    "    p = subprocess.Popen(\" \".join(calls), stdout=subprocess.PIPE, stderr=subprocess.PIPE, shell=True)\n",
    "    out, err = p.communicate()\n",
    "#     print(\"out, err\")\n",
    "#     print(out.decode(), err.decode())\n",
    "#     print(\"=================\")\n",
    "    \n",
    "    tex_read_filepath = filepath.replace('ipynb', 'tex')\n",
    "    tex_write_filepath = tex_read_filepath.replace('.tex', '_mod.tex')\n",
    "\n",
    "    tex_read_file = open(tex_read_filepath, 'r', encoding='utf8')\n",
    "    tex_write_file = open(tex_write_filepath, 'w', encoding='utf8')\n",
    "    for line in tex_read_file:\n",
    "        if \"documentclass\" in line:\n",
    "            tex_write_file.write(line)\n",
    "            tex_write_file.write(\"    \\\\usepackage{fontspec}\\n\")\n",
    "            tex_write_file.write(\"    \\\\usepackage{xeCJK}\\n\")\n",
    "            tex_write_file.write(\"    \\\\setCJKmainfont{微軟正黑體}\\n\")\n",
    "        else:\n",
    "            static_dir = filename.replace('.ipynb', '') + \"_files\"\n",
    "            if static_dir in line:\n",
    "                static_file = re.findall('\\{' + static_dir + '.+?\\}', line)[0]\n",
    "                static_file_new = \"{../\" + working_dir + \"/\" + static_file[1:]\n",
    "                line = line.replace(static_file, static_file_new) \n",
    "            if \"imgs\" in line:\n",
    "#                 print(\"line ==>\", line)\n",
    "#                 print(\"=============================\")\n",
    "                line = line.replace(\"./imgs\", \"../\" + working_dir + \"/\" + \"imgs\")\n",
    "            if \"\\\\title\" in line:\n",
    "                to_be_replace = re.findall(\"\\{.+?\\}\", line)[0]\n",
    "                line = line.replace(to_be_replace, \"{\" + working_dir.replace(\"_\", \"\") + \"}\")\n",
    "            if not (\"users\" in line.lower() and \"administrator\" in line.lower()) and not \"gif\" in line.lower() and not (\"user\" in line and \"appdata\" in line.lower()):\n",
    "                tex_write_file.write(line)\n",
    "\n",
    "    tex_read_file.close()\n",
    "    tex_write_file.close()\n",
    "    \n",
    "    \n",
    "    calls = [\"xelatex\", tex_write_filepath]\n",
    "    p = subprocess.Popen(\" \".join(calls), stdout=subprocess.PIPE, stderr=subprocess.PIPE, shell=True)\n",
    "    out, err = p.communicate()\n",
    "    \n",
    "#     print(\"out, err\")\n",
    "#     print(out.decode(), err.decode())\n",
    "#     print(\"=================\")\n",
    "#     print(\"=================\")\n",
    "#     print(\"=================\")\n",
    "#     print(\"=================\")\n",
    "#     print(\"=================\")\n",
    "\n",
    "    \n"
   ]
  },
  {
   "cell_type": "code",
   "execution_count": 58,
   "metadata": {},
   "outputs": [
    {
     "data": {
      "text/plain": [
       "[None, None, None, None]"
      ]
     },
     "execution_count": 58,
     "metadata": {},
     "output_type": "execute_result"
    }
   ],
   "source": [
    "# [os.remove(f) for f in os.listdir() if f.startswith(filename.replace('.ipynb', ''))]\n"
   ]
  },
  {
   "cell_type": "code",
   "execution_count": null,
   "metadata": {
    "scrolled": false
   },
   "outputs": [],
   "source": []
  },
  {
   "cell_type": "code",
   "execution_count": null,
   "metadata": {},
   "outputs": [],
   "source": []
  }
 ],
 "metadata": {
  "kernelspec": {
   "display_name": "Python 3",
   "language": "python",
   "name": "python3"
  },
  "language_info": {
   "codemirror_mode": {
    "name": "ipython",
    "version": 3
   },
   "file_extension": ".py",
   "mimetype": "text/x-python",
   "name": "python",
   "nbconvert_exporter": "python",
   "pygments_lexer": "ipython3",
   "version": "3.6.4"
  }
 },
 "nbformat": 4,
 "nbformat_minor": 2
}
