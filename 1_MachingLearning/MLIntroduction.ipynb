{
 "cells": [
  {
   "cell_type": "markdown",
   "metadata": {},
   "source": [
    "# Roadmap\n",
    "![Roadmap](./imgs/roadmap.jpg)\n",
    "\n"
   ]
  },
  {
   "cell_type": "markdown",
   "metadata": {},
   "source": [
    "## DataSource\n",
    "1. 物聯網感測器: 時間序列、空間資料\n",
    "2. 網頁使用者資料: 很多元\n",
    "3. 網頁爬蟲: 圖片、文字\n",
    "\n",
    "## Database\n",
    "|  item    |SQL(關聯式資料庫)|NoSQL(非關聯式資料庫)|\n",
    "|:------:|:----------------:|:--------------------:|\n",
    "|特性  |易於紀錄物件關聯性|讀寫效能加，可scale up|\n",
    "|適用情境|物件關聯複雜    |物件關聯簡單(單一table可以儲存)|\n",
    "|舉例|公司內部員工管理系統、訂單管理系統|爬蟲、IOT資料|\n",
    "\n",
    "## Processing\n",
    "1. 資料標記\n",
    "    - 方式: 工讀生、Mturk\n",
    "    - 成本 vs 次數(3次或5次)\n",
    "2. 資料清洗\n",
    "    - null值\n",
    "    - join\n",
    "3. 特徵值篩選\n",
    "    \n",
    "\n",
    "## Training\n",
    "1. ML\n",
    "2. DL\n",
    "\n",
    "## Production\n",
    "1. Deployment\n",
    "2. Hardware\n",
    "3. System\n"
   ]
  },
  {
   "cell_type": "markdown",
   "metadata": {},
   "source": [
    "## 議題\n",
    "1. 資料取得有哪幾種手段?資料各有甚麼特性?\n",
    "2. 資料庫有分哪兩種類型?請分別列舉兩個資料庫品牌?兩種類型的資料庫分別有什麼好處?\n",
    "3. 甚麼樣的資料需要標記?\n",
    "4. 應採取什麼樣的標記手段?\n",
    "5. 標記是否為正確答案?"
   ]
  },
  {
   "cell_type": "markdown",
   "metadata": {},
   "source": [
    "# ML Hierachy\n",
    "![MlHierachy](./imgs/MlHierachy.jpg)"
   ]
  },
  {
   "cell_type": "markdown",
   "metadata": {},
   "source": [
    "\n"
   ]
  },
  {
   "cell_type": "code",
   "execution_count": null,
   "metadata": {},
   "outputs": [],
   "source": []
  }
 ],
 "metadata": {
  "kernelspec": {
   "display_name": "Python 3",
   "language": "python",
   "name": "python3"
  },
  "language_info": {
   "codemirror_mode": {
    "name": "ipython",
    "version": 3
   },
   "file_extension": ".py",
   "mimetype": "text/x-python",
   "name": "python",
   "nbconvert_exporter": "python",
   "pygments_lexer": "ipython3",
   "version": "3.6.4"
  }
 },
 "nbformat": 4,
 "nbformat_minor": 2
}
