{
 "cells": [
  {
   "cell_type": "markdown",
   "metadata": {
    "deletable": true,
    "editable": true
   },
   "source": [
    "# 前處理-資料清理\n",
    "1. missing data\n",
    "    - 平均值、標準差、屆在平均值與標準差之間的亂數\n",
    "    \n",
    "2. range差異過大的資料\n",
    "    - 偵測(identity): PCA\n",
    "    \n",
    "    - 處理: 取log e.g. 10^1 => 1, 10^6 => 6\n",
    "    \n",
    "4. 資料不一致的問題\n",
    "    - domain knowledge e.g. 年紀為負的\n",
    "    \n",
    "5. 正規化(Normalize)\n",
    "    - L1 Norm(穩定: 水平調整較少): \n",
    "        - $\\|𝑥\\|_{1𝑖} = \\dfrac{𝑥_𝑖}{\\sum{|𝑥_𝑖|}}$\n",
    "    - L2 Norm(強健: 較能對抗outlier): \n",
    "        - $\\|𝑥\\|_{2𝑖}=\\dfrac{𝑥_𝑖}{\\sqrt{(\\sum{𝑥_𝑖^2)}}}$\n",
    "    - Norm to 0 ~ 1\n",
    "        - $\\|𝑥\\|=\\dfrac{𝑥_𝑖 - min(x)}{ max(x) - min(x)}$\n",
    "\n",
    "6. 類別型資料的處理\n",
    "    - 自然語言(NLP): 先轉成類別型資料\n",
    "    - onehot encoding\n",
    "    \n",
    "| 0 | 1 | 2 |\n",
    "|---|---|---|\n",
    "|[1,0,0]|[0,1,0]|[0,0,1]|\n",
    "\n",
    "7. Feature 產生工具\n",
    "    - PolynomialFeatures: (𝑋_1, 𝑋_2)=> (1, 𝑋_1, 𝑋_2, 𝑋_1^2, 𝑋_1 𝑋_2, 𝑋_2^2)\n",
    "    \n",
    "8. 議題:\n",
    "    - 請問取log與normalize有什麼差別?\n"
   ]
  },
  {
   "cell_type": "markdown",
   "metadata": {
    "deletable": true,
    "editable": true
   },
   "source": [
    "# IMPORT & DATA"
   ]
  },
  {
   "cell_type": "code",
   "execution_count": 103,
   "metadata": {
    "collapsed": true,
    "deletable": true,
    "editable": true
   },
   "outputs": [],
   "source": [
    "import pandas as pd\n",
    "import numpy as np\n",
    "from collections import Counter\n",
    "import re\n",
    "import numpy as np\n",
    "\n",
    "from sklearn import preprocessing\n",
    "\n",
    "import matplotlib.pyplot as plt\n",
    "from mpl_toolkits.mplot3d import Axes3D\n",
    "from sklearn.decomposition import PCA\n",
    "\n",
    "import os \n",
    "import random\n",
    "import math"
   ]
  },
  {
   "cell_type": "code",
   "execution_count": 104,
   "metadata": {
    "collapsed": false,
    "deletable": true,
    "editable": true
   },
   "outputs": [
    {
     "name": "stdout",
     "output_type": "stream",
     "text": [
      "<class 'pandas.core.frame.DataFrame'>\n",
      "RangeIndex: 891 entries, 0 to 890\n",
      "Data columns (total 12 columns):\n",
      "PassengerId    891 non-null int64\n",
      "Survived       891 non-null int64\n",
      "Pclass         891 non-null int64\n",
      "Name           891 non-null object\n",
      "Sex            891 non-null object\n",
      "Age            714 non-null float64\n",
      "SibSp          891 non-null int64\n",
      "Parch          891 non-null int64\n",
      "Ticket         891 non-null object\n",
      "Fare           891 non-null float64\n",
      "Cabin          204 non-null object\n",
      "Embarked       889 non-null object\n",
      "dtypes: float64(2), int64(5), object(5)\n",
      "memory usage: 83.6+ KB\n"
     ]
    }
   ],
   "source": [
    "df = pd.read_csv('train.csv')\n",
    "\n",
    "# 請查看df.info()\n",
    "# 並找出共有幾種型別，以及哪一些欄位有null值\n",
    "#=============your works starts===============#\n",
    "df_info = df.info()\n",
    "#==============your works ends================#"
   ]
  },
  {
   "cell_type": "code",
   "execution_count": 105,
   "metadata": {
    "collapsed": false,
    "deletable": true,
    "editable": true
   },
   "outputs": [
    {
     "data": {
      "text/html": [
       "<div>\n",
       "<style>\n",
       "    .dataframe thead tr:only-child th {\n",
       "        text-align: right;\n",
       "    }\n",
       "\n",
       "    .dataframe thead th {\n",
       "        text-align: left;\n",
       "    }\n",
       "\n",
       "    .dataframe tbody tr th {\n",
       "        vertical-align: top;\n",
       "    }\n",
       "</style>\n",
       "<table border=\"1\" class=\"dataframe\">\n",
       "  <thead>\n",
       "    <tr style=\"text-align: right;\">\n",
       "      <th></th>\n",
       "      <th>PassengerId</th>\n",
       "      <th>Survived</th>\n",
       "      <th>Pclass</th>\n",
       "      <th>Age</th>\n",
       "      <th>SibSp</th>\n",
       "      <th>Parch</th>\n",
       "      <th>Fare</th>\n",
       "    </tr>\n",
       "  </thead>\n",
       "  <tbody>\n",
       "    <tr>\n",
       "      <th>count</th>\n",
       "      <td>891.000000</td>\n",
       "      <td>891.000000</td>\n",
       "      <td>891.000000</td>\n",
       "      <td>714.000000</td>\n",
       "      <td>891.000000</td>\n",
       "      <td>891.000000</td>\n",
       "      <td>891.000000</td>\n",
       "    </tr>\n",
       "    <tr>\n",
       "      <th>mean</th>\n",
       "      <td>446.000000</td>\n",
       "      <td>0.383838</td>\n",
       "      <td>2.308642</td>\n",
       "      <td>29.699118</td>\n",
       "      <td>0.523008</td>\n",
       "      <td>0.381594</td>\n",
       "      <td>32.204208</td>\n",
       "    </tr>\n",
       "    <tr>\n",
       "      <th>std</th>\n",
       "      <td>257.353842</td>\n",
       "      <td>0.486592</td>\n",
       "      <td>0.836071</td>\n",
       "      <td>14.526497</td>\n",
       "      <td>1.102743</td>\n",
       "      <td>0.806057</td>\n",
       "      <td>49.693429</td>\n",
       "    </tr>\n",
       "    <tr>\n",
       "      <th>min</th>\n",
       "      <td>1.000000</td>\n",
       "      <td>0.000000</td>\n",
       "      <td>1.000000</td>\n",
       "      <td>0.420000</td>\n",
       "      <td>0.000000</td>\n",
       "      <td>0.000000</td>\n",
       "      <td>0.000000</td>\n",
       "    </tr>\n",
       "    <tr>\n",
       "      <th>25%</th>\n",
       "      <td>223.500000</td>\n",
       "      <td>0.000000</td>\n",
       "      <td>2.000000</td>\n",
       "      <td>20.125000</td>\n",
       "      <td>0.000000</td>\n",
       "      <td>0.000000</td>\n",
       "      <td>7.910400</td>\n",
       "    </tr>\n",
       "    <tr>\n",
       "      <th>50%</th>\n",
       "      <td>446.000000</td>\n",
       "      <td>0.000000</td>\n",
       "      <td>3.000000</td>\n",
       "      <td>28.000000</td>\n",
       "      <td>0.000000</td>\n",
       "      <td>0.000000</td>\n",
       "      <td>14.454200</td>\n",
       "    </tr>\n",
       "    <tr>\n",
       "      <th>75%</th>\n",
       "      <td>668.500000</td>\n",
       "      <td>1.000000</td>\n",
       "      <td>3.000000</td>\n",
       "      <td>38.000000</td>\n",
       "      <td>1.000000</td>\n",
       "      <td>0.000000</td>\n",
       "      <td>31.000000</td>\n",
       "    </tr>\n",
       "    <tr>\n",
       "      <th>max</th>\n",
       "      <td>891.000000</td>\n",
       "      <td>1.000000</td>\n",
       "      <td>3.000000</td>\n",
       "      <td>80.000000</td>\n",
       "      <td>8.000000</td>\n",
       "      <td>6.000000</td>\n",
       "      <td>512.329200</td>\n",
       "    </tr>\n",
       "  </tbody>\n",
       "</table>\n",
       "</div>"
      ],
      "text/plain": [
       "       PassengerId    Survived      Pclass         Age       SibSp  \\\n",
       "count   891.000000  891.000000  891.000000  714.000000  891.000000   \n",
       "mean    446.000000    0.383838    2.308642   29.699118    0.523008   \n",
       "std     257.353842    0.486592    0.836071   14.526497    1.102743   \n",
       "min       1.000000    0.000000    1.000000    0.420000    0.000000   \n",
       "25%     223.500000    0.000000    2.000000   20.125000    0.000000   \n",
       "50%     446.000000    0.000000    3.000000   28.000000    0.000000   \n",
       "75%     668.500000    1.000000    3.000000   38.000000    1.000000   \n",
       "max     891.000000    1.000000    3.000000   80.000000    8.000000   \n",
       "\n",
       "            Parch        Fare  \n",
       "count  891.000000  891.000000  \n",
       "mean     0.381594   32.204208  \n",
       "std      0.806057   49.693429  \n",
       "min      0.000000    0.000000  \n",
       "25%      0.000000    7.910400  \n",
       "50%      0.000000   14.454200  \n",
       "75%      0.000000   31.000000  \n",
       "max      6.000000  512.329200  "
      ]
     },
     "execution_count": 105,
     "metadata": {},
     "output_type": "execute_result"
    }
   ],
   "source": [
    "# 請查看df.describe()\n",
    "# 請透過mean關注每一個變數的scale\n",
    "#=============your works starts===============#\n",
    "df_describe = df.describe()\n",
    "#==============your works ends================#\n",
    "df_describe"
   ]
  },
  {
   "cell_type": "code",
   "execution_count": 106,
   "metadata": {
    "collapsed": false,
    "deletable": true,
    "editable": true
   },
   "outputs": [
    {
     "data": {
      "text/html": [
       "<div>\n",
       "<style>\n",
       "    .dataframe thead tr:only-child th {\n",
       "        text-align: right;\n",
       "    }\n",
       "\n",
       "    .dataframe thead th {\n",
       "        text-align: left;\n",
       "    }\n",
       "\n",
       "    .dataframe tbody tr th {\n",
       "        vertical-align: top;\n",
       "    }\n",
       "</style>\n",
       "<table border=\"1\" class=\"dataframe\">\n",
       "  <thead>\n",
       "    <tr style=\"text-align: right;\">\n",
       "      <th></th>\n",
       "      <th>PassengerId</th>\n",
       "      <th>Survived</th>\n",
       "      <th>Pclass</th>\n",
       "      <th>Name</th>\n",
       "      <th>Sex</th>\n",
       "      <th>Age</th>\n",
       "      <th>SibSp</th>\n",
       "      <th>Parch</th>\n",
       "      <th>Ticket</th>\n",
       "      <th>Fare</th>\n",
       "      <th>Cabin</th>\n",
       "      <th>Embarked</th>\n",
       "    </tr>\n",
       "  </thead>\n",
       "  <tbody>\n",
       "    <tr>\n",
       "      <th>0</th>\n",
       "      <td>1</td>\n",
       "      <td>0</td>\n",
       "      <td>3</td>\n",
       "      <td>Braund, Mr. Owen Harris</td>\n",
       "      <td>male</td>\n",
       "      <td>22.0</td>\n",
       "      <td>1</td>\n",
       "      <td>0</td>\n",
       "      <td>A/5 21171</td>\n",
       "      <td>7.2500</td>\n",
       "      <td>NaN</td>\n",
       "      <td>S</td>\n",
       "    </tr>\n",
       "    <tr>\n",
       "      <th>1</th>\n",
       "      <td>2</td>\n",
       "      <td>1</td>\n",
       "      <td>1</td>\n",
       "      <td>Cumings, Mrs. John Bradley (Florence Briggs Th...</td>\n",
       "      <td>female</td>\n",
       "      <td>38.0</td>\n",
       "      <td>1</td>\n",
       "      <td>0</td>\n",
       "      <td>PC 17599</td>\n",
       "      <td>71.2833</td>\n",
       "      <td>C85</td>\n",
       "      <td>C</td>\n",
       "    </tr>\n",
       "    <tr>\n",
       "      <th>2</th>\n",
       "      <td>3</td>\n",
       "      <td>1</td>\n",
       "      <td>3</td>\n",
       "      <td>Heikkinen, Miss. Laina</td>\n",
       "      <td>female</td>\n",
       "      <td>26.0</td>\n",
       "      <td>0</td>\n",
       "      <td>0</td>\n",
       "      <td>STON/O2. 3101282</td>\n",
       "      <td>7.9250</td>\n",
       "      <td>NaN</td>\n",
       "      <td>S</td>\n",
       "    </tr>\n",
       "    <tr>\n",
       "      <th>3</th>\n",
       "      <td>4</td>\n",
       "      <td>1</td>\n",
       "      <td>1</td>\n",
       "      <td>Futrelle, Mrs. Jacques Heath (Lily May Peel)</td>\n",
       "      <td>female</td>\n",
       "      <td>35.0</td>\n",
       "      <td>1</td>\n",
       "      <td>0</td>\n",
       "      <td>113803</td>\n",
       "      <td>53.1000</td>\n",
       "      <td>C123</td>\n",
       "      <td>S</td>\n",
       "    </tr>\n",
       "    <tr>\n",
       "      <th>4</th>\n",
       "      <td>5</td>\n",
       "      <td>0</td>\n",
       "      <td>3</td>\n",
       "      <td>Allen, Mr. William Henry</td>\n",
       "      <td>male</td>\n",
       "      <td>35.0</td>\n",
       "      <td>0</td>\n",
       "      <td>0</td>\n",
       "      <td>373450</td>\n",
       "      <td>8.0500</td>\n",
       "      <td>NaN</td>\n",
       "      <td>S</td>\n",
       "    </tr>\n",
       "  </tbody>\n",
       "</table>\n",
       "</div>"
      ],
      "text/plain": [
       "   PassengerId  Survived  Pclass  \\\n",
       "0            1         0       3   \n",
       "1            2         1       1   \n",
       "2            3         1       3   \n",
       "3            4         1       1   \n",
       "4            5         0       3   \n",
       "\n",
       "                                                Name     Sex   Age  SibSp  \\\n",
       "0                            Braund, Mr. Owen Harris    male  22.0      1   \n",
       "1  Cumings, Mrs. John Bradley (Florence Briggs Th...  female  38.0      1   \n",
       "2                             Heikkinen, Miss. Laina  female  26.0      0   \n",
       "3       Futrelle, Mrs. Jacques Heath (Lily May Peel)  female  35.0      1   \n",
       "4                           Allen, Mr. William Henry    male  35.0      0   \n",
       "\n",
       "   Parch            Ticket     Fare Cabin Embarked  \n",
       "0      0         A/5 21171   7.2500   NaN        S  \n",
       "1      0          PC 17599  71.2833   C85        C  \n",
       "2      0  STON/O2. 3101282   7.9250   NaN        S  \n",
       "3      0            113803  53.1000  C123        S  \n",
       "4      0            373450   8.0500   NaN        S  "
      ]
     },
     "execution_count": 106,
     "metadata": {},
     "output_type": "execute_result"
    }
   ],
   "source": [
    "#請透過head()查看df的頭5行\n",
    "#=============your works starts===============#\n",
    "df_head = df.head()\n",
    "#==============your works ends================#\n",
    "\n",
    "df_head"
   ]
  },
  {
   "cell_type": "markdown",
   "metadata": {
    "deletable": true,
    "editable": true
   },
   "source": [
    "# PREPROCESSING"
   ]
  },
  {
   "cell_type": "markdown",
   "metadata": {
    "deletable": true,
    "editable": true
   },
   "source": [
    "## Age - Fill in missing values"
   ]
  },
  {
   "cell_type": "code",
   "execution_count": 107,
   "metadata": {
    "collapsed": false,
    "deletable": true,
    "editable": true
   },
   "outputs": [
    {
     "data": {
      "image/png": "[encoded data removed]",
      "text/plain": [
       "<matplotlib.figure.Figure at 0x2bfc5a6c438>"
      ]
     },
     "metadata": {},
     "output_type": "display_data"
    }
   ],
   "source": [
    "# 查看Age的分布狀況(hint: plot(), kind='hist')\n",
    "#=============your works starts===============#\n",
    "age_ax = df['Age'].plot('hist')\n",
    "#==============your works ends================#\n",
    "\n",
    "plt.show()"
   ]
  },
  {
   "cell_type": "code",
   "execution_count": 108,
   "metadata": {
    "collapsed": false,
    "deletable": true,
    "editable": true
   },
   "outputs": [
    {
     "name": "stdout",
     "output_type": "stream",
     "text": [
      "avg_age 29.6991176471\n"
     ]
    }
   ],
   "source": [
    "# 作法一: 取平均值\n",
    "#=============your works starts===============#\n",
    "avg_age = df['Age'].mean() \n",
    "#==============your works ends================#\n",
    "\n",
    "\n",
    "print(\"avg_age\", avg_age) \n",
    "# avg_age 29.69911764705882"
   ]
  },
  {
   "cell_type": "code",
   "execution_count": 109,
   "metadata": {
    "collapsed": false,
    "deletable": true,
    "editable": true
   },
   "outputs": [
    {
     "name": "stdout",
     "output_type": "stream",
     "text": [
      "median_age 28.0\n"
     ]
    }
   ],
   "source": [
    "# 作法二: 取中位數\n",
    "#=============your works starts===============#\n",
    "median_age = df['Age'].median()\n",
    "#==============your works ends================#\n",
    "\n",
    "\n",
    "print(\"median_age\", median_age) \n",
    "# median_age 28.0"
   ]
  },
  {
   "cell_type": "code",
   "execution_count": 110,
   "metadata": {
    "collapsed": false,
    "deletable": true,
    "editable": true,
    "scrolled": true
   },
   "outputs": [
    {
     "name": "stdout",
     "output_type": "stream",
     "text": [
      "random_age [23 41 37 17 31 20 28 24 16 42 33 19 22 20 29 15 32 16 35 40 35 34 26 27 37\n",
      " 28 30 23 31 33 42 30 25 21 29 15 21 16 39 39 21 31 31 37 31 30 23 41 30 35\n",
      " 33 21 31 28 39 37 31 29 29 40 16 43 20 29 36 22 27 41 32 24 35 23 29 43 33\n",
      " 43 31 34 34 28 27 40 29 35 27 20 40 37 16 29 29 39 20 17 20 35 24 42 34 33\n",
      " 26 38 42 31 30 40 34 16 35 16 34 24 43 29 22 29 20 43 29 38 37 39 35 42 40\n",
      " 19 32 17 25 36 15 26 31 23 19 24 34 39 39 19 17 28 16 35 20 16 29 18 34 43\n",
      " 16 28 30 42 27 25 36 19 22 43 37 38 30 15 32 38 41 21 26 33 20 19 21 29 40\n",
      " 30 28]\n",
      "len(random_age) 177\n"
     ]
    }
   ],
   "source": [
    "# 作法三: 用相同的分布產生亂數塞入(hint:使用np.random.randint, min: mean - std, max: mean + std)\n",
    "np.random.seed(1212)\n",
    "#=============your works starts===============#\n",
    "std = df['Age'].std()\n",
    "mean = df['Age'].mean()\n",
    "size = sum(pd.isnull(df['Age']))\n",
    "random_age = np.random.randint(mean - std, mean + std, size=size)\n",
    "#==============your works ends================#\n",
    "\n",
    "\n",
    "print(\"random_age\", random_age) \n",
    "print(\"len(random_age)\", len(random_age)) \n",
    "# random_age [23 41 37 17 31 20 28 24 16 42 33 19 22 20 29 15 32 16 35 40 35 34 26 27\n",
    "# len(random_age) 177"
   ]
  },
  {
   "cell_type": "code",
   "execution_count": 111,
   "metadata": {
    "collapsed": false,
    "deletable": true,
    "editable": true
   },
   "outputs": [
    {
     "data": {
      "text/html": [
       "<div>\n",
       "<style>\n",
       "    .dataframe thead tr:only-child th {\n",
       "        text-align: right;\n",
       "    }\n",
       "\n",
       "    .dataframe thead th {\n",
       "        text-align: left;\n",
       "    }\n",
       "\n",
       "    .dataframe tbody tr th {\n",
       "        vertical-align: top;\n",
       "    }\n",
       "</style>\n",
       "<table border=\"1\" class=\"dataframe\">\n",
       "  <thead>\n",
       "    <tr style=\"text-align: right;\">\n",
       "      <th></th>\n",
       "      <th>avg_age</th>\n",
       "      <th>median_age</th>\n",
       "      <th>random_age</th>\n",
       "    </tr>\n",
       "  </thead>\n",
       "  <tbody>\n",
       "    <tr>\n",
       "      <th>5</th>\n",
       "      <td>29.699118</td>\n",
       "      <td>28.0</td>\n",
       "      <td>23.0</td>\n",
       "    </tr>\n",
       "    <tr>\n",
       "      <th>17</th>\n",
       "      <td>29.699118</td>\n",
       "      <td>28.0</td>\n",
       "      <td>41.0</td>\n",
       "    </tr>\n",
       "    <tr>\n",
       "      <th>19</th>\n",
       "      <td>29.699118</td>\n",
       "      <td>28.0</td>\n",
       "      <td>37.0</td>\n",
       "    </tr>\n",
       "    <tr>\n",
       "      <th>26</th>\n",
       "      <td>29.699118</td>\n",
       "      <td>28.0</td>\n",
       "      <td>17.0</td>\n",
       "    </tr>\n",
       "    <tr>\n",
       "      <th>28</th>\n",
       "      <td>29.699118</td>\n",
       "      <td>28.0</td>\n",
       "      <td>31.0</td>\n",
       "    </tr>\n",
       "  </tbody>\n",
       "</table>\n",
       "</div>"
      ],
      "text/plain": [
       "      avg_age  median_age  random_age\n",
       "5   29.699118        28.0        23.0\n",
       "17  29.699118        28.0        41.0\n",
       "19  29.699118        28.0        37.0\n",
       "26  29.699118        28.0        17.0\n",
       "28  29.699118        28.0        31.0"
      ]
     },
     "execution_count": 111,
     "metadata": {},
     "output_type": "execute_result"
    }
   ],
   "source": [
    "df['avg_age'] = df['Age']\n",
    "df.loc[pd.isnull(df['Age']), 'avg_age'] = avg_age\n",
    "df['median_age'] = df['Age']\n",
    "df.loc[pd.isnull(df['Age']), 'median_age'] = median_age\n",
    "df['random_age'] = df['Age']\n",
    "df.loc[pd.isnull(df['Age']), 'random_age'] = random_age\n",
    "\n",
    "df.loc[pd.isnull(df['Age']), ['avg_age', 'median_age', 'random_age']].head()"
   ]
  },
  {
   "cell_type": "markdown",
   "metadata": {
    "deletable": true,
    "editable": true
   },
   "source": [
    "## Age - Normalize\n",
    "- L1 Normalization: $|| x ||_2 = \\sqrt{\\left(\\sum_i x_i^2\\right)} = \\sqrt{x_1^2 + x_2^2 + \\ldots + x_i^2}$\n",
    "- L2 Normalization: $|| x ||_1 = \\sum_i |x_i| = |x_1| + |x_2| + \\ldots + |x_i|$\n",
    "- difference\n",
    "![l1_l2_norm](./imgs/l1_l2_norm.png)\n",
    "![normalize_dif](./imgs/normalize_dif.jpg)\n",
    "\n",
    "- quote\n",
    "> L1是蓝色的线，L2是红色的线，很明显，L1的分布对极端值更能容忍。那么如果数据损失项使用L1 Norm，很明显，L1 Norm对outlier没有L2 Norm那么敏感；如果正则化损失项使用L1的话，那么使学习到的参数倾向于稀疏，使用L2 Norm则没有这种倾向。\n",
    "> \n",
    "> 实践中，根据Quaro的data scientist Xavier Amatriain 的经验，实际应用过程中，L1 nrom几乎没有比L2 norm表现好的时候，优先使用L2 norm是比较好的选择。\n",
    "> \n",
    "> \n",
    "> 作者：知乎用户\n",
    "> 链接：https://www.zhihu.com/question/26485586/answer/89215997\n",
    "> 来源：知乎\n",
    "> 著作权归作者所有。商业转载请联系作者获得授权，非商业转载请注明出处。"
   ]
  },
  {
   "cell_type": "code",
   "execution_count": 112,
   "metadata": {
    "collapsed": false,
    "deletable": true,
    "editable": true
   },
   "outputs": [
    {
     "name": "stdout",
     "output_type": "stream",
     "text": [
      "[[ 0.125 -0.125  0.25 ]\n",
      " [ 0.25   0.     0.   ]\n",
      " [ 0.     0.125 -0.125]]\n"
     ]
    }
   ],
   "source": [
    "# 請寫出L1 Normaliaze的function\n",
    "def normalize_l1(X):\n",
    "    \"\"\"if type(X) == np.array, and X has two dimensiions\"\"\"\n",
    "    #=============your works starts===============#\n",
    "    l1_x = np.sum(np.abs(X))\n",
    "    X = X / l1_x\n",
    "    #==============your works ends================#\n",
    "    return X\n",
    "\n",
    "X = [[ 1., -1.,  2.],\n",
    "     [ 2.,  0.,  0.],\n",
    "     [ 0.,  1., -1.]]\n",
    "X_normalized = normalize_l1(X)\n",
    "print(X_normalized)\n",
    "# [[ 0.125 -0.125  0.25 ]\n",
    "#  [ 0.25   0.     0.   ]\n",
    "#  [ 0.     0.125 -0.125]]"
   ]
  },
  {
   "cell_type": "code",
   "execution_count": 113,
   "metadata": {
    "collapsed": false,
    "deletable": true,
    "editable": true
   },
   "outputs": [
    {
     "name": "stdout",
     "output_type": "stream",
     "text": [
      "[[ 0.28867513 -0.28867513  0.57735027]\n",
      " [ 0.57735027  0.          0.        ]\n",
      " [ 0.          0.28867513 -0.28867513]]\n"
     ]
    }
   ],
   "source": [
    "# 請寫出L2 Normaliaze的function\n",
    "def normalize_l2(X):\n",
    "    \"\"\"if type(X) == np.array, and X has two dimensiions\"\"\"\n",
    "    #=============your works starts===============#\n",
    "    l2_x = np.sqrt(np.sum(np.square(X)))\n",
    "    X = X / l2_x\n",
    "    #==============your works ends================#\n",
    "    return X\n",
    "\n",
    "X_normalized = normalize_l2(X)\n",
    "print(X_normalized)\n",
    "# [[ 0.28867513 -0.28867513  0.57735027]\n",
    "#  [ 0.57735027  0.          0.        ]\n",
    "#  [ 0.          0.28867513 -0.28867513]]"
   ]
  },
  {
   "cell_type": "code",
   "execution_count": 114,
   "metadata": {
    "collapsed": false,
    "deletable": true,
    "editable": true
   },
   "outputs": [
    {
     "name": "stdout",
     "output_type": "stream",
     "text": [
      "[[ 0.66666667  0.          1.        ]\n",
      " [ 1.          0.33333333  0.33333333]\n",
      " [ 0.33333333  0.66666667  0.        ]]\n"
     ]
    }
   ],
   "source": [
    "# 請寫出L2 Normaliaze的function\n",
    "def normalize_to_01(X):\n",
    "    \"\"\"if type(X) == np.array, and X has two dimensiions\"\"\"\n",
    "    #=============your works starts===============#\n",
    "    min_x = np.min(X)\n",
    "    max_x = np.max(X)\n",
    "    X = (X - min_x) / (max_x - min_x)\n",
    "    #==============your works ends================#\n",
    "    return X\n",
    "\n",
    "X_normalized = normalize_to_01(X)\n",
    "print(X_normalized)\n",
    "# [[ 0.66666667  0.          1.        ]\n",
    "#  [ 1.          0.33333333  0.33333333]\n",
    "#  [ 0.33333333  0.66666667  0.        ]"
   ]
  },
  {
   "cell_type": "code",
   "execution_count": 115,
   "metadata": {
    "collapsed": false,
    "deletable": true,
    "editable": true
   },
   "outputs": [
    {
     "name": "stdout",
     "output_type": "stream",
     "text": [
      "[[ 0.125 -0.125  0.25 ]\n",
      " [ 0.25   0.     0.   ]\n",
      " [ 0.     0.125 -0.125]]\n",
      "[[ 0.25 -0.25  0.5 ]\n",
      " [ 1.    0.    0.  ]\n",
      " [ 0.    0.5  -0.5 ]]\n"
     ]
    }
   ],
   "source": [
    "X = [[ 1., -1.,  2.],\n",
    "     [ 2.,  0.,  0.],\n",
    "     [ 0.,  1., -1.]]\n",
    "\n",
    "# 請使用preprocessing.normalize(X, norm='l1')比較，與我們自己寫的normalize function有什麼不同\n",
    "#=============your works starts===============#\n",
    "X_normalized_self = normalize_l1(X)\n",
    "X_normalized_sklearn = preprocessing.normalize(X, norm='l1')\n",
    "#==============your works ends================#\n",
    "\n",
    "print(X_normalized_self)\n",
    "print(X_normalized_sklearn)\n",
    "# sklearn l1_norm\n",
    "# [[ 0.25 -0.25  0.5 ]\n",
    "#  [ 1.    0.    0.  ]\n",
    "#  [ 0.    0.5  -0.5 ]]\n"
   ]
  },
  {
   "cell_type": "code",
   "execution_count": 116,
   "metadata": {
    "collapsed": false,
    "deletable": true,
    "editable": true
   },
   "outputs": [
    {
     "name": "stdout",
     "output_type": "stream",
     "text": [
      "[[1.0, -1.0, 2.0], [2.0, 0.0, 0.0], [0.0, 1.0, -1.0]]\n",
      "[ -1.43638329e-05   4.24012935e-06  -6.12250660e-06  -9.84403933e-06\n",
      "   3.03358312e-06  -8.93088379e-06  -1.20144384e-05   1.79565054e-05\n",
      "  -1.22607593e-05   7.51196287e-06]\n",
      "[-0.00362154  0.00106906 -0.00154366 -0.00248197  0.00076485 -0.00225173\n",
      " -0.00302919  0.00452735 -0.00309129  0.00189398]\n"
     ]
    }
   ],
   "source": [
    "print(X[:10])\n",
    "print(X_norm_l1[:10])\n",
    "print(X_norm_l2[:10])"
   ]
  },
  {
   "cell_type": "code",
   "execution_count": 117,
   "metadata": {
    "collapsed": false,
    "deletable": true,
    "editable": true
   },
   "outputs": [],
   "source": [
    "# X = np.random.normal(size=100000)\n",
    "# X_norm_l1 = normalize_l1(X)\n",
    "# X_norm_l2 = normalize_l2(X)\n",
    "# fig, (ax1, ax2, ax3) = plt.subplots(3, 1, figsize=(5, 10))\n",
    "\n",
    "# ax1.hist(X, bins=60, alpha=0.5, histtype='step', label='X')\n",
    "# ax2.hist(X_norm_l1, bins=60, alpha=0.5, histtype='step', label='X_norm_l1')\n",
    "# ax3.hist(X_norm_l2, bins=60, alpha=0.5, histtype='step', label='X_norm_l2')\n",
    "# plt.show()"
   ]
  },
  {
   "cell_type": "code",
   "execution_count": 118,
   "metadata": {
    "collapsed": false,
    "deletable": true,
    "editable": true
   },
   "outputs": [
    {
     "data": {
      "text/html": [
       "<div>\n",
       "<style>\n",
       "    .dataframe thead tr:only-child th {\n",
       "        text-align: right;\n",
       "    }\n",
       "\n",
       "    .dataframe thead th {\n",
       "        text-align: left;\n",
       "    }\n",
       "\n",
       "    .dataframe tbody tr th {\n",
       "        vertical-align: top;\n",
       "    }\n",
       "</style>\n",
       "<table border=\"1\" class=\"dataframe\">\n",
       "  <thead>\n",
       "    <tr style=\"text-align: right;\">\n",
       "      <th></th>\n",
       "      <th>avg_age</th>\n",
       "      <th>avg_age_l1</th>\n",
       "      <th>avg_age_l2</th>\n",
       "      <th>avg_age_01</th>\n",
       "    </tr>\n",
       "  </thead>\n",
       "  <tbody>\n",
       "    <tr>\n",
       "      <th>0</th>\n",
       "      <td>22.0</td>\n",
       "      <td>0.000831</td>\n",
       "      <td>0.022735</td>\n",
       "      <td>0.271174</td>\n",
       "    </tr>\n",
       "    <tr>\n",
       "      <th>1</th>\n",
       "      <td>38.0</td>\n",
       "      <td>0.001436</td>\n",
       "      <td>0.039270</td>\n",
       "      <td>0.472229</td>\n",
       "    </tr>\n",
       "    <tr>\n",
       "      <th>2</th>\n",
       "      <td>26.0</td>\n",
       "      <td>0.000983</td>\n",
       "      <td>0.026869</td>\n",
       "      <td>0.321438</td>\n",
       "    </tr>\n",
       "    <tr>\n",
       "      <th>3</th>\n",
       "      <td>35.0</td>\n",
       "      <td>0.001323</td>\n",
       "      <td>0.036170</td>\n",
       "      <td>0.434531</td>\n",
       "    </tr>\n",
       "    <tr>\n",
       "      <th>4</th>\n",
       "      <td>35.0</td>\n",
       "      <td>0.001323</td>\n",
       "      <td>0.036170</td>\n",
       "      <td>0.434531</td>\n",
       "    </tr>\n",
       "  </tbody>\n",
       "</table>\n",
       "</div>"
      ],
      "text/plain": [
       "   avg_age  avg_age_l1  avg_age_l2  avg_age_01\n",
       "0     22.0    0.000831    0.022735    0.271174\n",
       "1     38.0    0.001436    0.039270    0.472229\n",
       "2     26.0    0.000983    0.026869    0.321438\n",
       "3     35.0    0.001323    0.036170    0.434531\n",
       "4     35.0    0.001323    0.036170    0.434531"
      ]
     },
     "execution_count": 118,
     "metadata": {},
     "output_type": "execute_result"
    }
   ],
   "source": [
    "avg_age_l1 = normalize_l1(df['avg_age'].values)\n",
    "avg_age_l2 = normalize_l2(df['avg_age'].values)\n",
    "avg_age_01 = normalize_to_01(df['avg_age'].values)\n",
    "\n",
    "df['avg_age_l1'] = avg_age_l1\n",
    "df['avg_age_l2'] = avg_age_l2\n",
    "df['avg_age_01'] = avg_age_01\n",
    "\n",
    "df[['avg_age', 'avg_age_l1', 'avg_age_l2', 'avg_age_01']].head()\n"
   ]
  },
  {
   "cell_type": "code",
   "execution_count": 119,
   "metadata": {
    "collapsed": false,
    "deletable": true,
    "editable": true
   },
   "outputs": [
    {
     "data": {
      "image/png": "[encoded data removed]",
      "text/plain": [
       "<matplotlib.figure.Figure at 0x2bfc6cc7240>"
      ]
     },
     "metadata": {},
     "output_type": "display_data"
    }
   ],
   "source": [
    "fig, ((ax1, ax2), (ax3, ax4)) = plt.subplots(2, 2, figsize=(10, 10))\n",
    "df['avg_age'].plot('hist', ax=ax1)\n",
    "df['avg_age_l1'].plot('hist', ax=ax2)\n",
    "df['avg_age_l2'].plot('hist', ax=ax3)\n",
    "df['avg_age_01'].plot('hist', ax=ax4)\n",
    "plt.show()"
   ]
  },
  {
   "cell_type": "code",
   "execution_count": 120,
   "metadata": {
    "collapsed": false,
    "deletable": true,
    "editable": true
   },
   "outputs": [
    {
     "data": {
      "image/png": "[encoded data removed]",
      "text/plain": [
       "<matplotlib.figure.Figure at 0x2bfc57b93c8>"
      ]
     },
     "metadata": {},
     "output_type": "display_data"
    }
   ],
   "source": [
    "# X = df[['avg_age', 'avg_age_l1']].values\n",
    "plt.scatter(df['avg_age'], df['avg_age_l1'])\n",
    "plt.scatter(df['avg_age'], df['avg_age_l2'])\n",
    "plt.scatter(df['avg_age'], df['avg_age_01'])\n",
    "plt.show()"
   ]
  },
  {
   "cell_type": "markdown",
   "metadata": {
    "deletable": true,
    "editable": true
   },
   "source": [
    "## Cabin - NLP category"
   ]
  },
  {
   "cell_type": "code",
   "execution_count": 121,
   "metadata": {
    "collapsed": false,
    "deletable": true,
    "editable": true
   },
   "outputs": [
    {
     "name": "stdout",
     "output_type": "stream",
     "text": [
      "[('nan', 687), ('C23 C25 C27', 4), ('B96 B98', 4), ('G6', 4), ('D', 3), ('F2', 3), ('C22 C26', 3), ('F33', 3), ('E101', 3), ('D17', 2)]\n"
     ]
    }
   ],
   "source": [
    "# 整理出每一個Cabin的個數並排序(hint:Counter(), sorted())\n",
    "#=============your works starts===============#\n",
    "sorted_cabin_counter = sorted(Counter(df['Cabin'].astype(str)).items(), key=lambda x:x[1], reverse=True)\n",
    "#==============your works ends================#\n",
    "\n",
    "\n",
    "print(sorted_cabin_counter[:10])\n",
    "# [('nan', 687), ('G6', 4), ('C23 C25 C27', 4), ('B96 B98', 4), ('F33', 3), ('E101', 3), ('F2', 3), ('D', 3), ('C22 C26', 3), ('C123', 2)]"
   ]
  },
  {
   "cell_type": "code",
   "execution_count": 122,
   "metadata": {
    "collapsed": false,
    "deletable": true,
    "editable": true
   },
   "outputs": [
    {
     "name": "stdout",
     "output_type": "stream",
     "text": [
      "{0: 'A', 1: 'B', 2: 'C'}\n"
     ]
    }
   ],
   "source": [
    "test_arr = [\"A\", \"B\", \"C\"]\n",
    "\n",
    "# enumerate的用法: 替test_arr寫上編號，並轉換成dict型別\n",
    "#=============your works starts===============#\n",
    "enumerate_res = dict([(idx, value) for idx, value in enumerate(test_arr)])\n",
    "#==============your works ends================#\n",
    "\n",
    "print(enumerate_res)"
   ]
  },
  {
   "cell_type": "code",
   "execution_count": 123,
   "metadata": {
    "collapsed": true,
    "deletable": true,
    "editable": true
   },
   "outputs": [],
   "source": [
    "# test_arr = pd.Series([\"A\", \"B\", \"C\", \"A\", \"D\", \"F\", \"B\"])\n",
    "# test_dict = dict([(value, key) for key, value in list(enumerate(sorted(set(test_arr))))])\n",
    "# test_arr.apply(test_dict.get)"
   ]
  },
  {
   "cell_type": "code",
   "execution_count": 124,
   "metadata": {
    "collapsed": false,
    "deletable": true,
    "editable": true
   },
   "outputs": [
    {
     "name": "stdout",
     "output_type": "stream",
     "text": [
      "['n' 'c' 'n' 'c' 'n' 'n' 'e' 'n' 'n' 'n']\n",
      "{'g': 0, 'n': 3, 'c': 1, 'f': 4, 'e': 2, 'd': 5, 'a': 6, 't': 7, 'b': 8}\n",
      "[3 1 3 1 3 3 2 3 3 3]\n"
     ]
    }
   ],
   "source": [
    "# 抓出第一個char出來分類，並轉成int類別(hint: enumerate)\n",
    "# new_Cabin: 抓出第一個char，轉str，轉小寫\n",
    "# mapping_dict: 找到每個開頭char所屬的編號\n",
    "# new_Cabin_int: 將char轉換成編號\n",
    "#=============your works starts===============#\n",
    "new_Cabin = df['Cabin'].astype(str).apply(lambda x:x.lower()[0])\n",
    "mapping_dict = dict([(cab, idx)for idx, cab in enumerate(set(new_Cabin))])\n",
    "new_Cabin_int = new_Cabin.apply(mapping_dict.get).values\n",
    "#==============your works ends================#\n",
    "\n",
    "\n",
    "print(new_Cabin.values[:10])\n",
    "print(mapping_dict)\n",
    "print(new_Cabin_int[:10])\n",
    "# ['n' 'c' 'n' 'c' 'n' 'n' 'e' 'n' 'n' 'n']\n",
    "# {'e': 0, 'f': 1, 'd': 2, 't': 3, 'c': 4, 'n': 5, 'b': 6, 'g': 7, 'a': 8}\n",
    "# [5 4 5 4 5 5 0 5 5 5]"
   ]
  },
  {
   "cell_type": "code",
   "execution_count": 125,
   "metadata": {
    "collapsed": false,
    "deletable": true,
    "editable": true
   },
   "outputs": [
    {
     "data": {
      "text/html": [
       "<div>\n",
       "<style>\n",
       "    .dataframe thead tr:only-child th {\n",
       "        text-align: right;\n",
       "    }\n",
       "\n",
       "    .dataframe thead th {\n",
       "        text-align: left;\n",
       "    }\n",
       "\n",
       "    .dataframe tbody tr th {\n",
       "        vertical-align: top;\n",
       "    }\n",
       "</style>\n",
       "<table border=\"1\" class=\"dataframe\">\n",
       "  <thead>\n",
       "    <tr style=\"text-align: right;\">\n",
       "      <th></th>\n",
       "      <th>Cabin</th>\n",
       "      <th>cabin_cat</th>\n",
       "    </tr>\n",
       "  </thead>\n",
       "  <tbody>\n",
       "    <tr>\n",
       "      <th>0</th>\n",
       "      <td>NaN</td>\n",
       "      <td>3</td>\n",
       "    </tr>\n",
       "    <tr>\n",
       "      <th>1</th>\n",
       "      <td>C85</td>\n",
       "      <td>1</td>\n",
       "    </tr>\n",
       "    <tr>\n",
       "      <th>2</th>\n",
       "      <td>NaN</td>\n",
       "      <td>3</td>\n",
       "    </tr>\n",
       "    <tr>\n",
       "      <th>3</th>\n",
       "      <td>C123</td>\n",
       "      <td>1</td>\n",
       "    </tr>\n",
       "    <tr>\n",
       "      <th>4</th>\n",
       "      <td>NaN</td>\n",
       "      <td>3</td>\n",
       "    </tr>\n",
       "  </tbody>\n",
       "</table>\n",
       "</div>"
      ],
      "text/plain": [
       "  Cabin  cabin_cat\n",
       "0   NaN          3\n",
       "1   C85          1\n",
       "2   NaN          3\n",
       "3  C123          1\n",
       "4   NaN          3"
      ]
     },
     "execution_count": 125,
     "metadata": {},
     "output_type": "execute_result"
    }
   ],
   "source": [
    "df['cabin_cat'] = new_Cabin_int\n",
    "df[['Cabin', 'cabin_cat']].head()"
   ]
  },
  {
   "cell_type": "markdown",
   "metadata": {
    "deletable": true,
    "editable": true
   },
   "source": [
    "## Sex - Category"
   ]
  },
  {
   "cell_type": "code",
   "execution_count": 126,
   "metadata": {
    "collapsed": false,
    "deletable": true,
    "editable": true
   },
   "outputs": [
    {
     "name": "stdout",
     "output_type": "stream",
     "text": [
      "Counter({'male': 577, 'female': 314})\n"
     ]
    }
   ],
   "source": [
    "# 請算出Sex共有幾個類別，每一個類別共出現幾次(hint:Counter)\n",
    "#=============your works starts===============#\n",
    "counter = Counter(df['Sex'])\n",
    "#==============your works ends================#\n",
    "\n",
    "\n",
    "print(counter)\n",
    "#Counter({'male': 577, 'female': 314})"
   ]
  },
  {
   "cell_type": "code",
   "execution_count": 127,
   "metadata": {
    "collapsed": false,
    "deletable": true,
    "editable": true
   },
   "outputs": [
    {
     "name": "stdout",
     "output_type": "stream",
     "text": [
      "Counter(sex_cat) Counter({1: 577, 0: 314})\n"
     ]
    }
   ],
   "source": [
    "# 創造出一個與df['Sex']等長的array，並將df['Sex']中的male換成1，female換成0\n",
    "#=============your works starts===============#\n",
    "sex_mapping = dict([(v, k) for k, v in enumerate(set(df['Sex'].astype(str)))])\n",
    "sex_cat = df['Sex'].apply(sex_mapping.get)\n",
    "#==============your works ends================#\n",
    "\n",
    "\n",
    "print(\"Counter(sex_cat)\", Counter(sex_cat))\n",
    "#Counter(sex_cat) Counter({1: 577, 0: 314})"
   ]
  },
  {
   "cell_type": "code",
   "execution_count": 128,
   "metadata": {
    "collapsed": false,
    "deletable": true,
    "editable": true
   },
   "outputs": [
    {
     "data": {
      "text/plain": [
       "Counter({0: 314, 1: 577})"
      ]
     },
     "execution_count": 128,
     "metadata": {},
     "output_type": "execute_result"
    }
   ],
   "source": [
    "df['sex_cat'] = sex_cat\n",
    "Counter(df['sex_cat'])"
   ]
  },
  {
   "cell_type": "markdown",
   "metadata": {
    "collapsed": true,
    "deletable": true,
    "editable": true
   },
   "source": [
    "## Ticket - Category"
   ]
  },
  {
   "cell_type": "code",
   "execution_count": 129,
   "metadata": {
    "collapsed": false,
    "deletable": true,
    "editable": true,
    "scrolled": true
   },
   "outputs": [
    {
     "name": "stdout",
     "output_type": "stream",
     "text": [
      "[('110152', 3), ('110413', 3), ('110465', 2), ('110564', 1), ('110813', 1), ('111240', 1), ('111320', 1), ('111361', 2), ('111369', 1), ('111426', 1), ('111427', 1), ('111428', 1), ('112050', 1), ('112052', 1), ('112053', 1), ('112058', 1), ('112059', 1), ('112277', 1), ('112379', 1), ('113028', 1), ('113043', 1), ('113050', 1), ('113051', 1), ('113055', 1), ('113056', 1), ('113059', 1), ('113501', 1), ('113503', 1), ('113505', 2), ('113509', 1), ('113510', 1), ('113514', 1), ('113572', 2), ('113760', 4), ('113767', 1), ('113773', 1), ('113776', 2), ('113781', 4), ('113783', 1), ('113784', 1), ('113786', 1), ('113787', 1), ('113788', 1), ('113789', 2), ('113792', 1), ('113794', 1), ('113796', 1), ('113798', 2), ('113800', 1), ('113803', 2), ('113804', 1), ('113806', 2), ('113807', 1), ('11668', 2), ('11751', 2), ('11752', 1), ('11753', 1), ('11755', 1), ('11765', 1), ('11767', 2), ('11769', 1), ('11771', 1), ('11774', 1), ('11813', 1), ('11967', 2), ('12233', 1), ('12460', 1), ('12749', 2), ('13049', 1), ('13213', 1), ('13214', 1), ('13502', 3), ('13507', 2), ('13509', 1), ('13567', 1), ('13568', 1), ('14311', 1), ('14312', 1), ('14313', 1), ('14973', 1), ('1601', 7), ('16966', 2), ('16988', 1), ('17421', 4), ('17453', 2), ('17463', 1), ('17464', 1), ('17465', 1), ('17466', 1), ('17474', 2), ('17764', 1), ('19877', 2), ('19928', 2), ('19943', 2), ('19947', 1), ('19950', 4), ('19952', 1), ('19972', 1), ('19988', 1), ('19996', 2), ('2003', 1), ('211536', 1), ('21440', 1), ('218629', 1), ('219533', 1), ('220367', 1), ('220845', 2), ('2223', 1), ('223596', 1), ('226593', 1), ('226875', 1), ('228414', 1), ('229236', 1), ('230080', 3), ('230136', 2), ('230433', 2), ('230434', 1), ('231919', 2), ('231945', 1), ('233639', 1), ('233866', 1), ('234360', 1), ('234604', 1), ('234686', 1), ('234818', 1), ('236171', 1), ('236852', 1), ('236853', 1), ('237442', 1), ('237565', 1), ('237668', 1), ('237671', 1), ('237736', 2), ('237789', 1), ('237798', 1), ('239853', 3), ('239854', 1), ('239855', 1), ('239856', 1), ('239865', 2), ('240929', 1), ('24160', 3), ('243847', 2), ('243880', 1), ('244252', 2), ('244270', 1), ('244278', 1), ('244310', 1), ('244358', 1), ('244361', 1), ('244367', 2), ('244373', 1), ('248698', 1), ('248706', 1), ('248723', 1), ('248727', 3), ('248731', 1), ('248733', 1), ('248738', 2), ('248740', 1), ('248747', 1), ('250643', 1), ('250644', 2), ('250646', 1), ('250647', 2), ('250648', 1), ('250649', 2), ('250651', 1), ('250652', 1), ('250653', 1), ('250655', 2), ('2620', 1), ('2623', 1), ('2624', 1), ('2625', 1), ('2626', 1), ('2627', 2), ('2628', 1), ('2629', 1), ('2631', 1), ('26360', 2), ('2641', 1), ('2647', 1), ('2648', 1), ('2649', 1), ('2650', 1), ('2651', 2), ('2653', 2), ('2659', 2), ('2661', 2), ('2662', 1), ('2663', 1), ('2664', 1), ('2665', 2), ('2666', 4), ('2667', 1), ('2668', 2), ('2669', 1), ('26707', 1), ('2671', 1), ('2672', 1), ('2674', 1), ('2677', 1), ('2678', 2), ('2680', 1), ('2683', 1), ('2685', 1), ('2686', 1), ('2687', 1), ('2689', 1), ('2690', 1), ('2691', 2), ('2693', 1), ('2694', 1), ('2695', 1), ('2697', 1), ('2699', 2), ('2700', 1), ('27042', 1), ('27267', 1), ('27849', 1), ('28134', 1), ('28206', 1), ('28213', 1), ('28220', 1), ('28228', 1), ('28403', 2), ('28424', 1), ('28425', 1), ('28551', 1), ('28664', 1), ('28665', 1), ('29011', 1), ('2908', 2), ('29103', 1), ('29104', 1), ('29105', 1), ('29106', 3), ('29108', 1), ('2926', 1), ('29750', 2), ('29751', 1), ('3101264', 1), ('3101265', 1), ('3101267', 1), ('3101276', 1), ('3101277', 1), ('3101278', 2), ('3101281', 1), ('3101295', 6), ('3101296', 1), ('3101298', 1), ('31027', 2), ('31028', 1), ('312991', 1), ('312992', 1), ('312993', 1), ('31418', 1), ('315037', 1), ('315082', 1), ('315084', 1), ('315086', 1), ('315088', 1), ('315089', 1), ('315090', 1), ('315093', 1), ('315094', 1), ('315096', 1), ('315097', 1), ('315098', 1), ('315151', 1), ('315153', 1), ('323592', 1), ('323951', 1), ('324669', 1), ('330877', 1), ('330909', 1), ('330919', 1), ('330923', 1), ('330931', 1), ('330932', 1), ('330935', 1), ('330958', 1), ('330959', 1), ('330979', 1), ('330980', 1), ('334912', 1), ('335097', 1), ('335677', 1), ('33638', 1), ('336439', 1), ('3411', 1), ('341826', 1), ('34218', 1), ('342826', 1), ('343095', 1), ('343120', 1), ('343275', 1), ('343276', 1), ('345364', 1), ('345572', 1), ('345763', 1), ('345764', 2), ('345765', 1), ('345767', 1), ('345769', 1), ('345770', 1), ('345773', 3), ('345774', 1), ('345777', 1), ('345778', 1), ('345779', 1), ('345780', 1), ('345781', 1), ('345783', 1), ('3460', 1), ('347054', 2), ('347060', 1), ('347061', 1), ('347062', 1), ('347063', 1), ('347064', 1), ('347067', 1), ('347068', 1), ('347069', 1), ('347071', 1), ('347073', 1), ('347074', 1), ('347076', 1), ('347077', 4), ('347078', 1), ('347080', 2), ('347081', 1), ('347082', 7), ('347083', 1), ('347085', 1), ('347087', 1), ('347088', 6), ('347089', 1), ('3474', 1), ('347464', 1), ('347466', 1), ('347468', 1), ('347470', 1), ('347742', 3), ('347743', 1), ('348121', 1), ('348123', 1), ('348124', 1), ('349201', 1), ('349203', 1), ('349204', 1), ('349205', 1), ('349206', 1), ('349207', 1), ('349208', 1), ('349209', 1), ('349210', 1), ('349212', 1), ('349213', 1), ('349214', 1), ('349215', 1), ('349216', 1), ('349217', 1), ('349218', 1), ('349219', 1), ('349221', 1), ('349222', 1), ('349223', 1), ('349224', 1), ('349225', 1), ('349227', 1), ('349228', 1), ('349231', 1), ('349233', 1), ('349234', 1), ('349236', 1), ('349237', 2), ('349239', 1), ('349240', 1), ('349241', 1), ('349242', 1), ('349243', 1), ('349244', 1), ('349245', 1), ('349246', 1), ('349247', 1), ('349248', 1), ('349249', 1), ('349251', 1), ('349252', 1), ('349253', 1), ('349254', 1), ('349256', 1), ('349257', 1), ('349909', 4), ('349910', 1), ('349912', 1), ('350025', 1), ('350026', 1), ('350029', 1), ('350034', 1), ('350035', 1), ('350036', 1), ('350042', 1), ('350043', 1), ('350046', 1), ('350047', 1), ('350048', 1), ('350050', 1), ('350052', 1), ('350060', 1), ('350404', 1), ('350406', 1), ('350407', 1), ('350417', 1), ('35273', 3), ('35281', 2), ('35851', 1), ('35852', 1), ('358585', 2), ('36209', 1), ('362316', 1), ('363291', 3), ('363294', 1), ('363592', 1), ('364498', 1), ('364499', 1), ('364500', 1), ('364506', 1), ('364511', 1), ('364512', 1), ('364516', 2), ('364846', 1), ('364848', 1), ('364849', 2), ('364850', 1), ('364851', 1), ('365222', 1), ('365226', 1), ('36568', 1), ('367226', 2), ('367228', 1), ('367229', 1), ('367230', 2), ('367231', 1), ('367232', 1), ('367655', 1), ('368323', 1), ('36864', 1), ('36865', 1), ('36866', 1), ('368703', 1), ('36928', 2), ('36947', 2), ('36963', 1), ('36967', 1), ('36973', 2), ('370129', 2), ('370365', 2), ('370369', 1), ('370370', 1), ('370371', 1), ('370372', 1), ('370373', 1), ('370375', 1), ('370376', 1), ('370377', 1), ('371060', 1), ('371110', 3), ('371362', 1), ('372622', 1), ('373450', 1), ('374746', 1), ('374887', 1), ('374910', 1), ('376564', 2), ('376566', 1), ('382649', 1), ('382651', 1), ('382652', 5), ('383121', 1), ('384461', 1), ('386525', 1), ('392091', 1), ('392092', 1), ('392096', 2), ('394140', 1), ('4133', 4), ('4134', 1), ('4135', 1), ('4136', 1), ('4137', 1), ('4138', 1), ('4579', 1), ('54636', 2), ('5727', 1), ('65303', 1), ('65304', 1), ('65306', 1), ('6563', 1), ('693', 1), ('695', 1), ('7267', 1), ('7534', 2), ('7540', 1), ('7545', 1), ('7546', 1), ('7552', 1), ('7553', 1), ('7598', 1), ('8471', 1), ('8475', 1), ('9234', 1), ('A./5. 2152', 1), ('A./5. 3235', 1), ('A.5. 11206', 1), ('A.5. 18509', 1), ('A/4 45380', 1), ('A/4 48871', 2), ('A/4. 20589', 1), ('A/4. 34244', 1), ('A/4. 39886', 1), ('A/5 21171', 1), ('A/5 21172', 1), ('A/5 21173', 1), ('A/5 21174', 1), ('A/5 2466', 1), ('A/5 2817', 1), ('A/5 3536', 1), ('A/5 3540', 1), ('A/5 3594', 1), ('A/5 3902', 1), ('A/5. 10482', 1), ('A/5. 13032', 1), ('A/5. 2151', 1), ('A/5. 3336', 2), ('A/5. 3337', 1), ('A/5. 851', 1), ('A/S 2816', 1), ('A4. 54510', 1), ('C 17369', 1), ('C 4001', 1), ('C 7075', 1), ('C 7076', 1), ('C 7077', 1), ('C.A. 17248', 1), ('C.A. 18723', 1), ('C.A. 2315', 2), ('C.A. 24579', 1), ('C.A. 24580', 1), ('C.A. 2673', 2), ('C.A. 29178', 1), ('C.A. 29395', 1), ('C.A. 29566', 1), ('C.A. 31026', 1), ('C.A. 31921', 3), ('C.A. 33111', 1), ('C.A. 33112', 2), ('C.A. 33595', 1), ('C.A. 34260', 1), ('C.A. 34651', 3), ('C.A. 37671', 2), ('C.A. 5547', 1), ('C.A. 6212', 1), ('C.A./SOTON 34068', 1), ('CA 2144', 6), ('CA. 2314', 1), ('CA. 2343', 7), ('F.C. 12750', 1), ('F.C.C. 13528', 1), ('F.C.C. 13529', 3), ('F.C.C. 13531', 1), ('Fa 265302', 1), ('LINE', 4), ('P/PP 3381', 2), ('PC 17318', 1), ('PC 17473', 1), ('PC 17474', 1), ('PC 17475', 1), ('PC 17476', 1), ('PC 17477', 2), ('PC 17482', 1), ('PC 17483', 1), ('PC 17485', 2), ('PC 17558', 2), ('PC 17569', 2), ('PC 17572', 3), ('PC 17582', 3), ('PC 17585', 1), ('PC 17590', 1), ('PC 17592', 1), ('PC 17593', 2), ('PC 17595', 1), ('PC 17596', 1), ('PC 17597', 1), ('PC 17599', 1), ('PC 17600', 1), ('PC 17601', 1), ('PC 17603', 1), ('PC 17604', 2), ('PC 17605', 1), ('PC 17608', 2), ('PC 17609', 1), ('PC 17610', 1), ('PC 17611', 2), ('PC 17612', 1), ('PC 17754', 1), ('PC 17755', 3), ('PC 17756', 1), ('PC 17757', 4), ('PC 17758', 2), ('PC 17759', 1), ('PC 17760', 3), ('PC 17761', 2), ('PP 4348', 1), ('PP 9549', 2), ('S.C./A.4. 23567', 1), ('S.C./PARIS 2079', 2), ('S.O./P.P. 3', 2), ('S.O./P.P. 751', 1), ('S.O.C. 14879', 5), ('S.O.P. 1166', 1), ('S.P. 3464', 1), ('S.W./PP 752', 1), ('SC 1748', 1), ('SC/AH 29037', 1), ('SC/AH 3085', 1), ('SC/AH Basle 541', 1), ('SC/PARIS 2131', 1), ('SC/PARIS 2133', 1), ('SC/PARIS 2146', 1), ('SC/PARIS 2149', 1), ('SC/PARIS 2167', 1), ('SC/Paris 2123', 3), ('SC/Paris 2163', 1), ('SCO/W 1585', 1), ('SO/C 14885', 1), ('SOTON/O.Q. 3101305', 1), ('SOTON/O.Q. 3101306', 1), ('SOTON/O.Q. 3101307', 1), ('SOTON/O.Q. 3101310', 1), ('SOTON/O.Q. 3101311', 1), ('SOTON/O.Q. 3101312', 1), ('SOTON/O.Q. 392078', 1), ('SOTON/O.Q. 392087', 1), ('SOTON/O2 3101272', 1), ('SOTON/O2 3101287', 1), ('SOTON/OQ 3101316', 1), ('SOTON/OQ 3101317', 1), ('SOTON/OQ 392076', 1), ('SOTON/OQ 392082', 1), ('SOTON/OQ 392086', 1), ('SOTON/OQ 392089', 1), ('SOTON/OQ 392090', 1), ('STON/O 2. 3101269', 1), ('STON/O 2. 3101273', 1), ('STON/O 2. 3101274', 1), ('STON/O 2. 3101275', 1), ('STON/O 2. 3101280', 1), ('STON/O 2. 3101285', 1), ('STON/O 2. 3101286', 1), ('STON/O 2. 3101288', 1), ('STON/O 2. 3101289', 1), ('STON/O 2. 3101292', 1), ('STON/O 2. 3101293', 1), ('STON/O 2. 3101294', 1), ('STON/O2. 3101271', 1), ('STON/O2. 3101279', 2), ('STON/O2. 3101282', 1), ('STON/O2. 3101283', 1), ('STON/O2. 3101290', 1), ('SW/PP 751', 1), ('W./C. 14258', 1), ('W./C. 14263', 1), ('W./C. 6607', 2), ('W./C. 6608', 4), ('W./C. 6609', 1), ('W.E.P. 5734', 1), ('W/C 14208', 1), ('WE/P 5735', 2)]\n"
     ]
    }
   ],
   "source": [
    "# 整理出每一個Ticket的個數並排序(hint:Counter(), sorted())\n",
    "#=============your works starts===============#\n",
    "sorted_ticket_counter = sorted(dict(Counter(df['Ticket'].astype(str))).items(), key=lambda x:x[0])\n",
    "#==============your works ends================#\n",
    "\n",
    "print(sorted_ticket_counter)\n",
    "# [('110152', 3), ('110413', 3), ('110465', 2), ('110564', 1), ('110813', 1), ('111240', 1), ('111320', 1), ('111361', 2), ('111369', 1), ('111426', 1)]"
   ]
  },
  {
   "cell_type": "code",
   "execution_count": 130,
   "metadata": {
    "collapsed": false,
    "deletable": true,
    "editable": true,
    "scrolled": true
   },
   "outputs": [
    {
     "name": "stdout",
     "output_type": "stream",
     "text": [
      "Counter({1: 661, 5: 65, 3: 47, 8: 30, 2: 29, 7: 18, 6: 17, 9: 13, 4: 7, 0: 4})\n"
     ]
    }
   ],
   "source": [
    "# ticket\n",
    "ticket_cat = {}\n",
    "for ticket in df['Ticket']:\n",
    "    if ticket.isdigit():\n",
    "        ticket_cat[ticket] = 1\n",
    "    elif ticket.startswith('A'):\n",
    "        ticket_cat[ticket] = 2\n",
    "    elif ticket.startswith('C'):\n",
    "        ticket_cat[ticket] = 3\n",
    "    elif ticket.startswith('F'):\n",
    "        ticket_cat[ticket] = 4\n",
    "    elif ticket.startswith('P'):\n",
    "        ticket_cat[ticket] = 5\n",
    "    elif ticket.startswith('SOTON'):\n",
    "        ticket_cat[ticket] = 6\n",
    "    elif ticket.startswith('STON'):\n",
    "        ticket_cat[ticket] = 7\n",
    "    elif ticket.startswith('S'):\n",
    "        ticket_cat[ticket] = 8\n",
    "    elif ticket.startswith('W'):\n",
    "        ticket_cat[ticket] = 9\n",
    "    else:\n",
    "        ticket_cat[ticket] = 0\n",
    "df['ticket_cat'] = df['Ticket'].apply(ticket_cat.get)\n",
    "print(Counter(df['ticket_cat']))\n"
   ]
  },
  {
   "cell_type": "markdown",
   "metadata": {
    "deletable": true,
    "editable": true
   },
   "source": [
    "## Embarked - Category"
   ]
  },
  {
   "cell_type": "code",
   "execution_count": 131,
   "metadata": {
    "collapsed": false,
    "deletable": true,
    "editable": true
   },
   "outputs": [
    {
     "name": "stdout",
     "output_type": "stream",
     "text": [
      "[('C', 168), ('Q', 77), ('S', 644), ('nan', 2)]\n"
     ]
    }
   ],
   "source": [
    "# 整理出每一個Embarked的個數並排序(hint:Counter(), sorted())\n",
    "#=============your works starts===============#\n",
    "sorted_embarked_counter = sorted(dict(Counter(df['Embarked'].astype(str))).items(), key=lambda x:x[0])\n",
    "#==============your works ends================#\n",
    "\n",
    "print(sorted_embarked_counter)\n",
    "# [('C', 168), ('Q', 77), ('S', 644), ('nan', 2)]"
   ]
  },
  {
   "cell_type": "code",
   "execution_count": 132,
   "metadata": {
    "collapsed": false,
    "deletable": true,
    "editable": true
   },
   "outputs": [
    {
     "name": "stdout",
     "output_type": "stream",
     "text": [
      "{nan: 0, 'S': 1, 'C': 2, 'Q': 3}\n"
     ]
    }
   ],
   "source": [
    "# 創造embarked的類別對應dict\n",
    "#=============your works starts===============#\n",
    "embarked_mapping = dict([(e,i)for i, e in enumerate(set(df['Embarked']))])\n",
    "#==============your works ends================#\n",
    "\n",
    "\n",
    "print(embarked_mapping)\n",
    "#{nan: 0, 'S': 1, 'Q': 2, 'C': 3}"
   ]
  },
  {
   "cell_type": "code",
   "execution_count": 133,
   "metadata": {
    "collapsed": false,
    "deletable": true,
    "editable": true
   },
   "outputs": [
    {
     "name": "stdout",
     "output_type": "stream",
     "text": [
      "Counter({1: 644, 2: 168, 3: 77, 0: 2})\n"
     ]
    }
   ],
   "source": [
    "# 轉換embarked為數字類別\n",
    "#=============your works starts===============#\n",
    "df['embarked_cat'] = df['Embarked'].apply(embarked_mapping.get)\n",
    "#==============your works ends================#\n",
    "\n",
    "print(Counter(df['embarked_cat']))\n",
    "#Counter({1: 644, 3: 168, 2: 77, 0: 2})"
   ]
  },
  {
   "cell_type": "markdown",
   "metadata": {
    "deletable": true,
    "editable": true
   },
   "source": [
    "## Title - NLP category"
   ]
  },
  {
   "cell_type": "code",
   "execution_count": 134,
   "metadata": {
    "collapsed": false,
    "deletable": true,
    "editable": true
   },
   "outputs": [
    {
     "name": "stdout",
     "output_type": "stream",
     "text": [
      "['(Florence Briggs Thayer)']\n",
      "['(Dother Thier)']\n"
     ]
    }
   ],
   "source": [
    "# re.findall()的使用方法\n",
    "test_str = 'Cumings, Mrs. John Bradley (Florence Briggs Thayer)'\n",
    "test_str1 = 'St. Clumbia (Dother Thier)'\n",
    "\n",
    "# 請取出「(」、「)」中的文字\n",
    "#=============your works starts===============#\n",
    "pattern = \"\\(.+?\\)\"\n",
    "sub_str = re.findall(pattern, test_str)\n",
    "sub_str1 = re.findall(pattern, test_str1)\n",
    "#==============your works ends================#\n",
    "\n",
    "print(sub_str)\n",
    "print(sub_str1)\n",
    "# ['(Florence Briggs Thayer)']\n",
    "# ['(Dother Thier)']"
   ]
  },
  {
   "cell_type": "code",
   "execution_count": 135,
   "metadata": {
    "collapsed": false,
    "deletable": true,
    "editable": true,
    "scrolled": true
   },
   "outputs": [
    {
     "name": "stdout",
     "output_type": "stream",
     "text": [
      "['Mr' 'Mrs' 'Miss' 'Mrs' 'Mr' 'Mr' 'Mr' 'Master' 'Mrs' 'Mrs']\n"
     ]
    }
   ],
   "source": [
    "# 請找到位在\",\"以及\".\"之間的所有字並將\" \", \".\", \",\"去掉(hint: re.findall(), str.replace())\n",
    "def find_call(name):\n",
    "    #=============your works starts===============#\n",
    "    name = re.findall('\\,.+\\.', name)[0].replace(\",\", \"\").replace(\".\", \"\").replace(\" \", \"\")\n",
    "    #==============your works ends================#\n",
    "    return name \n",
    "\n",
    "title_cat_series = df['Name'].apply(find_call)\n",
    "print(title_cat_series.values[:10])\n",
    "#['Mr' 'Mrs' 'Miss' 'Mrs' 'Mr' 'Mr' 'Mr' 'Master' 'Mrs' 'Mrs']"
   ]
  },
  {
   "cell_type": "code",
   "execution_count": 136,
   "metadata": {
    "collapsed": false,
    "deletable": true,
    "editable": true
   },
   "outputs": [
    {
     "name": "stdout",
     "output_type": "stream",
     "text": [
      "Counter({1: 517, 2: 185, 3: 126, 4: 40, 5: 23})\n"
     ]
    }
   ],
   "source": [
    "title_mapping= {\n",
    "    'Ms':\"Miss\",\n",
    "    'Mlle':\"Miss\",\n",
    "    'Miss':\"Miss\",\n",
    "    'Mrs':\"Mrs\",\n",
    "    'Mme':\"Mrs\",\n",
    "    'MrsMartin(ElizabethL':\"Mrs\",\n",
    "    'Mr':\"Mr\"\n",
    "    }\n",
    "\n",
    "title_cat = {\"Mr\": 1, \"Miss\": 2, \"Mrs\": 3, \"Master\": 4, \"Rare\": 5}\n",
    "\n",
    "def process_title(call):\n",
    "    if title_cat.get(call):\n",
    "        return title_cat.get(call)\n",
    "    else:\n",
    "        return title_cat.get(title_mapping.get(call, \"Rare\"))\n",
    "\n",
    "df['title_cat'] = title_cat_series.apply(process_title) \n",
    "print(Counter(df['title_cat']))\n"
   ]
  },
  {
   "cell_type": "markdown",
   "metadata": {
    "deletable": true,
    "editable": true
   },
   "source": [
    "## Title - Length"
   ]
  },
  {
   "cell_type": "code",
   "execution_count": 137,
   "metadata": {
    "collapsed": false,
    "deletable": true,
    "editable": true
   },
   "outputs": [
    {
     "name": "stdout",
     "output_type": "stream",
     "text": [
      "Counter({1: 303, 2: 237, 0: 204, 3: 57, 4: 53, 5: 26, 6: 8, 7: 2, 9: 1})\n"
     ]
    }
   ],
   "source": [
    "# 算出df['Name']中每一個名字的長度並放進一個array\n",
    "#=============your works starts===============#\n",
    "name_length = df['Name'].apply(len)\n",
    "#==============your works ends================#\n",
    "\n",
    "\n",
    "print(Counter(pd.cut(name_length, bins=10, labels=range(10))))\n",
    "# Counter({1: 303, 2: 237, 0: 204, 3: 57, 4: 53, 5: 26, 6: 8, 7: 2, 9: 1})"
   ]
  },
  {
   "cell_type": "code",
   "execution_count": 138,
   "metadata": {
    "collapsed": true,
    "deletable": true,
    "editable": true
   },
   "outputs": [],
   "source": [
    "df['name_length'] = name_length"
   ]
  },
  {
   "cell_type": "code",
   "execution_count": 139,
   "metadata": {
    "collapsed": false,
    "deletable": true,
    "editable": true
   },
   "outputs": [
    {
     "data": {
      "image/png": "[encoded data removed]",
      "text/plain": [
       "<matplotlib.figure.Figure at 0x2bfc56db3c8>"
      ]
     },
     "metadata": {},
     "output_type": "display_data"
    }
   ],
   "source": [
    "# 劃出每一長度區間次數的長條分布圖(如長度界在10~20之間的有出現約150次)(hint: df[col].plot('hist'))\n",
    "#!=============your works starts===============!#\n",
    "df['name_length'].plot('hist')\n",
    "#!==============your works ends================!#\n",
    "\n",
    "plt.show()"
   ]
  },
  {
   "cell_type": "markdown",
   "metadata": {
    "deletable": true,
    "editable": true
   },
   "source": [
    "## Fare - PCA, smooth noisy data, feature generation"
   ]
  },
  {
   "cell_type": "code",
   "execution_count": 140,
   "metadata": {
    "collapsed": false,
    "deletable": true,
    "editable": true
   },
   "outputs": [
    {
     "name": "stdout",
     "output_type": "stream",
     "text": [
      "['PassengerId', 'Survived', 'Pclass', 'Age', 'SibSp', 'Parch', 'Fare', 'avg_age', 'median_age', 'random_age', 'avg_age_l1', 'avg_age_l2', 'avg_age_01', 'name_length']\n"
     ]
    }
   ],
   "source": [
    "# 請找出dtype是np.int64或np.float64且名稱不以'_cat'結尾的欄位。\n",
    "#=============your works starts===============#\n",
    "number_cols = [col for col in df.columns if df[col].dtype in [np.int64, np.float64] and not col.endswith('_cat')]\n",
    "#==============your works ends================#\n",
    "\n",
    "\n",
    "print(number_cols)\n",
    "# ['PassengerId', 'Survived', 'Pclass', 'Age', 'SibSp', 'Parch', 'Fare', 'avg_age', 'median_age', 'random_age', 'avg_age_l1', 'avg_age_l2', 'name_length']"
   ]
  },
  {
   "cell_type": "markdown",
   "metadata": {
    "deletable": true,
    "editable": true
   },
   "source": [
    "請參照[這個連結](http://scikit-learn.org/stable/auto_examples/datasets/plot_iris_dataset.html#sphx-glr-auto-examples-datasets-plot-iris-dataset-py)，劃出以下這張PCA圖\n",
    "\n",
    "![PCA_chart](./imgs/PCA.png)"
   ]
  },
  {
   "cell_type": "code",
   "execution_count": 141,
   "metadata": {
    "collapsed": false,
    "deletable": true,
    "editable": true
   },
   "outputs": [
    {
     "data": {
      "image/png": "[encoded data removed]",
      "text/plain": [
       "<matplotlib.figure.Figure at 0x2bfc3cc72e8>"
      ]
     },
     "metadata": {},
     "output_type": "display_data"
    }
   ],
   "source": [
    "X = df[['Pclass', 'Parch', 'SibSp', 'Fare', 'avg_age', 'name_length']].values\n",
    "Y = np.array(df['Survived'])\n",
    "\n",
    "#!=============your works starts===============!#\n",
    "fig = plt.figure(1, figsize=(8, 6))\n",
    "ax = Axes3D(fig, elev=-150, azim=110)\n",
    "\n",
    "X_reduced = PCA(n_components=3).fit_transform(X)\n",
    "ax.scatter(X_reduced[:, 0], X_reduced[:, 1], X_reduced[:, 2], c=Y,\n",
    "           cmap=plt.cm.Set1, edgecolor='k', s=40)\n",
    "ax.set_title(\"PCA with non-log(Fare)\")\n",
    "ax.set_xlabel(\"1st eigenvector\")\n",
    "ax.w_xaxis.set_ticklabels([])\n",
    "ax.set_ylabel(\"2nd eigenvector\")\n",
    "ax.w_yaxis.set_ticklabels([])\n",
    "ax.set_zlabel(\"3rd eigenvector\")\n",
    "ax.w_zaxis.set_ticklabels([])\n",
    "#!==============your works ends================!#\n",
    "\n",
    "plt.show()"
   ]
  },
  {
   "cell_type": "code",
   "execution_count": 142,
   "metadata": {
    "collapsed": false,
    "deletable": true,
    "editable": true
   },
   "outputs": [
    {
     "data": {
      "text/html": [
       "<div>\n",
       "<style>\n",
       "    .dataframe thead tr:only-child th {\n",
       "        text-align: right;\n",
       "    }\n",
       "\n",
       "    .dataframe thead th {\n",
       "        text-align: left;\n",
       "    }\n",
       "\n",
       "    .dataframe tbody tr th {\n",
       "        vertical-align: top;\n",
       "    }\n",
       "</style>\n",
       "<table border=\"1\" class=\"dataframe\">\n",
       "  <thead>\n",
       "    <tr style=\"text-align: right;\">\n",
       "      <th></th>\n",
       "      <th>Pclass</th>\n",
       "      <th>Parch</th>\n",
       "      <th>SibSp</th>\n",
       "      <th>Fare</th>\n",
       "      <th>avg_age</th>\n",
       "      <th>name_length</th>\n",
       "    </tr>\n",
       "  </thead>\n",
       "  <tbody>\n",
       "    <tr>\n",
       "      <th>count</th>\n",
       "      <td>891.000000</td>\n",
       "      <td>891.000000</td>\n",
       "      <td>891.000000</td>\n",
       "      <td>891.000000</td>\n",
       "      <td>891.000000</td>\n",
       "      <td>891.000000</td>\n",
       "    </tr>\n",
       "    <tr>\n",
       "      <th>mean</th>\n",
       "      <td>2.308642</td>\n",
       "      <td>0.381594</td>\n",
       "      <td>0.523008</td>\n",
       "      <td>32.204208</td>\n",
       "      <td>29.699118</td>\n",
       "      <td>26.965208</td>\n",
       "    </tr>\n",
       "    <tr>\n",
       "      <th>std</th>\n",
       "      <td>0.836071</td>\n",
       "      <td>0.806057</td>\n",
       "      <td>1.102743</td>\n",
       "      <td>49.693429</td>\n",
       "      <td>13.002015</td>\n",
       "      <td>9.281607</td>\n",
       "    </tr>\n",
       "    <tr>\n",
       "      <th>min</th>\n",
       "      <td>1.000000</td>\n",
       "      <td>0.000000</td>\n",
       "      <td>0.000000</td>\n",
       "      <td>0.000000</td>\n",
       "      <td>0.420000</td>\n",
       "      <td>12.000000</td>\n",
       "    </tr>\n",
       "    <tr>\n",
       "      <th>25%</th>\n",
       "      <td>2.000000</td>\n",
       "      <td>0.000000</td>\n",
       "      <td>0.000000</td>\n",
       "      <td>7.910400</td>\n",
       "      <td>22.000000</td>\n",
       "      <td>20.000000</td>\n",
       "    </tr>\n",
       "    <tr>\n",
       "      <th>50%</th>\n",
       "      <td>3.000000</td>\n",
       "      <td>0.000000</td>\n",
       "      <td>0.000000</td>\n",
       "      <td>14.454200</td>\n",
       "      <td>29.699118</td>\n",
       "      <td>25.000000</td>\n",
       "    </tr>\n",
       "    <tr>\n",
       "      <th>75%</th>\n",
       "      <td>3.000000</td>\n",
       "      <td>0.000000</td>\n",
       "      <td>1.000000</td>\n",
       "      <td>31.000000</td>\n",
       "      <td>35.000000</td>\n",
       "      <td>30.000000</td>\n",
       "    </tr>\n",
       "    <tr>\n",
       "      <th>max</th>\n",
       "      <td>3.000000</td>\n",
       "      <td>6.000000</td>\n",
       "      <td>8.000000</td>\n",
       "      <td>512.329200</td>\n",
       "      <td>80.000000</td>\n",
       "      <td>82.000000</td>\n",
       "    </tr>\n",
       "  </tbody>\n",
       "</table>\n",
       "</div>"
      ],
      "text/plain": [
       "           Pclass       Parch       SibSp        Fare     avg_age  name_length\n",
       "count  891.000000  891.000000  891.000000  891.000000  891.000000   891.000000\n",
       "mean     2.308642    0.381594    0.523008   32.204208   29.699118    26.965208\n",
       "std      0.836071    0.806057    1.102743   49.693429   13.002015     9.281607\n",
       "min      1.000000    0.000000    0.000000    0.000000    0.420000    12.000000\n",
       "25%      2.000000    0.000000    0.000000    7.910400   22.000000    20.000000\n",
       "50%      3.000000    0.000000    0.000000   14.454200   29.699118    25.000000\n",
       "75%      3.000000    0.000000    1.000000   31.000000   35.000000    30.000000\n",
       "max      3.000000    6.000000    8.000000  512.329200   80.000000    82.000000"
      ]
     },
     "execution_count": 142,
     "metadata": {},
     "output_type": "execute_result"
    }
   ],
   "source": [
    "# 請找出標準差最大的欄位['Pclass', 'Parch', 'SibSp', 'Fare', 'avg_age', 'name_length']\n",
    "#!=============your works starts===============!#\n",
    "df[['Pclass', 'Parch', 'SibSp', 'Fare', 'avg_age', 'name_length']].describe()\n",
    "#!==============your works ends================!#\n"
   ]
  },
  {
   "cell_type": "code",
   "execution_count": 143,
   "metadata": {
    "collapsed": false,
    "deletable": true,
    "editable": true
   },
   "outputs": [
    {
     "name": "stdout",
     "output_type": "stream",
     "text": [
      "avg_fare 32.2042079686\n",
      "number of null of Fare: 0\n"
     ]
    }
   ],
   "source": [
    "# 請找出Fare的平均值(mean)，並填入df['Fare']中\n",
    "#=============your works starts===============#\n",
    "avg_fare = df['Fare'].mean()\n",
    "df[pd.isnull(df['Fare'])] = avg_fare\n",
    "#==============your works ends================#\n",
    "# df['Fare'].fillna(avg_fare)\n",
    "\n",
    "\n",
    "print(\"avg_fare\", avg_fare)\n",
    "# 32.204207968574636\n",
    "print(\"number of null of Fare:\", len(df[pd.isnull(df['Fare'])]))\n",
    "# number of null of Fare: 0"
   ]
  },
  {
   "cell_type": "code",
   "execution_count": 144,
   "metadata": {
    "collapsed": false,
    "deletable": true,
    "editable": true
   },
   "outputs": [
    {
     "name": "stdout",
     "output_type": "stream",
     "text": [
      "number of Fare equals zero: 0\n"
     ]
    }
   ],
   "source": [
    "# 找出Fare==0的row，補上Fare=1\n",
    "#!=============your works starts===============!#\n",
    "df[df['Fare']==0] = 1\n",
    "#!==============your works ends================!#\n",
    "\n",
    "print(\"number of Fare equals zero:\", len(df[df['Fare']==0]))\n",
    "# number of Fare equals zero: 0"
   ]
  },
  {
   "cell_type": "code",
   "execution_count": 145,
   "metadata": {
    "collapsed": false,
    "deletable": true,
    "editable": true
   },
   "outputs": [
    {
     "name": "stdout",
     "output_type": "stream",
     "text": [
      "[ 0.86033801  1.8529878   0.89899927  1.72509452  0.90579588]\n"
     ]
    }
   ],
   "source": [
    "# 請算出Fare以10為底的log值\n",
    "#=============your works starts===============#\n",
    "fare_log10 = np.log10(df['Fare'].values)\n",
    "#==============your works ends================#\n",
    "\n",
    "\n",
    "print(fare_log10[:5])\n",
    "# [0.86033801 1.8529878  0.89899927 1.72509452 0.90579588]"
   ]
  },
  {
   "cell_type": "code",
   "execution_count": 146,
   "metadata": {
    "collapsed": false,
    "deletable": true,
    "editable": true
   },
   "outputs": [
    {
     "data": {
      "text/html": [
       "<div>\n",
       "<style>\n",
       "    .dataframe thead tr:only-child th {\n",
       "        text-align: right;\n",
       "    }\n",
       "\n",
       "    .dataframe thead th {\n",
       "        text-align: left;\n",
       "    }\n",
       "\n",
       "    .dataframe tbody tr th {\n",
       "        vertical-align: top;\n",
       "    }\n",
       "</style>\n",
       "<table border=\"1\" class=\"dataframe\">\n",
       "  <thead>\n",
       "    <tr style=\"text-align: right;\">\n",
       "      <th></th>\n",
       "      <th>Fare</th>\n",
       "      <th>fare_log10</th>\n",
       "    </tr>\n",
       "  </thead>\n",
       "  <tbody>\n",
       "    <tr>\n",
       "      <th>0</th>\n",
       "      <td>7.2500</td>\n",
       "      <td>0.860338</td>\n",
       "    </tr>\n",
       "    <tr>\n",
       "      <th>1</th>\n",
       "      <td>71.2833</td>\n",
       "      <td>1.852988</td>\n",
       "    </tr>\n",
       "    <tr>\n",
       "      <th>2</th>\n",
       "      <td>7.9250</td>\n",
       "      <td>0.898999</td>\n",
       "    </tr>\n",
       "    <tr>\n",
       "      <th>3</th>\n",
       "      <td>53.1000</td>\n",
       "      <td>1.725095</td>\n",
       "    </tr>\n",
       "    <tr>\n",
       "      <th>4</th>\n",
       "      <td>8.0500</td>\n",
       "      <td>0.905796</td>\n",
       "    </tr>\n",
       "  </tbody>\n",
       "</table>\n",
       "</div>"
      ],
      "text/plain": [
       "      Fare  fare_log10\n",
       "0   7.2500    0.860338\n",
       "1  71.2833    1.852988\n",
       "2   7.9250    0.898999\n",
       "3  53.1000    1.725095\n",
       "4   8.0500    0.905796"
      ]
     },
     "execution_count": 146,
     "metadata": {},
     "output_type": "execute_result"
    }
   ],
   "source": [
    "df['fare_log10'] = fare_log10\n",
    "df[['Fare', 'fare_log10']].head()"
   ]
  },
  {
   "cell_type": "code",
   "execution_count": 147,
   "metadata": {
    "collapsed": false,
    "deletable": true,
    "editable": true
   },
   "outputs": [
    {
     "data": {
      "text/plain": [
       "count    891.000000\n",
       "mean       1.256781\n",
       "std        0.435553\n",
       "min        0.000000\n",
       "25%        0.898198\n",
       "50%        1.159994\n",
       "75%        1.491362\n",
       "max        2.709549\n",
       "Name: fare_log10, dtype: float64"
      ]
     },
     "execution_count": 147,
     "metadata": {},
     "output_type": "execute_result"
    }
   ],
   "source": [
    "df['fare_log10'].describe()"
   ]
  },
  {
   "cell_type": "code",
   "execution_count": 148,
   "metadata": {
    "collapsed": false,
    "deletable": true,
    "editable": true,
    "scrolled": false
   },
   "outputs": [
    {
     "data": {
      "image/png": "[encoded data removed]",
      "text/plain": [
       "<matplotlib.figure.Figure at 0x2bfc3cc74a8>"
      ]
     },
     "metadata": {},
     "output_type": "display_data"
    }
   ],
   "source": [
    "X = np.matrix(df[['Parch', 'SibSp', 'avg_age', 'fare_log10']])\n",
    "Y = np.array(df['Survived'])\n",
    "\n",
    "fig = plt.figure(1, figsize=(8, 6))\n",
    "ax = Axes3D(fig, elev=-150, azim=110)\n",
    "\n",
    "X_reduced = PCA(n_components=3).fit_transform(X)\n",
    "ax.scatter(X_reduced[:, 0], X_reduced[:, 1], X_reduced[:, 2], c=Y,\n",
    "           cmap=plt.cm.Set1, edgecolor='k', s=40)\n",
    "ax.set_title(\"PCA with non-log(Fare)\")\n",
    "ax.set_xlabel(\"1st eigenvector\")\n",
    "ax.w_xaxis.set_ticklabels([])\n",
    "ax.set_ylabel(\"2nd eigenvector\")\n",
    "ax.w_yaxis.set_ticklabels([])\n",
    "ax.set_zlabel(\"3rd eigenvector\")\n",
    "ax.w_zaxis.set_ticklabels([])\n",
    "\n",
    "plt.show()"
   ]
  },
  {
   "cell_type": "markdown",
   "metadata": {
    "deletable": true,
    "editable": true
   },
   "source": [
    "# 類別型變數onehot encode"
   ]
  },
  {
   "cell_type": "code",
   "execution_count": 149,
   "metadata": {
    "collapsed": false
   },
   "outputs": [
    {
     "data": {
      "text/plain": [
       "OneHotEncoder(categorical_features='all', dtype=<class 'numpy.float64'>,\n",
       "       handle_unknown='error', n_values='auto', sparse=True)"
      ]
     },
     "execution_count": 149,
     "metadata": {},
     "output_type": "execute_result"
    }
   ],
   "source": [
    "# 請使用preprocessing.OneHotEncoder()初始化一個encoder\n",
    "#=============your works starts===============#\n",
    "enc = preprocessing.OneHotEncoder()\n",
    "#==============your works ends================#\n",
    "\n",
    "enc\n",
    "# OneHotEncoder(categorical_features='all', dtype=<class 'numpy.float64'>,\n",
    "#        handle_unknown='error', n_values='auto', sparse=True)"
   ]
  },
  {
   "cell_type": "code",
   "execution_count": 150,
   "metadata": {
    "collapsed": false,
    "deletable": true,
    "editable": true
   },
   "outputs": [
    {
     "name": "stdout",
     "output_type": "stream",
     "text": [
      "[[ 1.  0.  0.  0.  0.]\n",
      " [ 0.  0.  1.  0.  0.]\n",
      " [ 0.  1.  0.  0.  0.]]\n"
     ]
    }
   ],
   "source": [
    "# 請使用enc.fit_transform兩個步驟，onehot encode title_cat\n",
    "#=============your works starts===============#\n",
    "title_cat_onehot = enc.fit_transform(df['title_cat'].values.reshape(-1,1)).toarray()\n",
    "#==============your works ends================#\n",
    "\n",
    "print(title_cat_onehot[:3])\n",
    "# [[1. 0. 0. 0. 0.]\n",
    "#  [0. 0. 1. 0. 0.]\n",
    "#  [0. 1. 0. 0. 0.]]"
   ]
  },
  {
   "cell_type": "code",
   "execution_count": 151,
   "metadata": {
    "collapsed": false,
    "deletable": true,
    "editable": true
   },
   "outputs": [
    {
     "data": {
      "text/plain": [
       "array([[ 0.,  1.,  0.,  0.],\n",
       "       [ 0.,  0.,  1.,  0.],\n",
       "       [ 0.,  1.,  0.,  0.]])"
      ]
     },
     "execution_count": 151,
     "metadata": {},
     "output_type": "execute_result"
    }
   ],
   "source": [
    "enc = preprocessing.OneHotEncoder()\n",
    "# 請使用enc.fit_transform兩個步驟，onehot encode embarked_cat\n",
    "#=============your works starts===============#\n",
    "embarked_cat_onehot = enc.fit_transform(df[['embarked_cat']].values).toarray()\n",
    "#==============your works ends================#\n",
    "\n",
    "embarked_cat_onehot[:3]\n",
    "# array([[0., 0., 1., 0.],\n",
    "#        [0., 1., 0., 0.],\n",
    "#        [0., 0., 1., 0.]])"
   ]
  },
  {
   "cell_type": "markdown",
   "metadata": {
    "deletable": true,
    "editable": true
   },
   "source": [
    "# PolynomialFeatures"
   ]
  },
  {
   "cell_type": "code",
   "execution_count": 117,
   "metadata": {
    "collapsed": false,
    "deletable": true,
    "editable": true,
    "scrolled": false
   },
   "outputs": [
    {
     "name": "stdout",
     "output_type": "stream",
     "text": [
      "[[0.86033801 0.74018149]\n",
      " [1.8529878  3.43356378]]\n"
     ]
    }
   ],
   "source": [
    "poly = preprocessing.PolynomialFeatures(degree=2)\n",
    "# 請利用poly.fit_transform製造出fare_log10的0次項、1次項、2次項，並把0次項拿掉\n",
    "#=============your works starts===============#\n",
    "fare_log10_poly = poly.fit_transform(df[['fare_log10']])[:, 1:]\n",
    "#==============your works ends================#\n",
    "\n",
    "print(fare_log10_poly[:2])\n",
    "# [[1.         0.86033801 0.74018149]\n",
    "#  [1.         1.8529878  3.43356378]]"
   ]
  },
  {
   "cell_type": "code",
   "execution_count": 70,
   "metadata": {
    "collapsed": false,
    "deletable": true,
    "editable": true
   },
   "outputs": [
    {
     "name": "stdout",
     "output_type": "stream",
     "text": [
      "[[8.60338007e-01 8.31383556e-04 7.40181486e-01 7.15270871e-04\n",
      "  6.91198616e-07]\n",
      " [1.85298780e+00 1.43602614e-03 3.43356378e+00 2.66093892e-03\n",
      "  2.06217108e-06]]\n"
     ]
    }
   ],
   "source": [
    "# 請利用poly.fit_transform製造出'fare_log10', 'random_age'的二項次及其一次交成項\n",
    "#=============your works starts===============#\n",
    "age_fare_ploy = poly.fit_transform(df[['fare_log10', 'avg_age_l1']])[:, 1:]\n",
    "#==============your works ends================#\n",
    "\n",
    "print(age_fare_ploy[:2])\n",
    "# [[8.60338007e-01 8.31383556e-04 7.40181486e-01 7.15270871e-04 6.91198616e-07]\n",
    "#  [1.85298780e+00 1.43602614e-03 3.43356378e+00 2.66093892e-03 2.06217108e-06]]"
   ]
  },
  {
   "cell_type": "markdown",
   "metadata": {
    "collapsed": true,
    "deletable": true,
    "editable": true
   },
   "source": [
    "## Preprocessing Conclude"
   ]
  },
  {
   "cell_type": "code",
   "execution_count": 71,
   "metadata": {
    "collapsed": false,
    "deletable": true,
    "editable": true
   },
   "outputs": [
    {
     "data": {
      "text/plain": [
       "Index(['PassengerId', 'Survived', 'Pclass', 'Name', 'Sex', 'Age', 'SibSp',\n",
       "       'Parch', 'Ticket', 'Fare', 'Cabin', 'Embarked', 'avg_age', 'median_age',\n",
       "       'random_age', 'avg_age_l1', 'avg_age_l2', 'cabin_cat', 'sex_cat',\n",
       "       'ticket_cat', 'embarked_cat', 'title_cat', 'name_length', 'fare_log10'],\n",
       "      dtype='object')"
      ]
     },
     "execution_count": 71,
     "metadata": {},
     "output_type": "execute_result"
    }
   ],
   "source": [
    "df.columns"
   ]
  },
  {
   "cell_type": "code",
   "execution_count": 72,
   "metadata": {
    "collapsed": false,
    "deletable": true,
    "editable": true
   },
   "outputs": [
    {
     "name": "stdout",
     "output_type": "stream",
     "text": [
      "(891, 20)\n",
      "(891, 1)\n"
     ]
    }
   ],
   "source": [
    "X = df[['SibSp', 'Parch', 'avg_age_l2', 'sex_cat', 'name_length', 'fare_log10']].values\n",
    "X = np.concatenate([X, title_cat_onehot, embarked_cat_onehot, age_fare_ploy], axis=1)\n",
    "Y = df[['Survived']].values\n",
    "\n",
    "print(X.shape)\n",
    "print(Y.shape)"
   ]
  },
  {
   "cell_type": "code",
   "execution_count": 73,
   "metadata": {
    "collapsed": false,
    "deletable": true,
    "editable": true
   },
   "outputs": [
    {
     "name": "stdout",
     "output_type": "stream",
     "text": [
      "Accuracy: 0.8026905829596412\n"
     ]
    }
   ],
   "source": [
    "from sklearn import linear_model\n",
    "from  sklearn.model_selection import train_test_split\n",
    "\n",
    "\n",
    "X_train, X_test, Y_train, Y_test = train_test_split(X, Y, random_state=1212)\n",
    "\n",
    "reg = linear_model.LinearRegression()\n",
    "reg.fit(X_train, Y_train)\n",
    "predict_prob = reg.predict(X_test)\n",
    "\n",
    "Y_predict = predict_prob > 0.5 \n",
    "Y_test = Y_test == 1\n",
    "acc = np.sum(Y_predict == Y_test)/ len(Y_test)\n",
    "print(\"Accuracy:\", acc)\n"
   ]
  }
 ],
 "metadata": {
  "kernelspec": {
   "display_name": "Python 3",
   "language": "python",
   "name": "python3"
  },
  "language_info": {
   "codemirror_mode": {
    "name": "ipython",
    "version": 3
   },
   "file_extension": ".py",
   "mimetype": "text/x-python",
   "name": "python",
   "nbconvert_exporter": "python",
   "pygments_lexer": "ipython3",
   "version": "3.5.3"
  }
 },
 "nbformat": 4,
 "nbformat_minor": 2
}
