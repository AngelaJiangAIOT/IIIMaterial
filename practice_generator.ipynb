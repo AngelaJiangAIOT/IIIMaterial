{
 "cells": [
  {
   "cell_type": "code",
   "execution_count": 4,
   "metadata": {},
   "outputs": [],
   "source": [
    "import os\n",
    "import re"
   ]
  },
  {
   "cell_type": "code",
   "execution_count": 5,
   "metadata": {},
   "outputs": [
    {
     "name": "stdout",
     "output_type": "stream",
     "text": [
      "00_EnvironmentInstallation\\main00.ipynb\n",
      "00_EnvironmentInstallation\\practice00.ipynb\n",
      "01_MLIntroduction\\main01.ipynb\n",
      "01_MLIntroduction\\practice01.ipynb\n",
      "02_PreProcessing\\main02.ipynb\n",
      "02_PreProcessing\\practice02.ipynb\n",
      "03_ClusteringTheory\\main03.ipynb\n",
      "03_ClusteringTheory\\practice03.ipynb\n",
      "04_ClusteringPracticeWord2Vec\\main04.ipynb\n",
      "04_ClusteringPracticeWord2Vec\\practice04.ipynb\n",
      "05_Classification\\main05.ipynb\n",
      "05_Classification\\practice05.ipynb\n",
      "06_XgbCV\\main06.ipynb\n",
      "06_XgbCV\\practice06.ipynb\n",
      "07_RealEstatePractice\\main07.ipynb\n",
      "07_RealEstatePractice\\practice07.ipynb\n",
      "08_InformationRetreival\\main08.ipynb\n",
      "08_InformationRetreival\\practice08.ipynb\n",
      "09_RecommendationSystem\\main09.ipynb\n",
      "09_RecommendationSystem\\practice09.ipynb\n"
     ]
    }
   ],
   "source": [
    "dirs = [d for d in os.listdir() if bool(re.match('\\d+\\_.+?', d))]\n",
    "for d in dirs: \n",
    "    for f in os.listdir(d):\n",
    "        if f.startswith('main') and f.endswith('.ipynb'):\n",
    "            readfile_path = os.path.join(d, f)\n",
    "            writefile_path = os.path.join(d, f.replace(\"main\", \"practice\"))\n",
    "            print(readfile_path)\n",
    "            print(writefile_path)\n",
    "            readfile = open(readfile_path, 'r', encoding='utf8')\n",
    "            writefile = open(writefile_path, 'w', encoding='utf8')\n",
    "            starts_equal = False\n",
    "            starts_all = False\n",
    "            for line in readfile:\n",
    "                if \"#==============your works ends================#\" in line:\n",
    "                    starts_equal = False\n",
    "                if \"#!==============your works ends================!#\" in line:\n",
    "                    starts_all = False\n",
    "                if starts_equal and \"=\" in line:\n",
    "                    line = line.split(\"=\")[0] + \"=\" + line[-5:]\n",
    "                if starts_all:\n",
    "                    line = line[:5] + line[-5:]\n",
    "                if \"#=============your works starts===============#\" in line:\n",
    "                    starts_equal = True\n",
    "                if \"#!=============your works starts===============!#\" in line:\n",
    "                    starts_all = True\n",
    "\n",
    "                writefile.write(line)\n",
    "                \n",
    "            readfile.close()\n",
    "            writefile.close()\n"
   ]
  },
  {
   "cell_type": "code",
   "execution_count": null,
   "metadata": {},
   "outputs": [],
   "source": []
  }
 ],
 "metadata": {
  "kernelspec": {
   "display_name": "Python 3",
   "language": "python",
   "name": "python3"
  },
  "language_info": {
   "codemirror_mode": {
    "name": "ipython",
    "version": 3
   },
   "file_extension": ".py",
   "mimetype": "text/x-python",
   "name": "python",
   "nbconvert_exporter": "python",
   "pygments_lexer": "ipython3",
   "version": "3.6.7"
  }
 },
 "nbformat": 4,
 "nbformat_minor": 2
}
