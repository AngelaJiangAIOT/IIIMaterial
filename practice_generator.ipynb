{
 "cells": [
  {
   "cell_type": "code",
   "execution_count": 5,
   "metadata": {},
   "outputs": [],
   "source": [
    "import os\n",
    "import re"
   ]
  },
  {
   "cell_type": "code",
   "execution_count": 6,
   "metadata": {},
   "outputs": [],
   "source": [
    "dirs = [d for d in os.listdir() if bool(re.match('\\d+\\_.+?', d))]\n",
    "for d in dirs: \n",
    "    for f in os.listdir(d):\n",
    "        if f.startswith('main') and f.endswith('.ipynb'):\n",
    "            readfile_path = os.path.join(d, f)\n",
    "            writefile_path = os.path.join(d, f.replace(\"main\", \"practice\"))\n",
    "            readfile = open(readfile_path, 'r', encoding='utf8')\n",
    "            writefile = open(writefile_path, 'w', encoding='utf8')\n",
    "            starts_equal = False\n",
    "            starts_all = False\n",
    "            for line in readfile:\n",
    "                if \"#==============your works ends================#\" in line:\n",
    "                    starts_equal = False\n",
    "                if \"#!==============your works ends================!#\" in line:\n",
    "                    starts_all = False\n",
    "                if starts_equal and \"=\" in line:\n",
    "                    line = line.split(\"=\")[0] + \"=\" + line[-5:]\n",
    "                if starts_all:\n",
    "                    line = line[:5] + line[-5:]\n",
    "                if \"#=============your works starts===============#\" in line:\n",
    "                    starts_equal = True\n",
    "                if \"#!=============your works starts===============!#\" in line:\n",
    "                    starts_all = True\n",
    "\n",
    "                writefile.write(line)\n",
    "                \n",
    "            readfile.close()\n",
    "            writefile.close()\n"
   ]
  },
  {
   "cell_type": "code",
   "execution_count": null,
   "metadata": {},
   "outputs": [],
   "source": []
  }
 ],
 "metadata": {
  "kernelspec": {
   "display_name": "Python 3",
   "language": "python",
   "name": "python3"
  },
  "language_info": {
   "codemirror_mode": {
    "name": "ipython",
    "version": 3
   },
   "file_extension": ".py",
   "mimetype": "text/x-python",
   "name": "python",
   "nbconvert_exporter": "python",
   "pygments_lexer": "ipython3",
   "version": "3.6.4"
  }
 },
 "nbformat": 4,
 "nbformat_minor": 2
}
