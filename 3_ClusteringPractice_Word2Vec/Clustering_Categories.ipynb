{
 "cells": [
  {
   "cell_type": "code",
   "execution_count": 53,
   "metadata": {},
   "outputs": [],
   "source": [
    "import pandas as pd\n",
    "import numpy as np\n",
    "import nltk\n",
    "from pprint import pprint\n",
    "\n",
    "from nltk.corpus import stopwords\n",
    "# if this is first time you use nltk\n",
    "#   >>> import nltk\n",
    "#   >>> nltk.download('stopwords')\n",
    "#   >>> nltk.download('punkt')\n",
    "\n",
    "stops = set(stopwords.words('english'))\n",
    "import string\n",
    "puns = string.punctuation"
   ]
  },
  {
   "cell_type": "markdown",
   "metadata": {},
   "source": [
    "# Word2Vec\n",
    "1. 簡介\n",
    "    \n",
    "    Word2Vec其實是Word to Vector的簡稱，意在將每一個字轉換成一條向量，並讓這字的語意透過這條向量描繪出來。早期做自然語言處理時，很難對讓電腦對詞背後的意思有更深一層的理解，因此詞與詞之間的關係很難被挖掘出來，像是相似詞、相反詞、對應詞等，因此Word2Vec在這樣的背景下產生就顯得極其珍貴。\n",
    "    \n",
    "    \n",
    "2. 作用&賣點\n",
    "    1. 它可以找到相似的字。\n",
    "    2. 它可以加減，像是Taiwan-Taipei=Germany-Berlin。\n",
    "    \n",
    "3. 訓練方法: 參照[這篇網誌](https://goatwang.github.io/2017/06/06/Train-Wiki-Corpus-by-gensim-Word2vec/)\n",
    "\n",
    "4. 已經訓練好的model:\n",
    "    1. [Various Models](http://ahogrammer.com/2017/01/20/the-list-of-pretrained-word-embeddings/)\n",
    "    2. 本課程使用之[GloVe Word2Vec](https://nlp.stanford.edu/projects/glove/)(時間考量已經壓縮過，只留下這個文件中會用到的字)。\n",
    "\n",
    "5. 專案: 將e-commerce商品標籤分群"
   ]
  },
  {
   "cell_type": "markdown",
   "metadata": {},
   "source": [
    "# Load Data"
   ]
  },
  {
   "cell_type": "code",
   "execution_count": 16,
   "metadata": {
    "scrolled": true
   },
   "outputs": [
    {
     "name": "stdout",
     "output_type": "stream",
     "text": [
      "商品標籤個數: 910\n",
      "前10個商品標籤: ['Small Animal', 'Kitchen', 'Fragrance', 'Track & Sweat Suits', 'Wallet', 'Favors', 'Quilts', 'Sticker', 'Pets', 'Skirt']\n"
     ]
    }
   ],
   "source": [
    "with open('all_categories.list', 'r', encoding='utf8') as f:\n",
    "    all_categories = eval(f.read())\n",
    "print(\"商品標籤個數:\", len(all_categories))\n",
    "print(\"前10個商品標籤:\", all_categories[:10])\n"
   ]
  },
  {
   "cell_type": "code",
   "execution_count": 17,
   "metadata": {},
   "outputs": [
    {
     "name": "stdout",
     "output_type": "stream",
     "text": [
      "vec_dimensions 50\n",
      "[('protection',\n",
      "  array([-2.6041e-01,  9.3470e-03, -1.2779e+00,  9.3997e-01,  1.3464e-01,\n",
      "        2.8652e-01,  4.7567e-01, -5.1847e-01,  6.8337e-01, -6.8621e-01,\n",
      "        2.5913e-01,  2.9725e-01, -2.7242e+00,  3.8473e-01,  1.2560e+00,\n",
      "        9.2542e-01, -1.0193e-01,  1.5966e-01,  2.2935e-03, -3.8759e-01,\n",
      "       -1.0683e+00, -5.3661e-01,  6.1156e-03,  1.5376e-01,  3.5490e-01,\n",
      "        5.9846e-01,  8.5329e-02,  8.7829e-01,  2.1870e-01,  1.0114e+00,\n",
      "       -6.9214e-03, -5.1215e-01, -2.7296e-01, -8.3198e-01,  8.5664e-01,\n",
      "       -5.2144e-01, -4.6561e-01,  9.8429e-01, -6.7122e-01, -9.6129e-01,\n",
      "        7.8881e-01, -6.1323e-01,  2.6551e-01, -3.9457e-01,  5.8291e-01,\n",
      "       -5.6443e-01,  3.0565e-01,  4.1577e-02,  8.3677e-01, -4.5295e-01],\n",
      "      dtype=float32)),\n",
      " ('headsets',\n",
      "  array([-0.026823 , -0.092859 , -1.0312   ,  0.90884  , -0.49068  ,\n",
      "        0.3701   ,  0.63185  , -0.61496  ,  0.57759  , -1.0434   ,\n",
      "       -0.21304  ,  1.0892   , -0.67756  ,  0.39059  ,  0.12729  ,\n",
      "       -0.39507  ,  0.070779 , -0.53489  ,  0.62134  ,  0.35858  ,\n",
      "       -0.3978   , -0.053658 ,  0.59362  , -0.15411  , -0.50521  ,\n",
      "        0.64195  , -0.34041  ,  0.33592  , -0.085267 ,  0.035649 ,\n",
      "        0.53375  ,  0.034903 ,  0.54944  , -0.80055  ,  0.72882  ,\n",
      "       -1.1041   ,  0.41168  , -0.53155  , -0.46107  ,  1.2108   ,\n",
      "        1.3971   ,  1.1987   , -0.52795  , -0.0043981, -0.30671  ,\n",
      "       -0.059243 , -0.079573 , -0.33629  ,  0.24877  ,  0.44079  ],\n",
      "      dtype=float32)),\n",
      " ('jackets',\n",
      "  array([ 8.5055e-02, -1.7499e+00, -1.7031e-01, -2.6836e-01, -4.0375e-01,\n",
      "       -3.1689e-01,  9.3073e-01,  1.2195e-01,  5.3707e-01, -8.3221e-01,\n",
      "        9.2084e-01,  1.1719e+00, -2.0878e+00,  6.3773e-01, -2.4071e-01,\n",
      "        1.3865e-03, -1.3375e+00, -8.2863e-01, -6.2409e-02,  1.2643e-01,\n",
      "        3.3143e-01, -4.6428e-02,  1.2935e+00, -8.8655e-01, -4.2175e-01,\n",
      "        1.3437e+00,  3.2258e-01,  5.6446e-01, -3.7294e-01, -9.2323e-01,\n",
      "        2.8631e-01,  1.0212e+00,  6.5575e-01, -1.7160e-01,  1.1947e+00,\n",
      "       -1.6754e+00, -1.0792e+00,  2.9502e-01,  1.3830e-01,  9.4862e-01,\n",
      "        5.9838e-01, -9.7969e-02,  2.2767e-01, -1.6997e-01, -6.8851e-02,\n",
      "        1.1240e-01,  5.0171e-01, -1.7130e-01, -2.4996e-01,  2.0415e-01],\n",
      "      dtype=float32)),\n",
      " ('cart',\n",
      "  array([-9.5941e-01, -1.3244e-01, -4.0781e-01, -1.6105e-01,  9.0079e-01,\n",
      "       -6.2495e-01,  1.9808e-02, -3.3392e-01,  6.9751e-01, -3.2706e-01,\n",
      "        7.6056e-01,  9.7973e-01, -2.0602e+00,  2.8303e-02,  4.0289e-01,\n",
      "        3.9693e-01,  3.7966e-01, -6.2229e-01, -2.0016e-03, -6.7711e-02,\n",
      "       -2.3231e-01, -2.5877e-01,  6.0567e-01, -5.0645e-03, -1.0308e-01,\n",
      "        8.1790e-01, -8.9303e-01,  2.6405e-01,  1.9210e-01, -4.2307e-01,\n",
      "        2.5479e-01, -6.8431e-02, -1.4063e-02, -1.3592e+00,  1.5808e-01,\n",
      "        2.1494e-01,  6.8527e-01,  5.2884e-01,  3.3263e-01,  2.5476e-02,\n",
      "       -2.1072e-01,  1.3368e+00, -8.4683e-01, -7.6833e-01,  8.5318e-01,\n",
      "        4.0324e-01, -3.4235e-02,  2.7536e-01,  1.2719e-01,  4.8708e-01],\n",
      "      dtype=float32)),\n",
      " ('seats',\n",
      "  array([ 0.26285  , -0.36878  ,  0.95363  ,  0.25466  , -0.21188  ,\n",
      "       -0.50289  ,  0.92677  ,  0.46699  ,  0.26938  , -0.73464  ,\n",
      "        0.68061  , -0.46538  , -2.9934   ,  0.15943  ,  0.92958  ,\n",
      "        0.96445  , -0.19603  , -0.84996  , -0.57998  ,  0.22855  ,\n",
      "       -0.80445  , -1.4504   ,  0.77642  , -0.049717 , -0.37453  ,\n",
      "        0.99299  , -0.78962  , -0.33776  , -0.43973  , -0.35432  ,\n",
      "        0.66495  ,  0.72955  ,  0.43549  ,  0.49489  ,  1.4032   ,\n",
      "       -0.42153  ,  0.0055356,  0.2083   ,  0.24984  ,  0.24588  ,\n",
      "        0.60279  ,  1.9941   , -0.25869  , -0.47908  ,  0.1719   ,\n",
      "       -0.30145  ,  0.67101  , -0.20577  ,  0.54319  ,  0.74157  ],\n",
      "      dtype=float32)),\n",
      " ('filters',\n",
      "  array([ 0.38033  ,  0.13425  , -0.82869  ,  0.23308  ,  0.37052  ,\n",
      "       -0.27338  ,  0.33406  , -1.6956   , -0.17849  ,  0.036408 ,\n",
      "        0.40709  ,  0.7837   , -2.3725   , -0.074576 , -0.017228 ,\n",
      "        0.2055   ,  0.40083  , -0.99549  ,  1.2724   ,  0.075532 ,\n",
      "       -1.3188   , -1.0719   ,  0.59802  , -0.36261  , -0.54188  ,\n",
      "        0.694    , -0.55327  ,  1.5227   , -0.49679  ,  0.63057  ,\n",
      "       -0.40597  ,  0.90341  , -0.16755  , -0.92131  , -0.28838  ,\n",
      "       -1.1736   ,  0.021745 ,  0.99147  , -0.011556 ,  0.83514  ,\n",
      "        0.79233  , -0.16358  , -0.0032434, -0.98248  , -0.87109  ,\n",
      "       -0.8397   , -0.11492  , -0.14234  , -0.34669  , -0.06086  ],\n",
      "      dtype=float32)),\n",
      " ('ornaments',\n",
      "  array([-0.33564 , -1.2187  ,  0.63932 ,  0.80142 ,  0.8723  , -0.81238 ,\n",
      "        0.48912 , -0.99853 ,  0.45319 , -1.2958  ,  0.51832 ,  1.1668  ,\n",
      "       -1.5332  ,  0.49756 , -0.40449 ,  0.82961 , -0.63531 , -0.23606 ,\n",
      "        0.30976 ,  0.64708 , -0.8387  ,  0.022952, -0.19352 , -0.23858 ,\n",
      "       -0.2538  ,  1.1626  , -1.5231  ,  0.65627 ,  0.94926 , -0.37529 ,\n",
      "        0.74436 ,  0.85892 ,  0.40504 ,  0.023726, -0.58124 , -0.80852 ,\n",
      "        0.63623 ,  0.35294 ,  0.35802 ,  0.4455  ,  0.91665 ,  0.14125 ,\n",
      "       -0.017966, -0.29736 ,  0.33629 ,  0.5753  , -0.14808 , -0.87878 ,\n",
      "       -0.30275 ,  0.69125 ], dtype=float32)),\n",
      " ('work',\n",
      "  array([ 0.3776  ,  0.21447 , -0.29352 , -0.79874 ,  0.35123 ,  0.57598 ,\n",
      "        1.0383  , -0.26038 , -0.032432, -0.047572, -0.41021 ,  0.1016  ,\n",
      "       -5.2631  ,  0.43006 , -0.34342 ,  0.044046, -0.14105 , -0.30377 ,\n",
      "       -1.3424  , -0.17151 , -0.94309 ,  0.041286,  0.063519,  0.64206 ,\n",
      "        0.089367,  0.49381 ,  0.36488 ,  0.15275 ,  0.3701  , -0.24825 ,\n",
      "        0.18658 , -0.2535  , -0.1437  , -0.22507 ,  0.43583 ,  0.36603 ,\n",
      "       -0.13385 ,  0.85285 ,  0.060484,  0.41205 , -0.20894 ,  1.0483  ,\n",
      "        0.45418 ,  0.047709,  0.81107 , -0.25501 ,  0.13874 ,  0.45564 ,\n",
      "       -0.62304 ,  0.23765 ], dtype=float32)),\n",
      " ('cropped',\n",
      "  array([-0.7089   , -1.3022   ,  1.1168   ,  0.23158  ,  0.26371  ,\n",
      "       -1.1579   ,  0.48084  , -0.11956  ,  0.22574  , -0.24983  ,\n",
      "       -0.01486  ,  0.78779  , -1.1791   , -0.054151 , -0.94399  ,\n",
      "       -0.30712  ,  0.0072362, -0.68401  , -0.071971 , -0.21845  ,\n",
      "       -0.27045  , -0.38434  ,  0.76913  , -0.94469  , -1.2081   ,\n",
      "        0.37339  , -0.28813  ,  0.55248  , -0.39049  , -0.12848  ,\n",
      "        0.085051 ,  1.5299   ,  0.48663  , -1.7078   ,  0.53539  ,\n",
      "       -0.51748  , -0.24903  , -0.065663 , -0.033055 ,  0.10332  ,\n",
      "        0.21449  , -0.25789  ,  0.15249  , -0.31317  , -0.27178  ,\n",
      "       -0.33381  ,  0.40422  ,  0.2146   , -0.35424  , -0.49816  ],\n",
      "      dtype=float32)),\n",
      " ('strength',\n",
      "  array([-0.65446  , -0.37201  ,  0.02543  , -0.13545  ,  0.1918   ,\n",
      "        1.511    ,  0.74886  , -0.79741  , -1.2225   , -0.29885  ,\n",
      "       -0.38117  ,  0.10352  , -3.5027   ,  0.14344  ,  0.082868 ,\n",
      "        0.72188  ,  0.24522  ,  0.62638  ,  0.26516  , -1.5123   ,\n",
      "       -0.7943   ,  1.3723   ,  0.26875  ,  0.86294  ,  0.0076317,\n",
      "        1.0331   ,  0.4626   ,  0.7739   ,  1.0023   ,  0.54031  ,\n",
      "        0.32617  , -1.1961   ,  0.19272  ,  0.38782  ,  1.015    ,\n",
      "        0.11792  ,  0.074253 ,  0.30482  , -0.25891  ,  0.045084 ,\n",
      "        1.0569   , -0.035558 ,  0.75713  , -0.3838   , -0.079759 ,\n",
      "       -0.6666   ,  0.63446  ,  0.021915 ,  1.0256   , -0.17826  ],\n",
      "      dtype=float32))]\n"
     ]
    }
   ],
   "source": [
    "word_vec_mapping = {}\n",
    "path = \"glove.twitter.27B.50d.txt\"\n",
    "with open(path, 'r', encoding='utf8') as f:  ## 這個文檔的格式是一行一個字並配上他的向量，以空白鍵分隔\n",
    "    count = 0\n",
    "    for line in f:  \n",
    "        tokens = line.split()\n",
    "        token = tokens[0]  ## 第一個token就是詞彙\n",
    "        vec = tokens[1:]  ## 後面的token向量\n",
    "        word_vec_mapping[token] = np.array(vec, dtype=np.float32)  ## 把整個model做成一個字典，以利查找字對應的向量\n",
    "        count += 1\n",
    "vec_dimensions = len(word_vec_mapping.get('men'))  ## 記錄這個mdoel每一個字的維度\n",
    "print(\"vec_dimensions:\", vec_dimensions)\n",
    "pprint(list(word_vec_mapping.items())[:10])"
   ]
  },
  {
   "cell_type": "code",
   "execution_count": 33,
   "metadata": {},
   "outputs": [
    {
     "name": "stdout",
     "output_type": "stream",
     "text": [
      "before tokenize: Small Animal\n",
      "after tokenize: ['small', 'animal']\n"
     ]
    }
   ],
   "source": [
    "def tokenize(Doc):\n",
    "    if pd.notnull(Doc):\n",
    "        tokens = nltk.wordpunct_tokenize(Doc)\n",
    "        words = [w.lower() for w in tokens if w not in stops and w not in puns]\n",
    "        return words\n",
    "    else:\n",
    "        return None\n",
    "    \n",
    "print(\"before tokenize:\", all_categories[0])\n",
    "print(\"after tokenize:\", tokenize(all_categories[0]))\n"
   ]
  },
  {
   "cell_type": "markdown",
   "metadata": {},
   "source": [
    "# category to vec"
   ]
  },
  {
   "cell_type": "code",
   "execution_count": 34,
   "metadata": {},
   "outputs": [
    {
     "data": {
      "text/plain": [
       "array([[-1.06568001e-01, -2.19300002e-01, -5.04960010e-01,\n",
       "         7.89400041e-02,  4.33136672e-01, -2.04033335e-01,\n",
       "         2.69650002e-01, -4.01289991e-02,  6.66566640e-02,\n",
       "        -3.47369999e-01, -1.45897331e-01,  5.23586671e-02,\n",
       "        -2.56810006e+00, -5.97266654e-02,  2.70169998e-01,\n",
       "         3.27853332e-01,  1.49886663e-01, -3.41743320e-01,\n",
       "         4.56019998e-01, -3.18910003e-01, -2.26503337e-01,\n",
       "        -1.98499958e-02,  1.73773328e-01, -7.36466646e-02,\n",
       "        -1.91801341e-01,  3.99000247e-02, -4.33019996e-01,\n",
       "         1.95446660e-01,  3.02536656e-01, -2.64469996e-01,\n",
       "         1.43448664e-01, -2.21346666e-01,  2.67573337e-01,\n",
       "        -1.34714002e-01,  1.03713324e-01, -1.49645003e-01,\n",
       "        -3.23186656e-01,  3.05600067e-02, -1.53926671e-01,\n",
       "        -4.57656662e-01, -6.81633313e-01, -2.12436676e-01,\n",
       "        -9.16280023e-03, -1.15173330e-01,  2.89599995e-01,\n",
       "         2.76519994e-01,  6.86560015e-01,  5.35286645e-01,\n",
       "        -6.97303365e-02, -1.31800175e-02],\n",
       "       [-1.34635001e-01, -1.01580001e-01,  2.90569991e-01,\n",
       "         3.66704985e-02,  6.18049979e-01, -1.25829997e-02,\n",
       "         8.72799978e-02, -3.69569995e-02,  2.68985003e-01,\n",
       "        -7.27000013e-02, -8.52800012e-02,  2.14680001e-01,\n",
       "        -1.70260000e+00, -1.00740001e-01,  1.68204993e-01,\n",
       "         3.43964994e-02,  2.82214999e-01, -8.15099999e-02,\n",
       "        -3.58479992e-02,  9.94149968e-02, -5.05349994e-01,\n",
       "        -6.05799973e-01, -1.33295000e-01,  1.48310000e-02,\n",
       "         2.03070000e-01,  4.44945008e-01, -4.16644990e-01,\n",
       "         9.57150012e-02,  1.52985007e-01, -7.69449994e-02,\n",
       "         1.58664994e-02,  1.58519998e-01, -3.18235010e-01,\n",
       "        -1.35325000e-01, -3.47584993e-01, -1.70754999e-01,\n",
       "         3.93254995e-01,  2.92789996e-01,  5.57299972e-01,\n",
       "         1.86535001e-01, -2.43070006e-01,  7.99199998e-01,\n",
       "        -4.32015002e-01,  1.27194999e-02,  7.96999991e-01,\n",
       "         2.56529987e-01,  4.61564988e-01,  2.03160003e-01,\n",
       "         3.38359997e-02, -2.39829998e-02],\n",
       "       [-9.88099992e-01, -3.99809986e-01,  1.40489995e-01,\n",
       "         4.40685004e-01,  1.65604994e-01, -1.38370007e-01,\n",
       "         7.02899992e-01, -3.35615009e-01,  2.35764995e-01,\n",
       "        -1.79150000e-01, -1.63994998e-01,  2.00165004e-01,\n",
       "        -9.77949977e-01,  3.42664987e-01,  2.68189996e-01,\n",
       "         5.88299990e-01,  1.45380005e-01,  5.01550019e-01,\n",
       "         4.08995003e-01,  5.53049982e-01, -3.92275006e-02,\n",
       "        -3.06190014e-01,  7.81100020e-02, -3.90645005e-02,\n",
       "         4.11195010e-01,  6.43949986e-01,  4.59630013e-01,\n",
       "         3.68274987e-01, -2.15910003e-01,  2.59900004e-01,\n",
       "         1.87040001e-01,  4.45854992e-01, -3.99720013e-01,\n",
       "        -3.37610006e-01,  5.33200026e-01, -3.45414996e-01,\n",
       "        -8.76500010e-02,  3.10175002e-01, -1.95030004e-01,\n",
       "         1.97630003e-01,  6.70050010e-02, -4.89879996e-01,\n",
       "        -3.67805004e-01, -1.04879998e-01, -1.06974997e-01,\n",
       "        -1.88885003e-01,  3.19970012e-01, -4.69814986e-01,\n",
       "        -4.91315007e-01,  7.24899992e-02],\n",
       "       [-5.72879985e-01, -3.72375004e-01,  1.73656000e-01,\n",
       "        -1.25377495e-01,  3.21415495e-01,  4.43422489e-01,\n",
       "         9.04500008e-01,  2.20465001e-01,  1.78347498e-01,\n",
       "         5.64057200e-02, -2.68505001e-02,  4.72430006e-01,\n",
       "        -2.26352495e+00,  5.08339994e-01, -2.02354499e-01,\n",
       "         7.00457469e-02, -1.42926505e-01, -4.87674996e-02,\n",
       "        -4.37105000e-01, -8.81584955e-02, -2.55424757e-01,\n",
       "         1.25782505e-01,  5.74095011e-01, -4.95189987e-02,\n",
       "         7.20500015e-02,  4.65198249e-01,  5.72074968e-02,\n",
       "         4.60020250e-01, -5.30047499e-01, -1.69639246e-01,\n",
       "         2.15515029e-02,  3.21728000e-01,  6.42565023e-02,\n",
       "         6.74249977e-03,  4.20754790e-01, -3.53294998e-01,\n",
       "        -2.27737520e-01, -2.42581507e-02,  1.83318496e-01,\n",
       "         2.09748233e-01, -2.33150087e-03, -1.15577500e-01,\n",
       "        -6.14999048e-03,  7.64252529e-02, -1.41474977e-02,\n",
       "        -6.63224980e-02,  3.48339995e-01,  1.91319998e-01,\n",
       "        -3.63100022e-02, -1.00507505e-01],\n",
       "       [-5.97150028e-01, -5.94399989e-01, -1.63774993e-02,\n",
       "         4.91149984e-02, -2.65870005e-01, -3.69334996e-01,\n",
       "         1.98805004e-01, -1.74585000e-01,  5.84500015e-01,\n",
       "         2.60464996e-01,  2.06214994e-01, -4.80899997e-02,\n",
       "        -1.22609997e+00, -1.58954993e-01,  2.90910006e-02,\n",
       "         4.67680007e-01, -1.41160004e-02, -5.87849990e-02,\n",
       "         1.88034996e-01, -1.26890004e-01, -6.39750004e-01,\n",
       "        -5.56150004e-02,  2.95789987e-01, -4.20410000e-02,\n",
       "        -6.28350019e-01,  2.38389999e-01, -6.81950003e-02,\n",
       "        -3.63480002e-01,  1.04269996e-01, -3.48015010e-01,\n",
       "        -2.70485014e-01, -6.29250035e-02, -1.83335006e-01,\n",
       "        -5.69400012e-01,  6.33250028e-02, -3.63739997e-01,\n",
       "         1.44985005e-01,  2.18504995e-01,  1.62530005e-01,\n",
       "        -2.52485007e-01,  9.05449986e-02,  3.32430005e-01,\n",
       "        -1.49780005e-01, -3.16780001e-01,  4.32065010e-01,\n",
       "        -5.20600021e-01,  3.35530013e-01, -1.33939996e-01,\n",
       "         1.00034997e-01,  3.99100006e-01],\n",
       "       [-3.78824994e-02,  2.16715001e-02, -2.03614995e-01,\n",
       "         4.73949999e-01,  3.97415012e-01, -1.50375003e-02,\n",
       "         1.47259995e-01, -2.83484995e-01,  1.61620006e-01,\n",
       "        -3.39244992e-01, -1.35114998e-01,  1.29594997e-01,\n",
       "        -1.00569999e+00, -1.65745005e-01, -2.52894998e-01,\n",
       "         2.82804996e-01, -2.00295001e-01, -2.60520011e-01,\n",
       "         2.47584999e-01,  2.77945008e-02, -1.43289998e-01,\n",
       "        -8.99500027e-02, -1.50639996e-01,  1.12109996e-01,\n",
       "         1.63554996e-01,  4.38300014e-01,  5.07000029e-01,\n",
       "         2.88100004e-01, -2.43440002e-01, -2.89445013e-01,\n",
       "         1.19479999e-01,  1.62159994e-01,  1.19889997e-01,\n",
       "         2.93314993e-01, -1.59159992e-02,  1.79305002e-01,\n",
       "        -9.56100002e-02,  2.05795005e-01, -3.18405002e-01,\n",
       "        -9.31150019e-02,  5.29900014e-01,  1.79069996e-01,\n",
       "         4.37990010e-01, -3.05269986e-01,  6.69950023e-02,\n",
       "        -6.88150004e-02,  3.27600017e-02, -4.47625011e-01,\n",
       "         1.87710002e-01, -2.22010002e-01],\n",
       "       [-2.06295005e-03, -7.10950017e-01,  6.01699995e-03,\n",
       "         1.32184997e-02,  3.89854997e-01, -2.01655000e-01,\n",
       "        -4.00155008e-01, -6.64200008e-01,  4.83485013e-02,\n",
       "        -7.72300005e-01,  6.34500012e-02, -1.24100000e-01,\n",
       "        -1.08194999e-01, -2.44039997e-01, -1.97549999e-01,\n",
       "        -2.21475005e-01, -1.26955003e-01, -2.79060006e-01,\n",
       "         2.16444999e-01,  3.07390004e-01, -3.23715001e-01,\n",
       "         3.88330013e-01, -2.82564998e-01, -1.92114994e-01,\n",
       "         6.96849972e-02,  6.21299982e-01, -6.67100012e-01,\n",
       "         4.64475006e-01,  1.35605007e-01, -1.07050002e-01,\n",
       "         1.89190000e-01,  4.20145005e-01,  4.92235005e-01,\n",
       "         2.21059993e-01, -2.05170006e-01, -4.55455005e-01,\n",
       "         3.75479996e-01,  1.05685003e-01,  1.76300004e-01,\n",
       "        -3.29115003e-01,  3.75914991e-01,  2.45995000e-01,\n",
       "         2.30765000e-01, -4.34990004e-02,  1.15625001e-01,\n",
       "         4.39765006e-02,  2.13789999e-01, -4.46650013e-02,\n",
       "         8.12150016e-02, -7.05699995e-02],\n",
       "       [-2.06564993e-01, -1.62304997e-01,  1.47585005e-01,\n",
       "        -3.58139984e-02,  1.60620004e-01, -2.66900003e-01,\n",
       "         3.64264995e-01, -1.53109998e-01,  3.98274988e-01,\n",
       "         1.24100000e-01,  8.43949974e-01,  3.20769995e-01,\n",
       "        -1.20214999e+00,  1.08580001e-01,  7.11399987e-02,\n",
       "         3.31640005e-01,  1.64250001e-01,  1.64305001e-01,\n",
       "         2.05550000e-01,  4.40645009e-01, -7.57300019e-01,\n",
       "        -7.32749999e-02, -2.19479993e-01, -1.98410004e-01,\n",
       "         7.79350027e-02,  1.17284998e-01, -4.28065002e-01,\n",
       "         1.44459993e-01, -3.14354986e-01, -1.71645004e-02,\n",
       "        -3.51389982e-02, -1.76145006e-02, -2.32284993e-01,\n",
       "        -4.58184987e-01,  3.92439999e-02, -4.60334986e-01,\n",
       "         4.15419996e-01, -3.32834989e-01, -1.48269996e-01,\n",
       "        -2.20679998e-01,  7.68600032e-02, -9.44700018e-02,\n",
       "         2.06180006e-01,  3.65249999e-03,  3.89064997e-01,\n",
       "         1.37335004e-03,  1.35535002e-01, -5.56599975e-01,\n",
       "         3.10039997e-01, -1.68155000e-01],\n",
       "       [-2.94550005e-02, -3.07659991e-02, -6.04799986e-01,\n",
       "         3.21434997e-02, -1.88095003e-01, -4.57619995e-01,\n",
       "         9.04750004e-02, -6.99699968e-02, -6.99149966e-02,\n",
       "        -4.50794995e-01,  5.74249998e-02,  4.97170001e-01,\n",
       "        -1.21949995e+00,  2.54070014e-01,  1.87730007e-02,\n",
       "         5.01850009e-01, -2.31519997e-01, -7.51699984e-01,\n",
       "         1.98330000e-01, -2.12695003e-01, -8.22299998e-03,\n",
       "        -1.99705005e-01, -1.47654995e-01,  1.04364999e-01,\n",
       "        -2.01924995e-01,  6.14300013e-01, -5.14199972e-01,\n",
       "         4.62215006e-01,  1.69790000e-01, -1.97325006e-01,\n",
       "         4.42554988e-02, -1.86079994e-01,  5.58150001e-02,\n",
       "         9.98499990e-02, -1.51519999e-01, -5.96000016e-01,\n",
       "        -1.32719994e-01, -7.31249973e-02, -2.29434997e-01,\n",
       "        -2.89404988e-01, -1.17435001e-01,  7.38350004e-02,\n",
       "        -1.01274997e-01,  4.62944992e-02,  3.37729990e-01,\n",
       "         4.17374998e-01,  3.88720006e-01,  1.84799999e-01,\n",
       "         4.11204994e-02, -2.70575006e-02],\n",
       "       [-5.98450005e-01, -9.79049981e-01,  5.17499983e-01,\n",
       "         8.30200016e-02,  8.11500028e-02, -1.82370007e-01,\n",
       "         4.35090005e-01, -1.22555003e-01,  4.54614997e-01,\n",
       "         1.58040002e-01, -4.15560007e-01,  2.46065006e-01,\n",
       "        -8.96300018e-01,  3.78800005e-01, -3.19875002e-01,\n",
       "         2.54184991e-01, -4.09689993e-01, -1.97424993e-01,\n",
       "        -3.04295003e-01, -1.66970000e-01, -2.54455000e-01,\n",
       "        -1.48959994e-01,  3.93539995e-01, -3.29495013e-01,\n",
       "         2.43544998e-03,  8.85500014e-02, -1.60435006e-01,\n",
       "         2.24160001e-01, -7.21499994e-02, -4.98634994e-01,\n",
       "         2.22555008e-02,  5.12600005e-01,  7.37500012e-01,\n",
       "        -8.35550010e-01,  1.35195002e-01, -1.94610000e-01,\n",
       "        -2.13465005e-01,  1.44014999e-01,  3.16814989e-01,\n",
       "        -2.08470002e-01, -2.54810005e-01,  2.24235002e-02,\n",
       "         1.44694997e-02,  2.49829993e-01,  3.05810004e-01,\n",
       "        -3.92244995e-01,  3.46105009e-01,  1.89404994e-01,\n",
       "         3.91080007e-02,  2.22635008e-02]])"
      ]
     },
     "execution_count": 34,
     "metadata": {},
     "output_type": "execute_result"
    }
   ],
   "source": [
    "def doc2vec(doc, word2vec=word_vec_mapping):\n",
    "    docvec=np.zeros(vec_dimensions, )  ## 先處使劃一條向量，如果某個類別裡面的字都沒有在字典裡，那麼會回傳這條向量\n",
    "    vec_count = 1\n",
    "    \n",
    "    if pd.notnull(doc):\n",
    "        terms = tokenize(doc)  ## 把類別tokenize成一個個的詞彙\n",
    "        for term in terms:\n",
    "            termvec = word_vec_mapping.get(term, None)  ## 得到詞向量\n",
    "            if termvec is not None:\n",
    "                docvec += np.array(termvec, dtype=np.float32)  ## 把詞向量家道類別向量中\n",
    "                vec_count += 1              \n",
    "    return (docvec/vec_count)  ##  記得加了幾條向量，就要處以相應的數字取平均\n",
    "\n",
    "all_categories_vecs = np.concatenate((pd.Series(all_categories).apply(doc2vec).values)).reshape(len(all_categories), -1)\n",
    "all_categories_vecs[:10]"
   ]
  },
  {
   "cell_type": "markdown",
   "metadata": {},
   "source": [
    "# Clustering"
   ]
  },
  {
   "cell_type": "code",
   "execution_count": 38,
   "metadata": {},
   "outputs": [],
   "source": [
    "from sklearn.cluster import KMeans\n",
    "from sklearn.cluster import AgglomerativeClustering\n",
    "from sklearn.cluster import DBSCAN\n",
    "from collections import Counter\n",
    "X = all_categories_vecs\n",
    "n_clusters= 15"
   ]
  },
  {
   "cell_type": "markdown",
   "metadata": {},
   "source": [
    "## K means"
   ]
  },
  {
   "cell_type": "code",
   "execution_count": 39,
   "metadata": {
    "scrolled": true
   },
   "outputs": [
    {
     "data": {
      "text/plain": [
       "Counter({7: 56,\n",
       "         13: 62,\n",
       "         9: 58,\n",
       "         4: 66,\n",
       "         1: 50,\n",
       "         6: 82,\n",
       "         2: 64,\n",
       "         5: 47,\n",
       "         14: 58,\n",
       "         8: 77,\n",
       "         0: 54,\n",
       "         3: 81,\n",
       "         11: 44,\n",
       "         10: 55,\n",
       "         12: 56})"
      ]
     },
     "execution_count": 39,
     "metadata": {},
     "output_type": "execute_result"
    }
   ],
   "source": [
    "kmeans = KMeans(n_clusters=n_clusters, random_state=0)\n",
    "all_categories_labels_kmeans = kmeans.fit_predict(X)\n",
    "Counter(all_categories_labels_kmeans)"
   ]
  },
  {
   "cell_type": "markdown",
   "metadata": {},
   "source": [
    "## Hireachy(single link)"
   ]
  },
  {
   "cell_type": "code",
   "execution_count": 40,
   "metadata": {
    "scrolled": true
   },
   "outputs": [
    {
     "data": {
      "text/plain": [
       "Counter({2: 74,\n",
       "         9: 46,\n",
       "         14: 43,\n",
       "         3: 83,\n",
       "         4: 68,\n",
       "         0: 95,\n",
       "         5: 109,\n",
       "         10: 65,\n",
       "         6: 46,\n",
       "         12: 33,\n",
       "         1: 93,\n",
       "         8: 48,\n",
       "         7: 49,\n",
       "         13: 29,\n",
       "         11: 29})"
      ]
     },
     "execution_count": 40,
     "metadata": {},
     "output_type": "execute_result"
    }
   ],
   "source": [
    "linkage = ['ward', 'average', 'complete']\n",
    "all_categories_labels_single = AgglomerativeClustering(linkage=linkage[0], n_clusters=n_clusters).fit_predict(X)\n",
    "Counter(all_categories_labels_single)"
   ]
  },
  {
   "cell_type": "markdown",
   "metadata": {},
   "source": [
    "## Hireachy(average link)"
   ]
  },
  {
   "cell_type": "code",
   "execution_count": 41,
   "metadata": {
    "scrolled": false
   },
   "outputs": [
    {
     "data": {
      "text/plain": [
       "Counter({0: 837,\n",
       "         2: 48,\n",
       "         6: 2,\n",
       "         5: 2,\n",
       "         9: 1,\n",
       "         12: 1,\n",
       "         13: 1,\n",
       "         14: 2,\n",
       "         4: 7,\n",
       "         11: 1,\n",
       "         1: 4,\n",
       "         7: 1,\n",
       "         10: 1,\n",
       "         8: 1,\n",
       "         3: 1})"
      ]
     },
     "execution_count": 41,
     "metadata": {},
     "output_type": "execute_result"
    }
   ],
   "source": [
    "linkage = ['ward', 'average', 'complete']\n",
    "all_categories_labels_average = AgglomerativeClustering(linkage=linkage[1], n_clusters=n_clusters).fit_predict(X)\n",
    "Counter(all_categories_labels_average)"
   ]
  },
  {
   "cell_type": "markdown",
   "metadata": {},
   "source": [
    "## Hireachy(complete link)"
   ]
  },
  {
   "cell_type": "code",
   "execution_count": 42,
   "metadata": {},
   "outputs": [
    {
     "data": {
      "text/plain": [
       "Counter({4: 98,\n",
       "         6: 111,\n",
       "         8: 53,\n",
       "         1: 178,\n",
       "         12: 56,\n",
       "         2: 40,\n",
       "         9: 69,\n",
       "         10: 4,\n",
       "         5: 71,\n",
       "         7: 25,\n",
       "         0: 93,\n",
       "         3: 63,\n",
       "         11: 38,\n",
       "         14: 3,\n",
       "         13: 8})"
      ]
     },
     "execution_count": 42,
     "metadata": {},
     "output_type": "execute_result"
    }
   ],
   "source": [
    "linkage = ['ward', 'average', 'complete']\n",
    "all_categories_labels_complete = AgglomerativeClustering(linkage=linkage[2], n_clusters=n_clusters).fit_predict(X)\n",
    "Counter(all_categories_labels_complete)"
   ]
  },
  {
   "cell_type": "markdown",
   "metadata": {},
   "source": [
    "## DBSCAN"
   ]
  },
  {
   "cell_type": "code",
   "execution_count": 43,
   "metadata": {},
   "outputs": [
    {
     "data": {
      "text/plain": [
       "Counter({-1: 898, 0: 12})"
      ]
     },
     "execution_count": 43,
     "metadata": {},
     "output_type": "execute_result"
    }
   ],
   "source": [
    "all_categories_labels_dbscam = DBSCAN().fit_predict(X)\n",
    "Counter(all_categories_labels_dbscam)"
   ]
  },
  {
   "cell_type": "code",
   "execution_count": 44,
   "metadata": {},
   "outputs": [
    {
     "name": "stdout",
     "output_type": "stream",
     "text": [
      "['Teethers', 'Playards', 'Epilators', 'Sweatercoat', 'Rainwear', 'Needlecraft', 'Bedspreads & Coverlets', 'Dehumidifiers', 'Humidifiers', 'Paperweights', 'Papermaking', 'other']\n"
     ]
    }
   ],
   "source": [
    "df_cat = pd.DataFrame(all_categories_labels_dbscam, index=all_categories, columns=['label'])\n",
    "print(list(df_cat[df_cat['label'] == 0].index))"
   ]
  },
  {
   "cell_type": "markdown",
   "metadata": {},
   "source": [
    "# PCA"
   ]
  },
  {
   "cell_type": "code",
   "execution_count": 69,
   "metadata": {},
   "outputs": [],
   "source": [
    "import matplotlib.pyplot as plt\n",
    "from mpl_toolkits.mplot3d import Axes3D\n",
    "from sklearn.decomposition import PCA\n",
    "\n",
    "def draw_PCA(X, Y, title):\n",
    "#     plt.rcParams[\"figure.figsize\"] = (20,3)\n",
    "    fig = plt.figure(1, figsize=(8, 6))\n",
    "    fig.set_size_inches(40, 40)\n",
    "    ax = Axes3D(fig, elev=-150, azim=110)\n",
    "\n",
    "    X_reduced = PCA(n_components=3).fit_transform(X)\n",
    "    ax.scatter(X_reduced[:, 0], X_reduced[:, 1], X_reduced[:, 2], c=Y,\n",
    "               cmap=plt.cm.Set1, edgecolor='k', s=40)\n",
    "    ax.set_title(title)\n",
    "    ax.set_xlabel(\"1st eigenvector\")\n",
    "    ax.w_xaxis.set_ticklabels([])\n",
    "    ax.set_ylabel(\"2nd eigenvector\")\n",
    "    ax.w_yaxis.set_ticklabels([])\n",
    "    ax.set_zlabel(\"3rd eigenvector\")\n",
    "    ax.w_zaxis.set_ticklabels([])\n",
    "\n",
    "    plt.show()"
   ]
  },
  {
   "cell_type": "code",
   "execution_count": 70,
   "metadata": {},
   "outputs": [
    {
     "ename": "MemoryError",
     "evalue": "In RendererAgg: Out of memory",
     "output_type": "error",
     "traceback": [
      "\u001b[1;31m---------------------------------------------------------------------------\u001b[0m",
      "\u001b[1;31mMemoryError\u001b[0m                               Traceback (most recent call last)",
      "\u001b[1;32mc:\\users\\test\\appdata\\local\\programs\\python\\python36\\lib\\site-packages\\IPython\\core\\formatters.py\u001b[0m in \u001b[0;36m__call__\u001b[1;34m(self, obj)\u001b[0m\n\u001b[0;32m    339\u001b[0m                 \u001b[1;32mpass\u001b[0m\u001b[1;33m\u001b[0m\u001b[0m\n\u001b[0;32m    340\u001b[0m             \u001b[1;32melse\u001b[0m\u001b[1;33m:\u001b[0m\u001b[1;33m\u001b[0m\u001b[0m\n\u001b[1;32m--> 341\u001b[1;33m                 \u001b[1;32mreturn\u001b[0m \u001b[0mprinter\u001b[0m\u001b[1;33m(\u001b[0m\u001b[0mobj\u001b[0m\u001b[1;33m)\u001b[0m\u001b[1;33m\u001b[0m\u001b[0m\n\u001b[0m\u001b[0;32m    342\u001b[0m             \u001b[1;31m# Finally look for special method names\u001b[0m\u001b[1;33m\u001b[0m\u001b[1;33m\u001b[0m\u001b[0m\n\u001b[0;32m    343\u001b[0m             \u001b[0mmethod\u001b[0m \u001b[1;33m=\u001b[0m \u001b[0mget_real_method\u001b[0m\u001b[1;33m(\u001b[0m\u001b[0mobj\u001b[0m\u001b[1;33m,\u001b[0m \u001b[0mself\u001b[0m\u001b[1;33m.\u001b[0m\u001b[0mprint_method\u001b[0m\u001b[1;33m)\u001b[0m\u001b[1;33m\u001b[0m\u001b[0m\n",
      "\u001b[1;32mc:\\users\\test\\appdata\\local\\programs\\python\\python36\\lib\\site-packages\\IPython\\core\\pylabtools.py\u001b[0m in \u001b[0;36m<lambda>\u001b[1;34m(fig)\u001b[0m\n\u001b[0;32m    242\u001b[0m \u001b[1;33m\u001b[0m\u001b[0m\n\u001b[0;32m    243\u001b[0m     \u001b[1;32mif\u001b[0m \u001b[1;34m'png'\u001b[0m \u001b[1;32min\u001b[0m \u001b[0mformats\u001b[0m\u001b[1;33m:\u001b[0m\u001b[1;33m\u001b[0m\u001b[0m\n\u001b[1;32m--> 244\u001b[1;33m         \u001b[0mpng_formatter\u001b[0m\u001b[1;33m.\u001b[0m\u001b[0mfor_type\u001b[0m\u001b[1;33m(\u001b[0m\u001b[0mFigure\u001b[0m\u001b[1;33m,\u001b[0m \u001b[1;32mlambda\u001b[0m \u001b[0mfig\u001b[0m\u001b[1;33m:\u001b[0m \u001b[0mprint_figure\u001b[0m\u001b[1;33m(\u001b[0m\u001b[0mfig\u001b[0m\u001b[1;33m,\u001b[0m \u001b[1;34m'png'\u001b[0m\u001b[1;33m,\u001b[0m \u001b[1;33m**\u001b[0m\u001b[0mkwargs\u001b[0m\u001b[1;33m)\u001b[0m\u001b[1;33m)\u001b[0m\u001b[1;33m\u001b[0m\u001b[0m\n\u001b[0m\u001b[0;32m    245\u001b[0m     \u001b[1;32mif\u001b[0m \u001b[1;34m'retina'\u001b[0m \u001b[1;32min\u001b[0m \u001b[0mformats\u001b[0m \u001b[1;32mor\u001b[0m \u001b[1;34m'png2x'\u001b[0m \u001b[1;32min\u001b[0m \u001b[0mformats\u001b[0m\u001b[1;33m:\u001b[0m\u001b[1;33m\u001b[0m\u001b[0m\n\u001b[0;32m    246\u001b[0m         \u001b[0mpng_formatter\u001b[0m\u001b[1;33m.\u001b[0m\u001b[0mfor_type\u001b[0m\u001b[1;33m(\u001b[0m\u001b[0mFigure\u001b[0m\u001b[1;33m,\u001b[0m \u001b[1;32mlambda\u001b[0m \u001b[0mfig\u001b[0m\u001b[1;33m:\u001b[0m \u001b[0mretina_figure\u001b[0m\u001b[1;33m(\u001b[0m\u001b[0mfig\u001b[0m\u001b[1;33m,\u001b[0m \u001b[1;33m**\u001b[0m\u001b[0mkwargs\u001b[0m\u001b[1;33m)\u001b[0m\u001b[1;33m)\u001b[0m\u001b[1;33m\u001b[0m\u001b[0m\n",
      "\u001b[1;32mc:\\users\\test\\appdata\\local\\programs\\python\\python36\\lib\\site-packages\\IPython\\core\\pylabtools.py\u001b[0m in \u001b[0;36mprint_figure\u001b[1;34m(fig, fmt, bbox_inches, **kwargs)\u001b[0m\n\u001b[0;32m    126\u001b[0m \u001b[1;33m\u001b[0m\u001b[0m\n\u001b[0;32m    127\u001b[0m     \u001b[0mbytes_io\u001b[0m \u001b[1;33m=\u001b[0m \u001b[0mBytesIO\u001b[0m\u001b[1;33m(\u001b[0m\u001b[1;33m)\u001b[0m\u001b[1;33m\u001b[0m\u001b[0m\n\u001b[1;32m--> 128\u001b[1;33m     \u001b[0mfig\u001b[0m\u001b[1;33m.\u001b[0m\u001b[0mcanvas\u001b[0m\u001b[1;33m.\u001b[0m\u001b[0mprint_figure\u001b[0m\u001b[1;33m(\u001b[0m\u001b[0mbytes_io\u001b[0m\u001b[1;33m,\u001b[0m \u001b[1;33m**\u001b[0m\u001b[0mkw\u001b[0m\u001b[1;33m)\u001b[0m\u001b[1;33m\u001b[0m\u001b[0m\n\u001b[0m\u001b[0;32m    129\u001b[0m     \u001b[0mdata\u001b[0m \u001b[1;33m=\u001b[0m \u001b[0mbytes_io\u001b[0m\u001b[1;33m.\u001b[0m\u001b[0mgetvalue\u001b[0m\u001b[1;33m(\u001b[0m\u001b[1;33m)\u001b[0m\u001b[1;33m\u001b[0m\u001b[0m\n\u001b[0;32m    130\u001b[0m     \u001b[1;32mif\u001b[0m \u001b[0mfmt\u001b[0m \u001b[1;33m==\u001b[0m \u001b[1;34m'svg'\u001b[0m\u001b[1;33m:\u001b[0m\u001b[1;33m\u001b[0m\u001b[0m\n",
      "\u001b[1;32mc:\\users\\test\\appdata\\local\\programs\\python\\python36\\lib\\site-packages\\matplotlib\\backend_bases.py\u001b[0m in \u001b[0;36mprint_figure\u001b[1;34m(self, filename, dpi, facecolor, edgecolor, orientation, format, bbox_inches, **kwargs)\u001b[0m\n\u001b[0;32m   2073\u001b[0m                     \u001b[0morientation\u001b[0m\u001b[1;33m=\u001b[0m\u001b[0morientation\u001b[0m\u001b[1;33m,\u001b[0m\u001b[1;33m\u001b[0m\u001b[0m\n\u001b[0;32m   2074\u001b[0m                     \u001b[0mbbox_inches_restore\u001b[0m\u001b[1;33m=\u001b[0m\u001b[0m_bbox_inches_restore\u001b[0m\u001b[1;33m,\u001b[0m\u001b[1;33m\u001b[0m\u001b[0m\n\u001b[1;32m-> 2075\u001b[1;33m                     **kwargs)\n\u001b[0m\u001b[0;32m   2076\u001b[0m             \u001b[1;32mfinally\u001b[0m\u001b[1;33m:\u001b[0m\u001b[1;33m\u001b[0m\u001b[0m\n\u001b[0;32m   2077\u001b[0m                 \u001b[1;32mif\u001b[0m \u001b[0mbbox_inches\u001b[0m \u001b[1;32mand\u001b[0m \u001b[0mrestore_bbox\u001b[0m\u001b[1;33m:\u001b[0m\u001b[1;33m\u001b[0m\u001b[0m\n",
      "\u001b[1;32mc:\\users\\test\\appdata\\local\\programs\\python\\python36\\lib\\site-packages\\matplotlib\\backends\\backend_agg.py\u001b[0m in \u001b[0;36mprint_png\u001b[1;34m(self, filename_or_obj, *args, **kwargs)\u001b[0m\n\u001b[0;32m    508\u001b[0m \u001b[1;33m\u001b[0m\u001b[0m\n\u001b[0;32m    509\u001b[0m         \"\"\"\n\u001b[1;32m--> 510\u001b[1;33m         \u001b[0mFigureCanvasAgg\u001b[0m\u001b[1;33m.\u001b[0m\u001b[0mdraw\u001b[0m\u001b[1;33m(\u001b[0m\u001b[0mself\u001b[0m\u001b[1;33m)\u001b[0m\u001b[1;33m\u001b[0m\u001b[0m\n\u001b[0m\u001b[0;32m    511\u001b[0m         \u001b[0mrenderer\u001b[0m \u001b[1;33m=\u001b[0m \u001b[0mself\u001b[0m\u001b[1;33m.\u001b[0m\u001b[0mget_renderer\u001b[0m\u001b[1;33m(\u001b[0m\u001b[1;33m)\u001b[0m\u001b[1;33m\u001b[0m\u001b[0m\n\u001b[0;32m    512\u001b[0m \u001b[1;33m\u001b[0m\u001b[0m\n",
      "\u001b[1;32mc:\\users\\test\\appdata\\local\\programs\\python\\python36\\lib\\site-packages\\matplotlib\\backends\\backend_agg.py\u001b[0m in \u001b[0;36mdraw\u001b[1;34m(self)\u001b[0m\n\u001b[0;32m    394\u001b[0m         \u001b[0mDraw\u001b[0m \u001b[0mthe\u001b[0m \u001b[0mfigure\u001b[0m \u001b[0musing\u001b[0m \u001b[0mthe\u001b[0m \u001b[0mrenderer\u001b[0m\u001b[1;33m.\u001b[0m\u001b[1;33m\u001b[0m\u001b[0m\n\u001b[0;32m    395\u001b[0m         \"\"\"\n\u001b[1;32m--> 396\u001b[1;33m         \u001b[0mself\u001b[0m\u001b[1;33m.\u001b[0m\u001b[0mrenderer\u001b[0m \u001b[1;33m=\u001b[0m \u001b[0mself\u001b[0m\u001b[1;33m.\u001b[0m\u001b[0mget_renderer\u001b[0m\u001b[1;33m(\u001b[0m\u001b[0mcleared\u001b[0m\u001b[1;33m=\u001b[0m\u001b[1;32mTrue\u001b[0m\u001b[1;33m)\u001b[0m\u001b[1;33m\u001b[0m\u001b[0m\n\u001b[0m\u001b[0;32m    397\u001b[0m         \u001b[1;31m# acquire a lock on the shared font cache\u001b[0m\u001b[1;33m\u001b[0m\u001b[1;33m\u001b[0m\u001b[0m\n\u001b[0;32m    398\u001b[0m         \u001b[0mRendererAgg\u001b[0m\u001b[1;33m.\u001b[0m\u001b[0mlock\u001b[0m\u001b[1;33m.\u001b[0m\u001b[0macquire\u001b[0m\u001b[1;33m(\u001b[0m\u001b[1;33m)\u001b[0m\u001b[1;33m\u001b[0m\u001b[0m\n",
      "\u001b[1;32mc:\\users\\test\\appdata\\local\\programs\\python\\python36\\lib\\site-packages\\matplotlib\\backends\\backend_agg.py\u001b[0m in \u001b[0;36mget_renderer\u001b[1;34m(self, cleared)\u001b[0m\n\u001b[0;32m    415\u001b[0m \u001b[1;33m\u001b[0m\u001b[0m\n\u001b[0;32m    416\u001b[0m         \u001b[1;32mif\u001b[0m \u001b[0mneed_new_renderer\u001b[0m\u001b[1;33m:\u001b[0m\u001b[1;33m\u001b[0m\u001b[0m\n\u001b[1;32m--> 417\u001b[1;33m             \u001b[0mself\u001b[0m\u001b[1;33m.\u001b[0m\u001b[0mrenderer\u001b[0m \u001b[1;33m=\u001b[0m \u001b[0mRendererAgg\u001b[0m\u001b[1;33m(\u001b[0m\u001b[0mw\u001b[0m\u001b[1;33m,\u001b[0m \u001b[0mh\u001b[0m\u001b[1;33m,\u001b[0m \u001b[0mself\u001b[0m\u001b[1;33m.\u001b[0m\u001b[0mfigure\u001b[0m\u001b[1;33m.\u001b[0m\u001b[0mdpi\u001b[0m\u001b[1;33m)\u001b[0m\u001b[1;33m\u001b[0m\u001b[0m\n\u001b[0m\u001b[0;32m    418\u001b[0m             \u001b[0mself\u001b[0m\u001b[1;33m.\u001b[0m\u001b[0m_lastKey\u001b[0m \u001b[1;33m=\u001b[0m \u001b[0mkey\u001b[0m\u001b[1;33m\u001b[0m\u001b[0m\n\u001b[0;32m    419\u001b[0m         \u001b[1;32melif\u001b[0m \u001b[0mcleared\u001b[0m\u001b[1;33m:\u001b[0m\u001b[1;33m\u001b[0m\u001b[0m\n",
      "\u001b[1;32mc:\\users\\test\\appdata\\local\\programs\\python\\python36\\lib\\site-packages\\matplotlib\\backends\\backend_agg.py\u001b[0m in \u001b[0;36m__init__\u001b[1;34m(self, width, height, dpi)\u001b[0m\n\u001b[0;32m     85\u001b[0m         \u001b[0mself\u001b[0m\u001b[1;33m.\u001b[0m\u001b[0mwidth\u001b[0m \u001b[1;33m=\u001b[0m \u001b[0mwidth\u001b[0m\u001b[1;33m\u001b[0m\u001b[0m\n\u001b[0;32m     86\u001b[0m         \u001b[0mself\u001b[0m\u001b[1;33m.\u001b[0m\u001b[0mheight\u001b[0m \u001b[1;33m=\u001b[0m \u001b[0mheight\u001b[0m\u001b[1;33m\u001b[0m\u001b[0m\n\u001b[1;32m---> 87\u001b[1;33m         \u001b[0mself\u001b[0m\u001b[1;33m.\u001b[0m\u001b[0m_renderer\u001b[0m \u001b[1;33m=\u001b[0m \u001b[0m_RendererAgg\u001b[0m\u001b[1;33m(\u001b[0m\u001b[0mint\u001b[0m\u001b[1;33m(\u001b[0m\u001b[0mwidth\u001b[0m\u001b[1;33m)\u001b[0m\u001b[1;33m,\u001b[0m \u001b[0mint\u001b[0m\u001b[1;33m(\u001b[0m\u001b[0mheight\u001b[0m\u001b[1;33m)\u001b[0m\u001b[1;33m,\u001b[0m \u001b[0mdpi\u001b[0m\u001b[1;33m)\u001b[0m\u001b[1;33m\u001b[0m\u001b[0m\n\u001b[0m\u001b[0;32m     88\u001b[0m         \u001b[0mself\u001b[0m\u001b[1;33m.\u001b[0m\u001b[0m_filter_renderers\u001b[0m \u001b[1;33m=\u001b[0m \u001b[1;33m[\u001b[0m\u001b[1;33m]\u001b[0m\u001b[1;33m\u001b[0m\u001b[0m\n\u001b[0;32m     89\u001b[0m \u001b[1;33m\u001b[0m\u001b[0m\n",
      "\u001b[1;31mMemoryError\u001b[0m: In RendererAgg: Out of memory"
     ]
    },
    {
     "data": {
      "text/plain": [
       "<Figure size 2880x2880 with 1 Axes>"
      ]
     },
     "metadata": {
      "needs_background": "light"
     },
     "output_type": "display_data"
    }
   ],
   "source": [
    "draw_PCA(X, all_categories_labels_kmeans, 'kmeans')\n",
    "draw_PCA(X, all_categories_labels_single, 'single link')\n",
    "draw_PCA(X, all_categories_labels_average, 'average link')\n",
    "draw_PCA(X, all_categories_labels_complete, 'complete link')\n",
    "draw_PCA(X, all_categories_labels_dbscam, 'dbscan')"
   ]
  },
  {
   "cell_type": "markdown",
   "metadata": {},
   "source": [
    "# Evaluation"
   ]
  },
  {
   "cell_type": "code",
   "execution_count": 122,
   "metadata": {
    "scrolled": true
   },
   "outputs": [
    {
     "name": "stdout",
     "output_type": "stream",
     "text": [
      "cluster 0: \n",
      "['Sticker', 'Laptop', 'Button', 'Patch', 'Full Zip', 'Pin', 'Magic', 'Print', 'Mug', 'Paper', 'Tablet', 'Camera', 'Headphones', 'Block', 'Pad', 'Case', 'Gadget', 'Poster', 'Tape', 'Box', 'Clock', 'Telephone', 'iPad', 'Mini', 'Screen Protectors', 'Blu-Ray', 'Notebook', 'Pinback Button', 'Tag', 'Standard']\n",
      "=============================================\n",
      "=============================================\n",
      "cluster 1: \n",
      "['Track & Sweat Suits', 'Plate', 'Full-Length', 'Straight, Pencil', 'Feet', 'V-Neck', 'Ring', 'Golf Balls', 'Tops & T-Shirts', 'Three Button', 'Tank', 'Slim, Skinny', 'Change Purse', 'Button-Front', 'Scoop Neck', 'Training Pants', 'Loafers & Slip-Ons', 'Top & T-shirts', 'T-Shirts', 'Track Jacket', 'Leg Warmers', 'Clutch', 'Two Button', 'Cuff Links', 'Cross Stitch', 'Knit Top', 'Button Down Shirt', 'Rings', 'Boot Cut', 'Full Skirt', 'Belt', 'Above Knee, Mini', 'Backpack Style', 'Straight Leg', 'Track & Sweat Pants', 'Dress - Flat Front', 'Mid-Calf', 'Wrap', 'Wide Leg', 'Board Shorts', 'Classic, Straight Leg', 'Knee-Length', 'Shoulder Bag', 'Hip Bag', 'T-shirts', 'G-Strings & Thongs', 'Tires & Wheels', 'Golf Shoes']\n",
      "=============================================\n",
      "=============================================\n",
      "cluster 2: \n",
      "['Crewneck', 'Turtleneck', 'Tiered', 'Hooded', 'Tuxedo', 'Joggers', 'Trench', 'Overalls', 'Collared', 'Puffer', 'Relaxed', 'Peasant', 'Patriotic', 'Asymmetrical', 'Peacoat', 'Lithographs, Etchings & Woodcuts', 'Wool', 'Teacup', 'Turtleneck, Mock', 'Hawaiian', 'Tunic', 'Shrug', 'Necktie', 'Windbreaker', 'Tapestries', 'Pleated', 'Linen', 'Outerwear', 'Swimwear', 'Linens', 'Raincoat', 'Oxfords', 'Henley', 'Corduroys', 'Halter', 'Vests']\n",
      "=============================================\n",
      "=============================================\n",
      "cluster 3: \n",
      "['Wallet', 'Luggage', 'Plush', 'Toddler', 'Pouch', 'Lightweight', 'Grooming', 'Toiletry Kits', 'Pumps', 'Nursery', 'Nursery Bedding', 'Wallets', 'Wristlet', 'Lanyard', 'Purse', 'Playard Bedding', 'Maternity', 'Keychain', 'Bedding', 'Satchel', 'Eyewear', 'Handbag', 'Footwear', 'Leash', 'Parka', 'Apron', 'Frames', 'Tote', 'Buckle', 'Hobo', 'Doll', 'Corset', 'Tumbler', 'Messenger & Crossbody', 'Stationery', 'Watches', 'Novelty', 'Backpack', 'Carpenter, Utility', 'Belts']\n",
      "=============================================\n",
      "=============================================\n",
      "cluster 4: \n",
      "['Photo Albums & Frames', 'Historical, Military', 'Art Doll', 'Arts & Crafts', 'Arts & Photography', 'Presentation', 'Art', 'Film Photography', 'Photographs', 'Graphic Design', 'Action, Adventure', 'Artwork', 'Guest Books', 'Drawings', 'Illustration', 'Animation', 'Photography', 'Painting', 'Book', 'Beauty']\n",
      "=============================================\n",
      "=============================================\n",
      "cluster 5: \n",
      "['Quilts', 'Diapering', 'Felted', 'Yarn', 'Baguette', 'Paintings', 'Crafting', 'Teapot', 'Bakeware', 'Vases', 'Knitting', 'Geekery', 'Glassware', 'Bouquets', 'Ceramic', 'Patchwork', 'Carving', 'Cookware', 'Ceramics and Pottery', 'Vase', 'Sculptures', 'Cabochon', 'Paper Ephemera', 'Tiles', 'Ornaments', 'Origami', 'Scale Dollhouse Miniature', 'Figurine', 'Scrapbooking', 'Flatware', 'Sewing', 'Planter', 'Figurines', 'Tray', 'Bookmark', 'Dinnerware Set', 'Postcard', 'Personalized', 'Aceo', 'Embroidery', 'Printmaking', 'Garment Steamers', 'Casserole', 'Primitive', 'Seasonal Décor', 'Beading', 'Housewares', 'Nursery Décor', 'Porcelain', 'Needlepoint', 'Coasters', 'Planters', 'Collectibles', 'Handkerchief']\n",
      "=============================================\n",
      "=============================================\n",
      "cluster 6: \n",
      "[\"Men's Accessories\", 'Diaper Bags', 'Paper Goods', 'Jewelry Boxes & Organizers', 'Doll Clothing', 'Cosmetic Bags', \"Women's Accessories\", 'Travel Bathing Kits', 'Trash Bags', 'Bicycle Child Seats & Trailers', 'Bags & Cases', 'Daily & Travel items', 'Shipping Supplies', 'Electronics for Kids', 'Diaper Bag', 'Basic Supplies', 'Gift Wrap', 'Novelty & Gag Toys', 'Other Accessories', 'Beach Accessories', 'Golf Bags', \"Women's Handbags\", 'Clothing', \"Kids' Bedding\", 'Doll Clothes', 'Bathing Accessories', 'Gift Sets', 'Bags and Purses', 'Car Seats & Accessories', 'Wine Accessories', 'Clothing & Closet Storage']\n",
      "=============================================\n",
      "=============================================\n",
      "cluster 7: \n",
      "['Favors', 'Teethers', 'Magnet', 'Playards', 'Humor', 'Epilators', 'Cargo', 'Advertisement', 'Sweatercoat', 'Rainwear', 'Needlecraft', 'Snowsuits & Bibs', 'Bedspreads & Coverlets', 'Dehumidifiers', 'Nasal Aspirators', 'Clocks', 'Mirrors', 'Maxi', 'Carpenter', 'Tank, Cami', 'Humidifiers', 'Collages', 'Videogame', 'Sweeping', 'Flare', 'Souvenir', 'Asymmetrical Hem', 'Fixture', 'Formal', 'Ties', 'Cape', 'Paperweights', 'Bomber', 'Poncho', 'Papermaking', 'other', 'Gates & Doorways']\n",
      "=============================================\n",
      "=============================================\n",
      "cluster 8: \n",
      "['Fragrance', 'Pot Holder', 'Lighting', 'Water Coolers & Filters', 'Candle Holder', 'Shampoo Plus Conditioner', 'Shampoo', 'Air Purifiers', 'Stained Glass', 'Sun Protection', 'Glass', 'Bottles', 'Air Fresheners', 'Salt and Pepper Shakers', 'Candles', 'Light', 'Air Conditioners', 'Window Treatments', 'Shampoo & Conditioner Sets', 'Freezers & Ice Makers']\n",
      "=============================================\n",
      "=============================================\n",
      "cluster 9: \n",
      "['Vest', 'Gloves', 'Sweatshirt, Pullover', 'Jerseys', 'Sweater', 'Blazers & Sport Coats', 'Jackets', 'Apparel', 'Jacket', 'Suits & Blazers', 'Polo', 'Cleats', 'Coats & Jackets', 'Boots', 'Sweats & Hoodies', 'Cardigan', 'Tracksuits & Sweats', 'Tshirt', 'Thermal Underwear', 'Shirt', 'Blazer', 'Socks', 'Hoodie', 'Capri, Cropped', 'Hats', 'Sunglasses', 'Sweaters', 'Polo Shirt', 'Khakis, Chinos', 'Hat', 'Vest, Sleeveless', 'Slippers', 'Fleece Jacket']\n",
      "=============================================\n",
      "=============================================\n",
      "cluster 10: \n",
      "['Storage & Organization', 'Medical Supplies & Equipment', 'Equipment', 'Storage & Containers', 'Garage Storage & Organization', 'Supplies', 'Car Subwoofers', 'Food Service Equipment & Supplies', 'Home Surveillance', 'Kitchen Storage & Organization', 'Replacement Parts', 'Space Heaters', 'Travel Systems', 'Outdoor Safety', 'Tools & Equipment', 'Office supplies', 'Small Appliances', 'Electrical Safety', 'Bathroom Storage & Organization', 'Storage Cabinets', 'Car Speakers & Systems', 'GPS Units & Equipment', 'Automotive', 'Safety', 'Car Stereos & Components', 'Cleaning Supplies', 'Grooming & Healthcare Kits', 'Laundry Storage & Organization', 'Household Cleaners', 'Electronics', 'Storage Solutions', 'Engineering & Transportation', 'Components & Parts', 'Home Speakers & Subwoofers', 'Household Supplies', 'Storage', 'Trash & Recycling', 'Car Security & Convenience', 'Replacement Parts & Tools', 'Drives, Storage & Media', 'Building Toys', 'Highchairs & Booster Seats']\n",
      "=============================================\n",
      "=============================================\n",
      "cluster 11: \n",
      "['Knitting Supplies', 'Baskets & Bins', 'Maternity Pillows', 'Boxes', 'Candles & Holders', 'Blankets & Throws', 'Dishes', 'Washcloths & Towels', 'Paper Towels', 'Mattress Pads', 'Bath Rugs', 'Pillows & Stools', 'Duvet Covers & Sets', 'Pillow', 'Pillows', 'Baskets', 'Comforters & Sets', 'Backpacks, Bags & Briefcases', 'Scarves & Wraps', 'Bowls', 'Decorative Pillows, Inserts & Covers', 'Bathing Tubs & Seats', 'Area Rugs & Pads', 'Cabinet Locks & Straps', 'Kitchen Knives & Cutlery Accessories', 'Sheets & Pillowcases', 'Decorative Pillows', 'Towels', 'Racks, Shelves & Drawers', 'Blanket', 'Breastfeeding Pillows & Stools', 'Inflatable Beds']\n",
      "=============================================\n",
      "=============================================\n",
      "cluster 12: \n",
      "['Changing Kits', 'Trading Cards', 'Safety Caps', 'Signs', 'Magazines', 'Patterns', 'Electronic', 'Styling Tools', 'Strategy Guides', 'eBook Access', 'Draft Stoppers', 'Prenatal Monitoring Devices', 'Lifestyle & Cultures', 'Networking & Connectivity', 'Action Figures & Statues', 'Cell Phones & Smartphones', 'Computers & Tablets', 'Gadgets', 'Price Guides & Publications', 'Activity Centers & Entertainers', 'Cards', 'Cases, Covers & Skins', 'Sets & Kits', 'Sets', 'Organization', 'Consoles']\n",
      "=============================================\n",
      "=============================================\n",
      "cluster 13: \n",
      "['Motorcycle', 'Golf', 'Golf Apparel', 'Hiking & Camping', 'Bike & Skate', 'Coaster', 'Potty Training', 'Outdoor', 'Yoga & Pilates', 'Gear', 'Motorcycle & Powersports', 'Swim Trunks', 'Outdoors', 'Fishing', 'Skateboard', 'Indoor', 'Costume', 'Ballet', 'Snowboard', 'Board, Surf']\n",
      "=============================================\n",
      "=============================================\n",
      "cluster 14: \n",
      "['Skirt', 'Dresses', 'Leggings', 'Jeans', 'Fashion Sneakers', 'Dress Suit', 'Denim', 'Sandals', 'Jean Jacket', 'Capris, Cropped', 'Panties', 'Pants', 'Dress Shorts', 'Suits', 'Bras', 'Casual Shorts', 'Shirts & Tops', 'Dress Shirts', 'Tops', 'Swim Briefs', 'Pants, Tights, Leggings', 'Pant Suit', 'Skirts, Skorts & Dresses', 'Dress - Pleat', 'Dress', 'Dress Pants', 'Underwear', 'Skirt Suit', 'Tops & Blouses', 'Skirts', 'Casual Pants', 'Shoes', 'Bottoms', 'Shorts', 'Flats', 'Lingerie', 'Baggy, Loose']\n",
      "=============================================\n",
      "=============================================\n",
      "cluster 15: \n",
      "['Charm', 'Beads', 'Bracelet', 'Handmade', 'Blouse', 'Vintage & Collectibles', 'Bead', 'Double Breasted', 'Frame', 'Earrings', 'Scarf', 'Leather', 'Trim', 'Collar', 'Chain', 'Jewelry', 'Brooch', 'Antique', 'Necklace', 'Necklaces', 'Crochet', 'Cowl Neck', 'Fabric', 'Pendant', 'Vintage', 'Bracelets', 'Pattern', 'Fabric Postcard', 'Shawl']\n",
      "=============================================\n",
      "=============================================\n",
      "cluster 16: \n",
      "['Athletic Training', 'Track & Field', 'Boxing & MMA', 'Lacrosse', 'Hockey', 'Badminton', 'Bowl', 'Varsity', 'Team Sports', 'Athletic', 'Volleyball', 'MLB', 'NBA', 'Games', 'Game', 'Basket', 'Football', 'Bowling', 'Pitcher', 'Tennis & Racquets', 'Cup', 'Outdoor Games', 'Baseball & Softball', 'Baseball', 'Sports Bras', 'Sports & Outdoor Play', 'Sport', 'Athletic Apparel', 'Sports & Outdoors', 'Sports', \"Women's Golf Clubs\", 'Soccer', 'NHL', 'NFL', 'NCAA', 'Basketball', \"Men's Golf Clubs\", 'Polo, Rugby']\n",
      "=============================================\n",
      "=============================================\n",
      "cluster 17: \n",
      "['Car Electronics & Accessories', 'GPS Accessories & Mounts', 'Flashes & Flash Accessories', 'RV Parts & Accessories', 'Lights & Lighting Accessories', 'Accessories', 'Cell Phone Accessories', 'Portable Audio & Accessories', 'Cell Phones & Accessories', 'Interior Accessories', 'Cameras & Photography', 'Accessory', 'Automotive Enthusiast Merchandise', 'Lamps& Accessories', 'Camera & Photo Accessories', 'Exterior Accessories', 'Nail Tools', 'Styling Products', 'Dolls & Accessories', 'Custom', 'Fitness accessories', 'Instrument Accessories', 'Posters & Prints', 'Vinyl', 'Digital Cameras', 'Ink & Toner', 'Tools & Accessories', 'Performance Parts & Accessories']\n",
      "=============================================\n",
      "=============================================\n",
      "cluster 18: \n",
      "['Small Animal', 'Pets', 'Animals', 'Animal', 'Afghan', 'Cage', 'Pet Lover', 'Toys', 'Toy', 'Walkers', 'Children', 'Baby & Toddler Toys', 'Stuffed Animals & Plush', 'Serving', 'Teething Relief', 'Military', 'Feeding', 'Pet Supplies', 'Dogs']\n",
      "=============================================\n",
      "=============================================\n",
      "cluster 19: \n",
      "['Dusting', 'Waxing', 'Oils & Fluids', 'Garbage Disposals', 'Sponges', 'Mules & Clogs', 'Brushes & Applicators', 'Brushes', 'Conditioners', 'Mopping', 'Diaper Pails & Refills', 'Wipes & Holders', 'Breastfeeding', 'Soaps & Cleansers', 'Cleansers', 'Shampoos', 'Cloth Diapers', 'Powders & Lotions', 'Irons & Ironing Boards', 'Disposable Diapers', 'Stamps', 'Swings, Jumpers & Bouncers', 'Washers & Dryers', 'Diaper Stackers & Caddies']\n",
      "=============================================\n",
      "=============================================\n",
      "cluster 20: \n",
      "['Monitors', 'Thermometers', 'Amplifiers & Effects', 'Toothbrushes', 'Camcorders', 'Tweezers', 'Tripods & Supports', 'Tricycles, Scooters & Wagons', 'Dolls and Miniatures', 'Slipcovers', 'Backpacks & Carriers', 'Televisions', 'Prams', 'Cables & Adapters', 'Harnesses & Leashes', 'Fireplaces & Accessories', 'Batteries', 'Binoculars & Telescopes', 'Magnets', 'Humidifiers & Vaporizers', 'Microphones & Accessories', 'Microwaves', 'Lenses & Filters', 'Headsets', 'Strollers', 'Refrigerators', 'Laptops & Netbooks', 'Keyboards', 'Potties & Seats', 'Pacifiers & Accessories', 'Chargers & Cradles', 'Printers, Scanners & Supplies']\n",
      "=============================================\n",
      "=============================================\n",
      "cluster 21: \n",
      "['Coffee & Tea Accessories', 'Shams, Bed Skirts & Bed Frame Draperies', 'Water Sports', 'Bubble Bath', 'Bath Linen Sets', 'Bath', 'Cream and Sugar Set', 'Bottle-Feeding', 'Home Fragrance', 'Sun', 'Home Brewing & Wine Making', \"Kids' Bath\", 'Food', 'Bath & Body', 'Bed Pillows', 'Candles & Home Scents', 'Bed', 'Non-Slip Bath Mats', 'Cake Toppers', 'Bed in a Bag', 'Wine, Beer & Beverage Coolers', 'Bubble']\n",
      "=============================================\n",
      "=============================================\n",
      "cluster 22: \n",
      "['Kitchen', 'Home Decor', 'Kitchen Safety', 'Home Décor', 'Home Décor Accents', 'Dining & Entertaining', 'Cleaning', \"Kids' Furniture\", 'Bathroom Safety', 'Other Furniture', 'Car Seats', 'Home Office Furniture', 'Holiday Décor Storage', 'House', 'Kitchen & Table Linens', \"Kids' Room Décor\", 'Bedroom Furniture', 'Home Bar Furniture', 'Home Appliances', 'Seat Covers', 'Wall Hanging', 'Kitchen Appliances', 'Vacuums & Floor Care', 'Table', 'Kitchen Utensils & Gadgets', 'Furniture', 'Bathroom', 'Office', \"Kids' Furniture, Décor & Storage\", 'Car', 'Kitchen & Dining', 'Living Room Furniture', 'Home Entertainment Furniture', 'Nursery Furniture', 'Chair', 'Bathroom Furniture Sets', 'Travel Beds', 'Bathroom Accessories', 'Wall Decor', 'Shopping Cart Covers']\n",
      "=============================================\n",
      "=============================================\n",
      "cluster 23: \n",
      "['Girls', 'Face', 'Kids', 'Dress Up & Pretend Play', 'Human Figure Doll', 'Sleep Positioners', 'Watch', 'Boys', '50 To 75 Years', 'Desktops & All-In-Ones', 'A-Line', 'Women', \"New Year's\", 'Home', 'Boys 2T-5T', \"Kids' Home Store\", 'Day of the Dead', \"St Patrick's\", 'Other', '75 To 100 Years', 'Baby Gyms & Playmats', 'Men', 'One-Piece', 'One Button', 'Birthday', 'Baby & Child Care', 'Fans', 'Health & Baby Care', 'Boys (4+)', 'All Other Sports', 'Child Friendly', 'Two-Piece', 'Car Care', 'Girls 0-24 Mos', 'Girls 2T-5T', 'Girls (4+)', 'Boys 0-24 Mos', '100 Years or Older', 'How to', 'One-Pieces', 'Baby', 'Baby Seats', 'Something Blue', 'Boyfriend']\n",
      "=============================================\n",
      "=============================================\n",
      "cluster 24: \n",
      "['Books', 'Puzzles', 'Christian Books & Bibles', 'Writing', 'Nonfiction', 'Instructional', 'Cookbook', 'Puzzle', 'Biographies & Memoirs', 'Religion', 'Biography', 'Scifi', 'Hobbies', 'Religious', 'Sci-Fi, Fantasy', 'Journal', 'Poetry', 'Religion & Spirituality', 'Illustrated', 'Woodworking', 'Educational', 'Literature & Fiction', 'Fantasy', 'Horror', 'VHS', 'Fiction', 'Reference', 'eBook Readers', 'Books and Zines', 'Comic', 'Comics']\n",
      "=============================================\n",
      "=============================================\n",
      "cluster 25: \n",
      "['TV, Audio & Surveillance', 'Studio Recording Equipment', 'Fan Shop', 'DVD & Blu-ray Players', 'Radio', 'Car Video', 'Music', 'Video Game', 'Dance', 'Toy Remote Control & Play Vehicles', 'DVD', 'Video Gaming Merchandise', 'Live Sound & Stage', 'Video Games & Consoles', 'Cover-Ups', 'Media', 'Car Audio, Video & GPS', 'Lighting & Studio', 'Television', 'DJ, Electronic Music & Karaoke', 'Home Audio', 'CD']\n",
      "=============================================\n",
      "=============================================\n",
      "cluster 26: \n",
      "['Exercise', 'Education & Teaching', 'Health', 'Business & Money', 'Work & Safety', 'Finding', 'Learning & Education', 'Action Figure', 'School Supplies', 'Sports Nutrition', 'Politics & Social Sciences', 'Personal Care', 'Family Planning Tests', \"Children's Books\", 'Science', 'Fitness technology', 'Medical Books', 'Science & Math', 'History', 'Health Care', 'Strength training', 'Mixed Media', 'Others']\n",
      "=============================================\n",
      "=============================================\n",
      "cluster 27: \n",
      "['Eyes', 'Hair Relaxers', 'Nail Care', 'Pregnancy & Maternity', 'Scrubs & Body Treatments', 'Bathing & Skin Care', 'Makeup Palettes', 'Changing Pads & Covers', 'Hair Loss Products', 'Lips', 'Paint, Body & Trim', 'Makeup Brushes & Tools', 'Hair Color', 'Makeup Sets', 'Hair Perms & Texturizers', 'Nails', 'Body', 'Makeup Remover', 'Hair Coloring Tools', 'Hair & Scalp Treatments', 'Hands & Nails', 'Hair Care', 'Hair', 'Makeup', 'Hair Accessories', 'Hair Styling Tools', 'Skin Care']\n",
      "=============================================\n",
      "=============================================\n",
      "cluster 28: \n",
      "['Calendars', 'Weddings', 'Totes & Shoppers', 'Thanksgiving', 'Halloween', 'Holidays', 'Decorating', 'Calendar', 'Christmas', 'Valentine', 'Invitations', 'Easter', 'Stationery & Party Supplies', 'Decorations', 'Flight', 'Party Supplies']\n",
      "=============================================\n",
      "=============================================\n",
      "cluster 29: \n",
      "['Bass Guitars', 'Brass Instruments', 'Stringed Instruments', 'Guitars', 'Band & Orchestra', 'Instrument', 'Musical instruments', 'Wind & Woodwind Instruments', 'Drums & Percussion']\n",
      "=============================================\n",
      "=============================================\n"
     ]
    }
   ],
   "source": [
    "df_cat = pd.DataFrame(all_categories_labels_kmeans, index=all_categories, columns=['label'])\n",
    "for i in range(len(set(all_categories_labels_kmeans))):\n",
    "    cats = list(df_cat[df_cat['label'] == i].index)    \n",
    "    print(\"cluster \" + str(i) + \": \")\n",
    "    print(list(cats))\n",
    "    print(\"=============================================\")\n",
    "    print(\"=============================================\")\n"
   ]
  },
  {
   "cell_type": "code",
   "execution_count": 123,
   "metadata": {},
   "outputs": [
    {
     "name": "stdout",
     "output_type": "stream",
     "text": [
      "cluster 0: \n",
      "['Batteries', 'Bicycle Child Seats & Trailers', 'Cables & Adapters', 'Camera', 'Camera & Photo Accessories', 'Cameras & Photography', 'Car', 'Car Care', 'Car Electronics & Accessories', 'Car Seats', 'Car Seats & Accessories', 'Car Security & Convenience', 'Car Speakers & Systems', 'Car Stereos & Components', 'Car Subwoofers', 'Cell Phone Accessories', 'Cell Phones & Accessories', 'Cell Phones & Smartphones', 'Computers & Tablets', 'Digital Cameras', 'Flashes & Flash Accessories', 'Highchairs & Booster Seats', 'Home Speakers & Subwoofers', 'Ink & Toner', 'Laptop', 'Laptops & Netbooks', 'Lenses & Filters', 'Mini', 'Notebook', 'Pad', 'Performance Parts & Accessories', 'Portable Audio & Accessories', 'RV Parts & Accessories', 'Replacement Parts', 'Replacement Parts & Tools', 'Tablet', 'iPad']\n",
      "=============================================\n",
      "=============================================\n",
      "cluster 1: \n",
      "['Activity Centers & Entertainers', 'Automotive', 'Automotive Enthusiast Merchandise', 'Basic Supplies', 'Components & Parts', 'Educational', 'Electrical Safety', 'Electronic', 'Electronics', 'Engineering & Transportation', 'Equipment', 'Food Service Equipment & Supplies', 'GPS Units & Equipment', 'Gadget', 'Gadgets', 'Household Supplies', 'Instrument Accessories', 'Lifestyle & Cultures', 'Medical Supplies & Equipment', 'Networking & Connectivity', 'Office supplies', 'Organization', 'Outdoor Safety', 'Party Supplies', 'Pet Supplies', 'Prenatal Monitoring Devices', 'Safety', 'Safety Caps', 'School Supplies', 'Shipping Supplies', 'Stationery & Party Supplies', 'Storage Solutions', 'Supplies', 'Tools & Equipment', 'Travel Systems']\n",
      "=============================================\n",
      "=============================================\n",
      "cluster 2: \n",
      "['Athletic', 'Athletic Apparel', 'Athletic Training', 'Badminton', 'Baseball', 'Baseball & Softball', 'Basket', 'Basketball', 'Bike & Skate', 'Board, Surf', 'Bowling', 'Boxing & MMA', 'Cup', 'Fishing', 'Football', 'Golf', 'Golf Apparel', 'Golf Bags', 'Golf Balls', 'Golf Shoes', 'Hiking & Camping', 'Hockey', 'Indoor', 'Lacrosse', \"Men's Golf Clubs\", 'Outdoor', 'Outdoor Games', 'Outdoors', 'Polo', 'Polo, Rugby', 'Skateboard', 'Snowboard', 'Soccer', 'Sport', 'Sports', 'Sports & Outdoor Play', 'Sports & Outdoors', 'Swim Briefs', 'Swim Trunks', 'Team Sports', 'Tennis & Racquets', 'Track & Field', 'Varsity', 'Volleyball', 'Water Sports', \"Women's Golf Clubs\"]\n",
      "=============================================\n",
      "=============================================\n",
      "cluster 3: \n",
      "['Backpacks & Carriers', 'Binoculars & Telescopes', 'Camcorders', 'Chargers & Cradles', 'Clock', 'Clocks', 'Coaster', 'Coasters', 'Dusting', 'Flare', 'Garbage Disposals', 'Handkerchief', 'Harnesses & Leashes', 'Headsets', 'Keyboards', 'Keychain', 'Lanyard', 'Leash', 'Magnet', 'Microwaves', 'Mirrors', 'Monitors', 'Mopping', 'Motorcycle', 'Motorcycle & Powersports', 'Mules & Clogs', 'Potties & Seats', 'Prams', 'Printers, Scanners & Supplies', 'Raincoat', 'Refrigerators', 'Slipcovers', 'Space Heaters', 'Sponges', 'Strollers', 'Sweeping', 'Swings, Jumpers & Bouncers', 'Televisions', 'Tiles', 'Tires & Wheels', 'Toothbrushes', 'Tricycles, Scooters & Wagons', 'Tripods & Supports', 'Tweezers', 'Vase', 'Vases', 'Walkers']\n",
      "=============================================\n",
      "=============================================\n",
      "cluster 4: \n",
      "['Afghan', 'Bomber', 'Carpenter', 'Carpenter, Utility', 'Draft Stoppers', 'Fixture', 'Historical, Military', 'MLB', 'Military', 'NBA', 'NCAA', 'NFL', 'NHL', 'Patriotic', 'Pitcher', 'Religious', 'Signs', 'Ties']\n",
      "=============================================\n",
      "=============================================\n",
      "cluster 5: \n",
      "['Animation', 'Art', 'Art Doll', 'Arts & Crafts', 'Arts & Photography', 'Beauty', 'Biography', 'Book', 'Books', 'Books and Zines', 'Christian Books & Bibles', 'Comic', 'Comics', 'Consoles', 'Cookbook', 'Fantasy', 'Fiction', 'Film Photography', 'Graphic Design', 'Guest Books', 'Hobbies', 'Illustrated', 'Illustration', 'Instructional', 'Literature & Fiction', 'Nonfiction', 'Photography', 'Poetry', 'Price Guides & Publications', 'Puzzle', 'Puzzles', 'Reference', 'Sci-Fi, Fantasy', 'Scifi', 'Strategy Guides', 'VHS', 'Videogame', 'Woodworking', 'eBook Access', 'eBook Readers']\n",
      "=============================================\n",
      "=============================================\n",
      "cluster 6: \n",
      "['Air Conditioners', 'Air Fresheners', 'Air Purifiers', 'Bath', 'Bottle-Feeding', 'Bottles', 'Bowl', 'Bowls', 'Bubble', 'Bubble Bath', 'Candle Holder', 'Candles', 'Candles & Holders', 'Candles & Home Scents', 'Coffee & Tea Accessories', 'Cream and Sugar Set', 'Feeding', 'Food', 'Fragrance', 'Freezers & Ice Makers', 'Glass', 'Home Brewing & Wine Making', 'Home Fragrance', 'Light', 'Lighting', 'Lighting & Studio', 'Lights & Lighting Accessories', 'Non-Slip Bath Mats', 'Plate', 'Pot Holder', 'Salt and Pepper Shakers', 'Scoop Neck', 'Serving', 'Stained Glass', 'Sun', 'Sun Protection', 'Trash & Recycling', 'Trash Bags', 'Tray', 'Water Coolers & Filters', 'Wine Accessories', 'Wine, Beer & Beverage Coolers', 'Wrap']\n",
      "=============================================\n",
      "=============================================\n",
      "cluster 7: \n",
      "['Area Rugs & Pads', 'Backpacks, Bags & Briefcases', 'Bags & Cases', 'Bags and Purses', 'Bath Rugs', 'Bathing Tubs & Seats', 'Belts', 'Blanket', 'Blankets & Throws', 'Breastfeeding Pillows & Stools', 'Brushes', 'Brushes & Applicators', 'Cabinet Locks & Straps', 'Cloth Diapers', 'Comforters & Sets', 'Cosmetic Bags', 'Decorative Pillows', 'Decorative Pillows, Inserts & Covers', 'Diaper Bag', 'Diaper Bags', 'Diaper Pails & Refills', 'Diaper Stackers & Caddies', 'Dishes', 'Disposable Diapers', 'Favors', 'Irons & Ironing Boards', 'Maternity Pillows', 'Mattress Pads', 'Pillow', 'Pillows', 'Pillows & Stools', 'Racks, Shelves & Drawers', 'Scarves & Wraps', 'Sheets & Pillowcases', 'Stamps', 'Towels', 'Wallets', 'Washcloths & Towels', 'Wipes & Holders']\n",
      "=============================================\n",
      "=============================================\n",
      "cluster 8: \n",
      "['Aceo', 'Antique', 'Bakeware', 'Bedding', 'Biographies & Memoirs', 'Cabochon', 'Carving', 'Ceramic', 'Ceramics and Pottery', 'Collectibles', 'Cookware', 'Crafting', 'Crochet', 'Decorating', 'Diapering', 'Dinnerware Set', 'Dolls and Miniatures', 'Embroidery', 'Felted', 'Figurines', 'Flatware', 'Garment Steamers', 'Gates & Doorways', 'Geekery', 'Glassware', 'Grooming', 'Grooming & Healthcare Kits', 'Humidifiers & Vaporizers', 'Knitting', 'Knitting Supplies', 'Lithographs, Etchings & Woodcuts', 'Needlepoint', 'Nursery', 'Nursery Bedding', 'Nursery Décor', 'Origami', 'Patchwork', 'Pattern', 'Patterns', 'Planters', 'Playard Bedding', 'Plush', 'Porcelain', 'Primitive', 'Printmaking', 'Quilts', 'Scale Dollhouse Miniature', 'Scrapbooking', 'Sewing', 'Stuffed Animals & Plush', 'Tapestries', 'Teacup', 'Teapot', 'Thermometers', 'Toiletry Kits', 'Trim', 'Washers & Dryers', 'Yarn']\n",
      "=============================================\n",
      "=============================================\n",
      "cluster 9: \n",
      "['Bathroom', 'Bathroom Furniture Sets', 'Bathroom Safety', 'Bathroom Storage & Organization', 'Bedroom Furniture', 'Chair', 'Cleaning', 'Cleaning Supplies', 'Dining & Entertaining', 'Furniture', 'Garage Storage & Organization', 'Holiday Décor Storage', 'Home Appliances', 'Home Bar Furniture', 'Home Decor', 'Home Décor', 'Home Décor Accents', 'Home Entertainment Furniture', 'Home Office Furniture', 'Household Cleaners', 'Inflatable Beds', \"Kids' Furniture\", \"Kids' Furniture, Décor & Storage\", 'Kitchen', 'Kitchen & Dining', 'Kitchen & Table Linens', 'Kitchen Appliances', 'Kitchen Knives & Cutlery Accessories', 'Kitchen Safety', 'Kitchen Storage & Organization', 'Kitchen Utensils & Gadgets', 'Laundry Storage & Organization', 'Living Room Furniture', 'Nursery Furniture', 'Other Furniture', 'Small Appliances', 'Storage', 'Storage & Containers', 'Storage & Organization', 'Storage Cabinets', 'Table', 'Travel Beds', 'Vacuums & Floor Care', 'Wall Decor', 'Wall Hanging', 'Window Treatments']\n",
      "=============================================\n",
      "=============================================\n",
      "cluster 10: \n",
      "['A-Line', 'Ballet', 'Block', 'Cape', 'Cargo', 'Collar', 'Face', 'Formal', 'Humor', 'Maxi', 'Media', 'Men', 'Mixed Media', 'Patch', 'Pin', 'Poncho', 'Tag', 'Tank, Cami', 'Yoga & Pilates']\n",
      "=============================================\n",
      "=============================================\n",
      "cluster 11: \n",
      "['Business & Money', 'Children', \"Children's Books\", 'Daily & Travel items', 'Education & Teaching', 'Exercise', 'Family Planning Tests', 'Fitness technology', 'Health', 'Health & Baby Care', 'Health Care', 'History', 'Learning & Education', 'Medical Books', 'Others', 'Personal Care', 'Politics & Social Sciences', 'Potty Training', 'Presentation', 'Religion', 'Religion & Spirituality', 'Science', 'Science & Math', 'Sports Nutrition', 'Strength training', 'Women', \"Women's Handbags\", 'Work & Safety', 'Writing']\n",
      "=============================================\n",
      "=============================================\n",
      "cluster 12: \n",
      "['Bath & Body', 'Bathing & Skin Care', 'Body', 'Eyes', 'Feet', 'Hair', 'Hair & Scalp Treatments', 'Hair Accessories', 'Hair Care', 'Hair Color', 'Hair Coloring Tools', 'Hair Loss Products', 'Hair Perms & Texturizers', 'Hair Relaxers', 'Hair Styling Tools', 'Hands & Nails', 'Lips', 'Makeup', 'Makeup Brushes & Tools', 'Makeup Palettes', 'Makeup Remover', 'Makeup Sets', 'Nail Care', 'Nail Tools', 'Nails', 'Paint, Body & Trim', 'Scrubs & Body Treatments', 'Shampoo', 'Shampoo & Conditioner Sets', 'Shampoo Plus Conditioner', 'Skin Care', 'Styling Products', 'Styling Tools']\n",
      "=============================================\n",
      "=============================================\n",
      "cluster 13: \n",
      "['Action Figure', 'Action Figures & Statues', 'Action, Adventure', 'Band & Orchestra', 'Blu-Ray', 'CD', 'Car Audio, Video & GPS', 'Car Video', 'DJ, Electronic Music & Karaoke', 'DVD', 'DVD & Blu-ray Players', 'Dance', 'Drives, Storage & Media', 'Flight', 'Game', 'Games', 'Home Audio', 'Home Surveillance', 'Live Sound & Stage', 'Music', 'Office', 'Radio', 'Studio Recording Equipment', 'TV, Audio & Surveillance', 'Television', 'Toy Remote Control & Play Vehicles', 'Video Game', 'Video Games & Consoles', 'Video Gaming Merchandise']\n",
      "=============================================\n",
      "=============================================\n",
      "cluster 14: \n",
      "['Apparel', 'Apron', 'Breastfeeding', 'Clothing', 'Eyewear', 'Fashion Sneakers', 'Footwear', 'Handbag', 'Hobo', 'Lingerie', 'Luggage', 'Maternity', 'Messenger & Crossbody', 'Novelty', 'Outerwear', 'Pouch', 'Pregnancy & Maternity', 'Purse', 'Satchel', 'Sunglasses', 'Swimwear', 'Teething Relief', 'Toddler', 'Tote', 'Wallet', 'Wristlet']\n",
      "=============================================\n",
      "=============================================\n",
      "cluster 15: \n",
      "['Boys', 'Boys (4+)', 'Boys 0-24 Mos', 'Boys 2T-5T', 'Fans', 'Girls', 'Girls (4+)', 'Girls 0-24 Mos', 'Girls 2T-5T', 'T-Shirts', 'T-shirts', 'Top & T-shirts', 'Tops & T-Shirts']\n",
      "=============================================\n",
      "=============================================\n",
      "cluster 16: \n",
      "['Above Knee, Mini', 'Boot Cut', 'Button', 'Button Down Shirt', 'Button-Front', 'Change Purse', 'Classic, Straight Leg', 'Cowl Neck', 'Double Breasted', 'Dress - Flat Front', 'Full Skirt', 'Full Zip', 'Full-Length', 'Hip Bag', 'Knee-Length', 'Leg Warmers', 'Lightweight', 'Mid-Calf', 'One Button', 'Pinback Button', 'Relaxed', 'Shoulder Bag', 'Slim, Skinny', 'Straight Leg', 'Straight, Pencil', 'Three Button', 'Tiered', 'Track & Sweat Pants', 'Track & Sweat Suits', 'Track Jacket', 'Two Button', 'V-Neck', 'Wide Leg']\n",
      "=============================================\n",
      "=============================================\n",
      "cluster 17: \n",
      "['Advertisement', 'Artwork', 'Baguette', 'Baskets', 'Baskets & Bins', 'Bookmark', 'Bouquets', 'Boxes', 'Cake Toppers', 'Calendar', 'Calendars', 'Casserole', 'Collages', 'Decorations', 'Drawings', 'Figurine', 'Frames', 'Invitations', 'Jewelry Boxes & Organizers', 'Journal', 'Magazines', 'Magnets', 'Mug', 'Ornaments', 'Painting', 'Paintings', 'Pendant', 'Personalized', 'Photographs', 'Planter', 'Postcard', 'Sculptures', 'Seasonal Décor', 'Souvenir', 'Stationery', 'Telephone', 'Totes & Shoppers', 'Tumbler', 'Weddings']\n",
      "=============================================\n",
      "=============================================\n",
      "cluster 18: \n",
      "['Baby', 'Baby & Child Care', 'Baby Gyms & Playmats', 'Baby Seats', 'Bed', 'Bed Pillows', 'Bed in a Bag', 'Birthday', 'Boyfriend', 'Christmas', 'Easter', 'Holidays', 'Home', 'House', \"Kids' Bath\", \"Kids' Home Store\", \"Kids' Room Décor\", 'Shams, Bed Skirts & Bed Frame Draperies', 'Sleep Positioners', \"St Patrick's\", 'Thanksgiving', 'Valentine']\n",
      "=============================================\n",
      "=============================================\n",
      "cluster 19: \n",
      "['Bead', 'Beads', 'Bracelet', 'Bracelets', 'Brooch', 'Earrings', 'Handmade', 'Jewelry', 'Necklace', 'Necklaces', 'Vintage', 'Vintage & Collectibles']\n",
      "=============================================\n",
      "=============================================\n",
      "cluster 20: \n",
      "['Backpack', 'Backpack Style', 'Bath Linen Sets', 'Belt', 'Box', 'Cards', 'Case', 'Cases, Covers & Skins', 'Chain', 'Changing Kits', 'Changing Pads & Covers', 'Charm', 'Clutch', 'Cover-Ups', 'Cross Stitch', 'Cuff Links', 'Custom', 'Duvet Covers & Sets', 'Fabric', 'Fabric Postcard', 'Fan Shop', 'Frame', 'Gear', 'Gift Sets', 'Gift Wrap', 'Hat', 'Headphones', 'Knit Top', 'Loafers & Slip-Ons', 'Magic', 'Paper', 'Paper Ephemera', 'Paper Goods', 'Paper Towels', 'Photo Albums & Frames', 'Poster', 'Posters & Prints', 'Print', 'Ring', 'Rings', 'Screen Protectors', 'Seat Covers', 'Sets', 'Sets & Kits', 'Standard', 'Sticker', 'Tank', 'Tape', 'Trading Cards', 'Vinyl']\n",
      "=============================================\n",
      "=============================================\n",
      "cluster 21: \n",
      "['Baggy, Loose', 'Blazer', 'Blouse', 'Board Shorts', 'Boots', 'Bras', 'Cardigan', 'Casual Pants', 'Casual Shorts', 'Denim', 'Dress', 'Dress - Pleat', 'Dress Pants', 'Dress Shirts', 'Dress Shorts', 'Dress Suit', 'Fleece Jacket', 'G-Strings & Thongs', 'Hoodie', 'Jacket', 'Jean Jacket', 'Jeans', 'Leather', 'Leggings', 'Pant Suit', 'Panties', 'Pants', 'Pants, Tights, Leggings', 'Polo Shirt', 'Scarf', 'Shirt', 'Shoes', 'Shorts', 'Skirt', 'Skirt Suit', 'Slippers', 'Socks', 'Sports Bras', 'Suits', 'Sweater', 'Thermal Underwear', 'Training Pants', 'Tshirt', 'Underwear', 'Vest', 'Vest, Sleeveless', 'Watches']\n",
      "=============================================\n",
      "=============================================\n",
      "cluster 22: \n",
      "['Bass Guitars', 'Brass Instruments', 'Drums & Percussion', 'Guitars', 'Instrument', 'Musical instruments', 'Stringed Instruments', 'Wind & Woodwind Instruments']\n",
      "=============================================\n",
      "=============================================\n",
      "cluster 23: \n",
      "['Accessories', 'Accessory', 'Bathing Accessories', 'Bathroom Accessories', 'Beach Accessories', 'Clothing & Closet Storage', 'Dolls & Accessories', 'Exterior Accessories', 'Fireplaces & Accessories', 'Fitness accessories', 'GPS Accessories & Mounts', 'Interior Accessories', 'Lamps& Accessories', \"Men's Accessories\", 'Microphones & Accessories', 'Other Accessories', 'Pacifiers & Accessories', 'Shopping Cart Covers', 'Tools & Accessories', 'Travel Bathing Kits', \"Women's Accessories\"]\n",
      "=============================================\n",
      "=============================================\n",
      "cluster 24: \n",
      "['Asymmetrical', 'Asymmetrical Hem', 'Beading', 'Bottoms', 'Buckle', 'Capri, Cropped', 'Capris, Cropped', 'Collared', 'Corduroys', 'Corset', 'Crewneck', 'Flats', 'Halter', 'Hawaiian', 'Henley', 'Hooded', 'Housewares', 'Joggers', 'Khakis, Chinos', 'Linen', 'Linens', 'Necktie', 'Overalls', 'Oxfords', 'Parka', 'Peacoat', 'Peasant', 'Pleated', 'Puffer', 'Pumps', 'Sandals', 'Shawl', 'Shrug', 'Snowsuits & Bibs', 'Sweatshirt, Pullover', 'Trench', 'Tunic', 'Turtleneck', 'Turtleneck, Mock', 'Tuxedo', 'Windbreaker', 'Wool']\n",
      "=============================================\n",
      "=============================================\n",
      "cluster 25: \n",
      "['Amplifiers & Effects', 'Cleansers', 'Conditioners', 'Nasal Aspirators', 'Oils & Fluids', 'Powders & Lotions', 'Shampoos', 'Soaps & Cleansers', 'Waxing']\n",
      "=============================================\n",
      "=============================================\n",
      "cluster 26: \n",
      "['Bedspreads & Coverlets', 'Dehumidifiers', 'Epilators', 'Humidifiers', 'Needlecraft', 'Papermaking', 'Paperweights', 'Playards', 'Rainwear', 'Sweatercoat', 'Teethers', 'other']\n",
      "=============================================\n",
      "=============================================\n",
      "cluster 27: \n",
      "['Animal', 'Animals', 'Baby & Toddler Toys', 'Building Toys', 'Cage', 'Child Friendly', 'Costume', 'Dogs', 'Doll', 'Doll Clothes', 'Doll Clothing', 'Electronics for Kids', 'Finding', 'Halloween', 'Horror', 'Human Figure Doll', 'Kids', \"Kids' Bedding\", 'Novelty & Gag Toys', 'Pet Lover', 'Pets', 'Small Animal', 'Toy', 'Toys']\n",
      "=============================================\n",
      "=============================================\n",
      "cluster 28: \n",
      "['Blazers & Sport Coats', 'Cleats', 'Coats & Jackets', 'Dresses', 'Gloves', 'Hats', 'Jackets', 'Jerseys', 'Shirts & Tops', 'Skirts', 'Skirts, Skorts & Dresses', 'Suits & Blazers', 'Sweaters', 'Sweats & Hoodies', 'Tops', 'Tops & Blouses', 'Tracksuits & Sweats', 'Vests']\n",
      "=============================================\n",
      "=============================================\n",
      "cluster 29: \n",
      "['100 Years or Older', '50 To 75 Years', '75 To 100 Years', 'All Other Sports', 'Day of the Dead', 'Desktops & All-In-Ones', 'Dress Up & Pretend Play', 'How to', \"New Year's\", 'One-Piece', 'One-Pieces', 'Other', 'Something Blue', 'Two-Piece', 'Watch']\n",
      "=============================================\n",
      "=============================================\n"
     ]
    }
   ],
   "source": [
    "df_cat = pd.DataFrame(all_categories_labels_single, index=all_categories, columns=['label'])\n",
    "for i in range(len(set(all_categories_labels_kmeans))):\n",
    "    cats = list(df_cat[df_cat['label'] == i].index)    \n",
    "    print(\"cluster \" + str(i) + \": \")\n",
    "    print(sorted(list(cats)))\n",
    "    print(\"=============================================\")\n",
    "    print(\"=============================================\")"
   ]
  },
  {
   "cell_type": "code",
   "execution_count": null,
   "metadata": {
    "collapsed": true
   },
   "outputs": [],
   "source": []
  },
  {
   "cell_type": "code",
   "execution_count": null,
   "metadata": {
    "collapsed": true
   },
   "outputs": [],
   "source": []
  },
  {
   "cell_type": "code",
   "execution_count": null,
   "metadata": {
    "collapsed": true
   },
   "outputs": [],
   "source": []
  }
 ],
 "metadata": {
  "kernelspec": {
   "display_name": "Python 3",
   "language": "python",
   "name": "python3"
  },
  "language_info": {
   "codemirror_mode": {
    "name": "ipython",
    "version": 3
   },
   "file_extension": ".py",
   "mimetype": "text/x-python",
   "name": "python",
   "nbconvert_exporter": "python",
   "pygments_lexer": "ipython3",
   "version": "3.6.4"
  }
 },
 "nbformat": 4,
 "nbformat_minor": 2
}
