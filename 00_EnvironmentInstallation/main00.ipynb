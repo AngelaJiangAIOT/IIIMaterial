{
 "cells": [
  {
   "cell_type": "markdown",
   "metadata": {
    "deletable": true,
    "editable": true
   },
   "source": [
    "# 環境設定檢查方式"
   ]
  },
  {
   "cell_type": "markdown",
   "metadata": {
    "deletable": true,
    "editable": true
   },
   "source": [
    "1. 打開命令提示字元\n",
    "    1. git\n",
    "    ```\n",
    "    >>> git\n",
    "    usage: git [--version] [--help] [-C <path>] [-c name=value]\n",
    "               [--exec-path[=<path>]] [--html-path] [--man-path] [--info-path]\n",
    "               [-p | --paginate | --no-pager] [--no-replace-objects] [--bare]\n",
    "               [--git-dir=<path>] [--work-tree=<path>] [--namespace=<name>]\n",
    "               <command> [<args>]\n",
    "    ......\n",
    "    ```\n",
    "\n",
    "    2. python(注意python版本必須是3.5 or 3.6)\n",
    "    ```\n",
    "    >>> python -V\n",
    "    Python 3.6.X\n",
    "    ```\n",
    "\n",
    "    3. pip(注意最後面對應的python版本即可)\n",
    "    ```\n",
    "    >>> pip -V\n",
    "    pip 10.0.1 from C:\\Users\\<UserName>\\AppData\\Local\\Programs\\Python\\Python35\\lib\\site-packages\\pip (python 3.6)\n",
    "    ```\n",
    "\n",
    "    4. jupyter(有數字跑出來即可)\n",
    "    ```\n",
    "    >>> jupyter --version\n",
    "    x.x.x\n",
    "    ```\n",
    "\n",
    "2. 如果有尚未安裝完成的軟體，請按照以下步驟安裝，務必詳細按照步驟安裝。"
   ]
  },
  {
   "cell_type": "code",
   "execution_count": null,
   "metadata": {
    "collapsed": true
   },
   "outputs": [],
   "source": []
  },
  {
   "cell_type": "markdown",
   "metadata": {
    "deletable": true,
    "editable": true
   },
   "source": [
    "# Git\n",
    "1. install\n",
    "    1. go to [official site](https://git-scm.com/download/win)\n",
    "    2. download executable\n",
    "    3. open executabled: Always \"Next\"\n",
    "2. testing\n",
    "    1. open Command line (命令提示字元)\n",
    "    ```\n",
    "    >>>git \n",
    "    usage: git [--version] [--help] [-C <path>] [-c <name>=<value>]\n",
    "           [--exec-path[=<path>]] [--html-path] [--man-path] [--info-path]\n",
    "           [-p | --paginate | -P | --no-pager] [--no-replace-objects] [--bare]\n",
    "           [--git-dir=<path>] [--work-tree=<path>] [--namespace=<name>]\n",
    "           <command> [<args>]\n",
    "    .........\n",
    "    ```\n",
    "3. download git repo\n",
    "    ```\n",
    "    git clone https://github.com/GoatWang/IIIMaterial\n",
    "    ```\n",
    "    \n",
    "# Python(Don't use conda or VS please)\n",
    "1. intall\n",
    "    1. go to [python 3.6.4 download page](https://www.python.org/downloads/release/python-364/)(official site)\n",
    "    \n",
    "    ![download](./imgs/Download364.PNG)\n",
    "    \n",
    "    2. Download \"Windows x86-64 executable installer\"\n",
    "    3. Open installer\n",
    "        1. (very important!!) check \"Add Python 3.6 to PATH\" at bottom\n",
    "        \n",
    "        ![download](./imgs/installation.PNG)\n",
    "        \n",
    "        2. click install now\n",
    "2. testing:\n",
    "    1. open Command line (命令提示字元)\n",
    "    ```\n",
    "    >>> python -V\n",
    "    Python 3.6.4\n",
    "    >>> pip -V\n",
    "    pip 9.0.1 from C:\\.......\\pip (python 3.6)\n",
    "    ```\n",
    "\n",
    "# Jupyter\n",
    "1. install:\n",
    "    1. open Command line (命令提示字元) with admin auth (以管理員權限開啟)\n",
    "    ```\n",
    "    >>>pip install --upgrade pip\n",
    "    >>>pip install jupyter\n",
    "    ```\n",
    "2. testing\n",
    "    1. open Command line (命令提示字元)\n",
    "    ```\n",
    "    >>>jupyter notebook\n",
    "    ```\n",
    "\n",
    "# Dependency(Don't use conda or VS please)\n",
    "1. install \n",
    "    1. option 1: install your self\n",
    "    ```\n",
    "    >>>pip install numpy pandas scikit-learn matplotlib requests xgboost bs4\n",
    "    ``` \n",
    "    2. option 2: install through requirements.txt\n",
    "    ```\n",
    "    >>>pip install -r requirements.txt\n",
    "    ``` \n",
    "    \n",
    "    "
   ]
  },
  {
   "cell_type": "markdown",
   "metadata": {
    "deletable": true,
    "editable": true
   },
   "source": [
    "# Jupyter 快捷鍵\n",
    "0. shift-enter: 跑程式\n",
    "1. A: 上面增加一格\n",
    "2. B: 下面增加一格\n",
    "3. C: 複製\n",
    "4. V: 貼上\n",
    "5. Z: 復原\n",
    "6. shift-up & shift-down: 多個block選取\n",
    "7. M: markdown抄筆記\n",
    "8. shift + tab: param instruction\n",
    "9. tab: functions instruction\n"
   ]
  },
  {
   "cell_type": "code",
   "execution_count": null,
   "metadata": {
    "collapsed": true
   },
   "outputs": [],
   "source": []
  }
 ],
 "metadata": {
  "kernelspec": {
   "display_name": "Python 3",
   "language": "python",
   "name": "python3"
  },
  "language_info": {
   "codemirror_mode": {
    "name": "ipython",
    "version": 3
   },
   "file_extension": ".py",
   "mimetype": "text/x-python",
   "name": "python",
   "nbconvert_exporter": "python",
   "pygments_lexer": "ipython3",
   "version": "3.5.3"
  }
 },
 "nbformat": 4,
 "nbformat_minor": 2
}
