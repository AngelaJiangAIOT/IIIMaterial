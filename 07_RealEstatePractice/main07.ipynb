{
 "cells": [
  {
   "cell_type": "code",
   "execution_count": 1,
   "metadata": {},
   "outputs": [],
   "source": [
    "import pandas as pd\n",
    "import os\n",
    "import urllib.request\n"
   ]
  },
  {
   "cell_type": "code",
   "execution_count": 2,
   "metadata": {},
   "outputs": [],
   "source": [
    "if 'data' not in os.listdir():\n",
    "    os.mkdir('data')\n",
    "    \n",
    "if 'df_realestate.csv' not in os.listdir('data'):\n",
    "    url = 'https://s3.amazonaws.com/datasets-jeremy/df_realestate.csv'  \n",
    "    urllib.request.urlretrieve(url, os.path.join('data', 'df_realestate.csv')) \n",
    "    \n",
    "if 'df_realestate_processed.csv' not in os.listdir('data'):\n",
    "    url = 'https://s3.amazonaws.com/datasets-jeremy/df_realestate_processed.csv'  \n",
    "    urllib.request.urlretrieve(url, os.path.join('data', 'df_realestate_processed.csv'))  "
   ]
  },
  {
   "cell_type": "code",
   "execution_count": 3,
   "metadata": {},
   "outputs": [
    {
     "name": "stderr",
     "output_type": "stream",
     "text": [
      "c:\\users\\user\\appdata\\local\\programs\\python\\python36\\lib\\site-packages\\IPython\\core\\interactiveshell.py:3018: DtypeWarning: Columns (5,6,8,11,13,21,29,32,60) have mixed types. Specify dtype option on import or set low_memory=False.\n",
      "  interactivity=interactivity, compiler=compiler, result=result)\n"
     ]
    }
   ],
   "source": [
    "# before preprocessing\n",
    "file = os.path.join('data', 'df_realestate.csv')\n",
    "df_realestate = pd.read_csv(file, encoding='big5')\n",
    "df_realestate\n",
    "\n",
    "# processed\n",
    "path = \"data//df_realestate_processed.csv\"\n",
    "df_realestate_processed = pd.read_csv(path)\n",
    "X = df_realestate_processed.drop([\"price_per_meter\", \"total_price\"], axis=1)\n",
    "Y = df_realestate_processed['total_price']\n"
   ]
  },
  {
   "cell_type": "code",
   "execution_count": 1,
   "metadata": {},
   "outputs": [],
   "source": [
    "# Start Your Code Here"
   ]
  }
 ],
 "metadata": {
  "kernelspec": {
   "display_name": "Python 3",
   "language": "python",
   "name": "python3"
  },
  "language_info": {
   "codemirror_mode": {
    "name": "ipython",
    "version": 3
   },
   "file_extension": ".py",
   "mimetype": "text/x-python",
   "name": "python",
   "nbconvert_exporter": "python",
   "pygments_lexer": "ipython3",
   "version": "3.6.4"
  }
 },
 "nbformat": 4,
 "nbformat_minor": 2
}
