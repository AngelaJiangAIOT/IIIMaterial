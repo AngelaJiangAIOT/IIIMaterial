{
 "cells": [
  {
   "cell_type": "code",
   "execution_count": 1,
   "metadata": {
    "collapsed": true,
    "deletable": true,
    "editable": true
   },
   "outputs": [],
   "source": [
    "import pandas as pd\n",
    "import numpy as np\n",
    "import nltk\n",
    "from pprint import pprint\n",
    "\n",
    "from nltk.corpus import stopwords\n",
    "# if this is first time you use nltk, please open terminal and type codes bellow \n",
    "#   >>> import nltk\n",
    "#   >>> nltk.download('stopwords')\n",
    "#   >>> nltk.download('punkt')\n",
    "\n",
    "stops = set(stopwords.words('english'))\n",
    "import string\n",
    "puns = string.punctuation"
   ]
  },
  {
   "cell_type": "markdown",
   "metadata": {
    "deletable": true,
    "editable": true
   },
   "source": [
    "# Word2Vec\n",
    "1. 簡介\n",
    "    \n",
    "    Word2Vec其實是Word to Vector的簡稱，意在將每一個字轉換成一條向量，並讓這字的語意透過這條向量描繪出來。早期做自然語言處理時，很難對讓電腦對詞背後的意思有更深一層的理解，因此詞與詞之間的關係很難被挖掘出來，像是相似詞、相反詞、對應詞等，因此Word2Vec在這樣的背景下產生就顯得極其珍貴。\n",
    "    \n",
    "    \n",
    "2. 作用&賣點\n",
    "    1. 它可以找到相似的字。\n",
    "    2. 它可以加減，像是Taiwan-Taipei=Germany-Berlin。\n",
    "    \n",
    "3. 訓練方法: 參照[這篇網誌](https://goatwang.github.io/2017/06/06/Train-Wiki-Corpus-by-gensim-Word2vec/)\n",
    "\n",
    "4. 已經訓練好的model:\n",
    "    1. [Various Models](http://ahogrammer.com/2017/01/20/the-list-of-pretrained-word-embeddings/)\n",
    "    2. 本課程使用之[GloVe Word2Vec](https://nlp.stanford.edu/projects/glove/)(時間考量已經壓縮過，只留下這個文件中會用到的字)。\n",
    "\n",
    "5. 專案: 將e-commerce商品標籤分群"
   ]
  },
  {
   "cell_type": "markdown",
   "metadata": {
    "deletable": true,
    "editable": true
   },
   "source": [
    "# Load Data"
   ]
  },
  {
   "cell_type": "code",
   "execution_count": 2,
   "metadata": {
    "collapsed": false,
    "deletable": true,
    "editable": true,
    "scrolled": true
   },
   "outputs": [
    {
     "name": "stdout",
     "output_type": "stream",
     "text": [
      "商品標籤個數: 910\n",
      "前10個商品標籤: ['Small Animal', 'Kitchen', 'Fragrance', 'Track & Sweat Suits', 'Wallet', 'Favors', 'Quilts', 'Sticker', 'Pets', 'Skirt']\n"
     ]
    }
   ],
   "source": [
    "with open('all_categories.list', 'r', encoding='utf8') as f:\n",
    "    all_categories = eval(f.read())\n",
    "print(\"商品標籤個數:\", len(all_categories))\n",
    "print(\"前10個商品標籤:\", all_categories[:10])\n"
   ]
  },
  {
   "cell_type": "code",
   "execution_count": 3,
   "metadata": {
    "collapsed": false,
    "deletable": true,
    "editable": true,
    "scrolled": true
   },
   "outputs": [
    {
     "name": "stdout",
     "output_type": "stream",
     "text": [
      "vec_dimensions: 50\n",
      "[('shoes',\n",
      "  array([-0.75313002, -1.78719997,  0.14522   , -0.29681   ,  0.12436   ,\n",
      "       -0.40922999,  1.22679996,  0.50806999,  0.27913001,  0.34277001,\n",
      "       -0.013902  ,  1.52499998, -3.44880009,  1.05630004, -0.49985   ,\n",
      "        0.79435998, -0.85899001, -1.01970005, -0.24501   ,  0.45899999,\n",
      "       -0.25519001, -0.29655001,  0.75011998, -0.037856  , -0.47272   ,\n",
      "        0.63101   , -0.18919   ,  0.43403   , -0.09235   , -1.40869999,\n",
      "       -0.032128  ,  0.64880002,  0.22022   , -0.56874001,  0.79076999,\n",
      "       -0.50309002, -0.61181998,  0.56013   ,  0.1309    , -0.069377  ,\n",
      "       -0.25114   ,  0.64335001, -0.39982   , -0.31377   ,  0.19617   ,\n",
      "       -0.62585998,  0.93519998,  0.20832001,  0.057897  ,  0.06535   ], dtype=float32)),\n",
      " ('capris',\n",
      "  array([-0.4842    , -1.98909998,  0.55646998, -0.28679001,  0.11991   ,\n",
      "        0.10974   ,  0.26894999,  0.49259999, -0.21727   , -0.16985001,\n",
      "       -0.37487999,  0.56990999, -0.71882999,  0.46707001, -0.41343999,\n",
      "        0.010451  , -0.50656003, -1.09500003,  0.27522001,  0.49383   ,\n",
      "        0.17281   ,  0.28764999,  0.51595998, -0.49083   , -0.25503999,\n",
      "        0.67070001,  0.14427   ,  0.51231998, -0.69973999, -0.73289001,\n",
      "        0.72545999,  1.17649996,  1.16649997, -1.26300001, -0.19309001,\n",
      "       -0.92014998, -0.97536999,  1.29900002,  0.41830999,  0.75585002,\n",
      "        1.16170001,  0.32422999, -0.23828   , -0.30649999,  0.31435001,\n",
      "       -0.34639001,  0.5528    ,  0.63055003, -0.25734001, -0.22787   ], dtype=float32)),\n",
      " ('mma',\n",
      "  array([ 0.057909  ,  0.97693998,  0.097035  , -0.92220002,  0.29453999,\n",
      "        0.31338   ,  0.62387002,  1.0632    ,  0.43215001, -0.30925   ,\n",
      "       -0.58397001,  0.51129001, -1.84150004,  0.72351998,  0.20987999,\n",
      "       -0.24788   , -0.35944   , -0.28437001,  0.16673   , -0.11154   ,\n",
      "       -0.52287   ,  0.55479002,  0.96582001,  0.053956  , -0.23435   ,\n",
      "        0.45515999,  0.75260001,  0.72092998, -0.47626001, -0.1068    ,\n",
      "        0.74304003, -0.75111002, -0.1134    , -0.01013   ,  0.14609   ,\n",
      "       -0.43413001, -0.010022  , -0.75803   , -0.041033  ,  0.0096183 ,\n",
      "       -0.99875998, -0.0060994 ,  0.72723001,  0.40942001,  0.24731   ,\n",
      "        0.26058999,  0.045822  , -0.23203   ,  0.33284   , -0.59744   ], dtype=float32)),\n",
      " ('valentine',\n",
      "  array([-0.32181001,  0.047245  , -0.086564  ,  0.92435002,  0.25389001,\n",
      "       -0.54764998,  1.36479998, -0.034164  ,  0.30585   ,  0.18695   ,\n",
      "       -0.18057001, -0.091624  , -2.74009991,  0.51912999, -0.63652998,\n",
      "        1.15719998, -0.70899999, -0.2499    , -0.32128   ,  1.07770002,\n",
      "       -0.2992    ,  0.25876001, -1.12870002, -0.0304    ,  0.38776001,\n",
      "        0.57511997,  0.031611  , -0.33250001,  0.36412999, -0.76668   ,\n",
      "       -0.11776   ,  0.060757  , -0.29017001,  0.047259  , -0.078991  ,\n",
      "        0.13319001,  0.0054502 , -0.11136   ,  0.76332003,  0.25744   ,\n",
      "       -1.4059    , -0.57844001, -0.021655  , -0.30278   ,  0.54220003,\n",
      "        0.23122001, -0.36057001, -0.91175997, -0.36673   ,  0.05963   ], dtype=float32)),\n",
      " ('blankets',\n",
      "  array([-0.14805   , -1.06379998,  0.30094999,  1.11510003, -1.18889999,\n",
      "       -0.092532  ,  0.55757999, -0.75459999,  0.39100999, -1.3312    ,\n",
      "        0.49063   , -0.16188   , -2.55830002,  0.066782  , -0.21403   ,\n",
      "        0.74980998, -0.67758   , -1.2471    , -0.091036  , -0.34303999,\n",
      "       -0.69455999,  0.072797  ,  0.23805   , -0.032927  ,  0.015603  ,\n",
      "        1.18509996, -1.1336    ,  0.80997998, -0.26508   , -0.064514  ,\n",
      "       -0.45383   ,  1.30499995,  0.23682   ,  0.94227999, -0.46854001,\n",
      "       -2.44420004, -0.099223  , -0.10991   ,  0.59223998,  0.69910002,\n",
      "        0.57981998,  1.1602    ,  0.097682  , -0.36829001,  1.65269995,\n",
      "        0.46489999,  1.23650002,  0.39405999,  0.30756   ,  0.90202999], dtype=float32)),\n",
      " ('wallet',\n",
      "  array([-1.19430006, -1.18879998, -0.032755  ,  0.09823   , -0.53174001,\n",
      "       -0.73866999,  0.39761001, -0.34917   ,  1.16900003,  0.52092999,\n",
      "        0.41242999, -0.09618   , -2.45219994, -0.31790999,  0.058182  ,\n",
      "        0.93536001, -0.028232  , -0.11757   ,  0.37606999, -0.25378001,\n",
      "       -1.27950001, -0.11123   ,  0.59157997, -0.084082  , -1.25670004,\n",
      "        0.47678   , -0.13639   , -0.72696   ,  0.20853999, -0.69603002,\n",
      "       -0.54097003, -0.12585001, -0.36667001, -1.13880002,  0.12665001,\n",
      "       -0.72747999,  0.28997001,  0.43700999,  0.32506001, -0.50497001,\n",
      "        0.18109   ,  0.66486001, -0.29956001, -0.63356   ,  0.86413002,\n",
      "       -1.04120004,  0.67106003, -0.26787999,  0.20006999,  0.79820001], dtype=float32)),\n",
      " ('trading',\n",
      "  array([ 0.33625001, -0.19762   , -0.80058002, -0.20669   ,  1.16939998,\n",
      "        0.52065998,  0.026419  , -0.49024001,  0.73049003, -1.40110004,\n",
      "        0.17589   ,  0.85681999, -2.26629996,  0.11366   ,  0.030058  ,\n",
      "       -0.81966001,  0.43421999,  0.53741997,  0.79484999, -0.57867002,\n",
      "       -0.044536  , -0.41674   ,  0.77491999, -0.3671    , -1.42050004,\n",
      "        0.51590002,  0.35156   , -0.47626999, -0.32185999, -0.31672001,\n",
      "        0.45543   , -0.51261002, -0.36441001,  0.18911999,  0.80192   ,\n",
      "       -0.55877   ,  0.41769999,  0.85395002,  1.05040002, -0.45243001,\n",
      "       -0.75893003, -0.34529001,  0.75085002,  0.0055399 ,  0.64740002,\n",
      "       -0.94121999, -1.49749994,  0.43658   , -0.11252   ,  1.03170002], dtype=float32)),\n",
      " ('magazines',\n",
      "  array([ 0.39484999,  0.44514999, -0.40786001,  1.19809997,  0.81892997,\n",
      "       -0.61186999,  1.10759997, -0.77682   ,  0.72516   , -0.42896   ,\n",
      "        0.18086   , -0.19016001, -2.20770001,  0.72003001, -0.55673999,\n",
      "       -0.63951999, -0.0065592 , -0.48486999,  0.35190001,  0.78930998,\n",
      "       -0.17828999, -1.06500006,  0.48829001, -0.59649998, -0.43457001,\n",
      "        0.38890001, -0.18707   ,  0.74782997, -0.85306001, -0.23887999,\n",
      "        0.78252   ,  0.31711999, -0.41496   ,  0.0042567 ,  0.019969  ,\n",
      "       -1.4648    ,  0.19135   ,  0.19835   ,  0.30972001, -0.69665998,\n",
      "        0.76804   ,  0.25192001, -1.13960004,  0.63731998,  0.076168  ,\n",
      "       -0.68685001, -0.14494   , -0.081589  , -0.69483   , -0.50467998], dtype=float32)),\n",
      " ('tote',\n",
      "  array([-1.61440003, -1.42040002,  0.10777   ,  0.029311  ,  0.30906001,\n",
      "       -0.55211997, -0.33853999, -0.48651999,  0.82871997, -0.31799001,\n",
      "        0.11355   ,  1.5618    , -1.60150003, -0.50239998,  0.14737   ,\n",
      "        1.19270003, -0.13012999,  0.11564   ,  0.56713003,  0.29363   ,\n",
      "       -0.89016002, -0.34257999,  0.83099997, -0.63845998, -0.094616  ,\n",
      "        0.1661    ,  0.43474999, -0.098673  , -0.36747   , -0.92932999,\n",
      "        0.76291001,  0.075947  ,  0.80947   ,  0.10852   ,  0.02398   ,\n",
      "       -1.26709998,  0.11936   ,  0.64511001,  0.27595001, -0.60171002,\n",
      "       -0.72987998,  0.27022001, -0.68457001,  0.56327999,  0.78428   ,\n",
      "       -0.23329   ,  0.98750001,  0.047891  , -0.24626   ,  0.14279   ], dtype=float32)),\n",
      " ('diapering',\n",
      "  array([-1.68570006,  0.1061    , -0.18267   ,  0.23259   ,  0.77578002,\n",
      "        0.40200999, -0.54426003,  0.20994   ,  1.49960005, -0.93958002,\n",
      "       -0.69643003,  0.078506  , -0.21247   ,  0.10618   , -0.051337  ,\n",
      "        1.22130001, -0.23904   ,  0.50230998,  0.32528001,  1.29159999,\n",
      "       -1.36189997,  0.097711  ,  0.44654   ,  0.44174001,  0.1366    ,\n",
      "        2.05439997, -0.010954  ,  0.61421001,  0.28231001,  0.32216001,\n",
      "        0.86767   ,  0.18811999,  1.54369998,  0.18314999, -0.1657    ,\n",
      "       -0.71367002,  0.62651998,  0.49164999,  0.0078806 , -0.56897998,\n",
      "        0.5237    ,  0.63783997, -0.63839   ,  0.20457   ,  0.46970999,\n",
      "        0.78535998,  0.13232   ,  0.76903999,  1.15209997, -0.66421002], dtype=float32))]\n"
     ]
    }
   ],
   "source": [
    "word_vec_mapping = {}\n",
    "path = \"glove.twitter.27B.50d.txt\"\n",
    "with open(path, 'r', encoding='utf8') as f:  ## 這個文檔的格式是一行一個字並配上他的向量，以空白鍵分隔\n",
    "    count = 0\n",
    "    for line in f:  \n",
    "        tokens = line.split()\n",
    "        token = tokens[0]  ## 第一個token就是詞彙\n",
    "        vec = tokens[1:]  ## 後面的token向量\n",
    "        word_vec_mapping[token] = np.array(vec, dtype=np.float32)  ## 把整個model做成一個字典，以利查找字對應的向量\n",
    "        count += 1\n",
    "vec_dimensions = len(word_vec_mapping.get('men'))  ## 記錄這個mdoel每一個字的維度\n",
    "print(\"vec_dimensions:\", vec_dimensions)\n",
    "pprint(list(word_vec_mapping.items())[:10])"
   ]
  },
  {
   "cell_type": "code",
   "execution_count": 33,
   "metadata": {
    "collapsed": false,
    "deletable": true,
    "editable": true
   },
   "outputs": [
    {
     "name": "stdout",
     "output_type": "stream",
     "text": [
      "before tokenize: Small Animal\n",
      "after tokenize: ['small', 'animal']\n"
     ]
    }
   ],
   "source": [
    "def tokenize(Doc):\n",
    "    if pd.notnull(Doc):\n",
    "        tokens = nltk.wordpunct_tokenize(Doc)\n",
    "        words = [w.lower() for w in tokens if w not in stops and w not in puns]\n",
    "        return words\n",
    "    else:\n",
    "        return None\n",
    "    \n",
    "print(\"before tokenize:\", all_categories[0])\n",
    "print(\"after tokenize:\", tokenize(all_categories[0]))\n"
   ]
  },
  {
   "cell_type": "markdown",
   "metadata": {
    "deletable": true,
    "editable": true
   },
   "source": [
    "# category to vec"
   ]
  },
  {
   "cell_type": "code",
   "execution_count": 34,
   "metadata": {
    "collapsed": false,
    "deletable": true,
    "editable": true
   },
   "outputs": [
    {
     "data": {
      "text/plain": [
       "array([[-1.06568001e-01, -2.19300002e-01, -5.04960010e-01,\n",
       "         7.89400041e-02,  4.33136672e-01, -2.04033335e-01,\n",
       "         2.69650002e-01, -4.01289991e-02,  6.66566640e-02,\n",
       "        -3.47369999e-01, -1.45897331e-01,  5.23586671e-02,\n",
       "        -2.56810006e+00, -5.97266654e-02,  2.70169998e-01,\n",
       "         3.27853332e-01,  1.49886663e-01, -3.41743320e-01,\n",
       "         4.56019998e-01, -3.18910003e-01, -2.26503337e-01,\n",
       "        -1.98499958e-02,  1.73773328e-01, -7.36466646e-02,\n",
       "        -1.91801341e-01,  3.99000247e-02, -4.33019996e-01,\n",
       "         1.95446660e-01,  3.02536656e-01, -2.64469996e-01,\n",
       "         1.43448664e-01, -2.21346666e-01,  2.67573337e-01,\n",
       "        -1.34714002e-01,  1.03713324e-01, -1.49645003e-01,\n",
       "        -3.23186656e-01,  3.05600067e-02, -1.53926671e-01,\n",
       "        -4.57656662e-01, -6.81633313e-01, -2.12436676e-01,\n",
       "        -9.16280023e-03, -1.15173330e-01,  2.89599995e-01,\n",
       "         2.76519994e-01,  6.86560015e-01,  5.35286645e-01,\n",
       "        -6.97303365e-02, -1.31800175e-02],\n",
       "       [-1.34635001e-01, -1.01580001e-01,  2.90569991e-01,\n",
       "         3.66704985e-02,  6.18049979e-01, -1.25829997e-02,\n",
       "         8.72799978e-02, -3.69569995e-02,  2.68985003e-01,\n",
       "        -7.27000013e-02, -8.52800012e-02,  2.14680001e-01,\n",
       "        -1.70260000e+00, -1.00740001e-01,  1.68204993e-01,\n",
       "         3.43964994e-02,  2.82214999e-01, -8.15099999e-02,\n",
       "        -3.58479992e-02,  9.94149968e-02, -5.05349994e-01,\n",
       "        -6.05799973e-01, -1.33295000e-01,  1.48310000e-02,\n",
       "         2.03070000e-01,  4.44945008e-01, -4.16644990e-01,\n",
       "         9.57150012e-02,  1.52985007e-01, -7.69449994e-02,\n",
       "         1.58664994e-02,  1.58519998e-01, -3.18235010e-01,\n",
       "        -1.35325000e-01, -3.47584993e-01, -1.70754999e-01,\n",
       "         3.93254995e-01,  2.92789996e-01,  5.57299972e-01,\n",
       "         1.86535001e-01, -2.43070006e-01,  7.99199998e-01,\n",
       "        -4.32015002e-01,  1.27194999e-02,  7.96999991e-01,\n",
       "         2.56529987e-01,  4.61564988e-01,  2.03160003e-01,\n",
       "         3.38359997e-02, -2.39829998e-02],\n",
       "       [-9.88099992e-01, -3.99809986e-01,  1.40489995e-01,\n",
       "         4.40685004e-01,  1.65604994e-01, -1.38370007e-01,\n",
       "         7.02899992e-01, -3.35615009e-01,  2.35764995e-01,\n",
       "        -1.79150000e-01, -1.63994998e-01,  2.00165004e-01,\n",
       "        -9.77949977e-01,  3.42664987e-01,  2.68189996e-01,\n",
       "         5.88299990e-01,  1.45380005e-01,  5.01550019e-01,\n",
       "         4.08995003e-01,  5.53049982e-01, -3.92275006e-02,\n",
       "        -3.06190014e-01,  7.81100020e-02, -3.90645005e-02,\n",
       "         4.11195010e-01,  6.43949986e-01,  4.59630013e-01,\n",
       "         3.68274987e-01, -2.15910003e-01,  2.59900004e-01,\n",
       "         1.87040001e-01,  4.45854992e-01, -3.99720013e-01,\n",
       "        -3.37610006e-01,  5.33200026e-01, -3.45414996e-01,\n",
       "        -8.76500010e-02,  3.10175002e-01, -1.95030004e-01,\n",
       "         1.97630003e-01,  6.70050010e-02, -4.89879996e-01,\n",
       "        -3.67805004e-01, -1.04879998e-01, -1.06974997e-01,\n",
       "        -1.88885003e-01,  3.19970012e-01, -4.69814986e-01,\n",
       "        -4.91315007e-01,  7.24899992e-02],\n",
       "       [-5.72879985e-01, -3.72375004e-01,  1.73656000e-01,\n",
       "        -1.25377495e-01,  3.21415495e-01,  4.43422489e-01,\n",
       "         9.04500008e-01,  2.20465001e-01,  1.78347498e-01,\n",
       "         5.64057200e-02, -2.68505001e-02,  4.72430006e-01,\n",
       "        -2.26352495e+00,  5.08339994e-01, -2.02354499e-01,\n",
       "         7.00457469e-02, -1.42926505e-01, -4.87674996e-02,\n",
       "        -4.37105000e-01, -8.81584955e-02, -2.55424757e-01,\n",
       "         1.25782505e-01,  5.74095011e-01, -4.95189987e-02,\n",
       "         7.20500015e-02,  4.65198249e-01,  5.72074968e-02,\n",
       "         4.60020250e-01, -5.30047499e-01, -1.69639246e-01,\n",
       "         2.15515029e-02,  3.21728000e-01,  6.42565023e-02,\n",
       "         6.74249977e-03,  4.20754790e-01, -3.53294998e-01,\n",
       "        -2.27737520e-01, -2.42581507e-02,  1.83318496e-01,\n",
       "         2.09748233e-01, -2.33150087e-03, -1.15577500e-01,\n",
       "        -6.14999048e-03,  7.64252529e-02, -1.41474977e-02,\n",
       "        -6.63224980e-02,  3.48339995e-01,  1.91319998e-01,\n",
       "        -3.63100022e-02, -1.00507505e-01],\n",
       "       [-5.97150028e-01, -5.94399989e-01, -1.63774993e-02,\n",
       "         4.91149984e-02, -2.65870005e-01, -3.69334996e-01,\n",
       "         1.98805004e-01, -1.74585000e-01,  5.84500015e-01,\n",
       "         2.60464996e-01,  2.06214994e-01, -4.80899997e-02,\n",
       "        -1.22609997e+00, -1.58954993e-01,  2.90910006e-02,\n",
       "         4.67680007e-01, -1.41160004e-02, -5.87849990e-02,\n",
       "         1.88034996e-01, -1.26890004e-01, -6.39750004e-01,\n",
       "        -5.56150004e-02,  2.95789987e-01, -4.20410000e-02,\n",
       "        -6.28350019e-01,  2.38389999e-01, -6.81950003e-02,\n",
       "        -3.63480002e-01,  1.04269996e-01, -3.48015010e-01,\n",
       "        -2.70485014e-01, -6.29250035e-02, -1.83335006e-01,\n",
       "        -5.69400012e-01,  6.33250028e-02, -3.63739997e-01,\n",
       "         1.44985005e-01,  2.18504995e-01,  1.62530005e-01,\n",
       "        -2.52485007e-01,  9.05449986e-02,  3.32430005e-01,\n",
       "        -1.49780005e-01, -3.16780001e-01,  4.32065010e-01,\n",
       "        -5.20600021e-01,  3.35530013e-01, -1.33939996e-01,\n",
       "         1.00034997e-01,  3.99100006e-01],\n",
       "       [-3.78824994e-02,  2.16715001e-02, -2.03614995e-01,\n",
       "         4.73949999e-01,  3.97415012e-01, -1.50375003e-02,\n",
       "         1.47259995e-01, -2.83484995e-01,  1.61620006e-01,\n",
       "        -3.39244992e-01, -1.35114998e-01,  1.29594997e-01,\n",
       "        -1.00569999e+00, -1.65745005e-01, -2.52894998e-01,\n",
       "         2.82804996e-01, -2.00295001e-01, -2.60520011e-01,\n",
       "         2.47584999e-01,  2.77945008e-02, -1.43289998e-01,\n",
       "        -8.99500027e-02, -1.50639996e-01,  1.12109996e-01,\n",
       "         1.63554996e-01,  4.38300014e-01,  5.07000029e-01,\n",
       "         2.88100004e-01, -2.43440002e-01, -2.89445013e-01,\n",
       "         1.19479999e-01,  1.62159994e-01,  1.19889997e-01,\n",
       "         2.93314993e-01, -1.59159992e-02,  1.79305002e-01,\n",
       "        -9.56100002e-02,  2.05795005e-01, -3.18405002e-01,\n",
       "        -9.31150019e-02,  5.29900014e-01,  1.79069996e-01,\n",
       "         4.37990010e-01, -3.05269986e-01,  6.69950023e-02,\n",
       "        -6.88150004e-02,  3.27600017e-02, -4.47625011e-01,\n",
       "         1.87710002e-01, -2.22010002e-01],\n",
       "       [-2.06295005e-03, -7.10950017e-01,  6.01699995e-03,\n",
       "         1.32184997e-02,  3.89854997e-01, -2.01655000e-01,\n",
       "        -4.00155008e-01, -6.64200008e-01,  4.83485013e-02,\n",
       "        -7.72300005e-01,  6.34500012e-02, -1.24100000e-01,\n",
       "        -1.08194999e-01, -2.44039997e-01, -1.97549999e-01,\n",
       "        -2.21475005e-01, -1.26955003e-01, -2.79060006e-01,\n",
       "         2.16444999e-01,  3.07390004e-01, -3.23715001e-01,\n",
       "         3.88330013e-01, -2.82564998e-01, -1.92114994e-01,\n",
       "         6.96849972e-02,  6.21299982e-01, -6.67100012e-01,\n",
       "         4.64475006e-01,  1.35605007e-01, -1.07050002e-01,\n",
       "         1.89190000e-01,  4.20145005e-01,  4.92235005e-01,\n",
       "         2.21059993e-01, -2.05170006e-01, -4.55455005e-01,\n",
       "         3.75479996e-01,  1.05685003e-01,  1.76300004e-01,\n",
       "        -3.29115003e-01,  3.75914991e-01,  2.45995000e-01,\n",
       "         2.30765000e-01, -4.34990004e-02,  1.15625001e-01,\n",
       "         4.39765006e-02,  2.13789999e-01, -4.46650013e-02,\n",
       "         8.12150016e-02, -7.05699995e-02],\n",
       "       [-2.06564993e-01, -1.62304997e-01,  1.47585005e-01,\n",
       "        -3.58139984e-02,  1.60620004e-01, -2.66900003e-01,\n",
       "         3.64264995e-01, -1.53109998e-01,  3.98274988e-01,\n",
       "         1.24100000e-01,  8.43949974e-01,  3.20769995e-01,\n",
       "        -1.20214999e+00,  1.08580001e-01,  7.11399987e-02,\n",
       "         3.31640005e-01,  1.64250001e-01,  1.64305001e-01,\n",
       "         2.05550000e-01,  4.40645009e-01, -7.57300019e-01,\n",
       "        -7.32749999e-02, -2.19479993e-01, -1.98410004e-01,\n",
       "         7.79350027e-02,  1.17284998e-01, -4.28065002e-01,\n",
       "         1.44459993e-01, -3.14354986e-01, -1.71645004e-02,\n",
       "        -3.51389982e-02, -1.76145006e-02, -2.32284993e-01,\n",
       "        -4.58184987e-01,  3.92439999e-02, -4.60334986e-01,\n",
       "         4.15419996e-01, -3.32834989e-01, -1.48269996e-01,\n",
       "        -2.20679998e-01,  7.68600032e-02, -9.44700018e-02,\n",
       "         2.06180006e-01,  3.65249999e-03,  3.89064997e-01,\n",
       "         1.37335004e-03,  1.35535002e-01, -5.56599975e-01,\n",
       "         3.10039997e-01, -1.68155000e-01],\n",
       "       [-2.94550005e-02, -3.07659991e-02, -6.04799986e-01,\n",
       "         3.21434997e-02, -1.88095003e-01, -4.57619995e-01,\n",
       "         9.04750004e-02, -6.99699968e-02, -6.99149966e-02,\n",
       "        -4.50794995e-01,  5.74249998e-02,  4.97170001e-01,\n",
       "        -1.21949995e+00,  2.54070014e-01,  1.87730007e-02,\n",
       "         5.01850009e-01, -2.31519997e-01, -7.51699984e-01,\n",
       "         1.98330000e-01, -2.12695003e-01, -8.22299998e-03,\n",
       "        -1.99705005e-01, -1.47654995e-01,  1.04364999e-01,\n",
       "        -2.01924995e-01,  6.14300013e-01, -5.14199972e-01,\n",
       "         4.62215006e-01,  1.69790000e-01, -1.97325006e-01,\n",
       "         4.42554988e-02, -1.86079994e-01,  5.58150001e-02,\n",
       "         9.98499990e-02, -1.51519999e-01, -5.96000016e-01,\n",
       "        -1.32719994e-01, -7.31249973e-02, -2.29434997e-01,\n",
       "        -2.89404988e-01, -1.17435001e-01,  7.38350004e-02,\n",
       "        -1.01274997e-01,  4.62944992e-02,  3.37729990e-01,\n",
       "         4.17374998e-01,  3.88720006e-01,  1.84799999e-01,\n",
       "         4.11204994e-02, -2.70575006e-02],\n",
       "       [-5.98450005e-01, -9.79049981e-01,  5.17499983e-01,\n",
       "         8.30200016e-02,  8.11500028e-02, -1.82370007e-01,\n",
       "         4.35090005e-01, -1.22555003e-01,  4.54614997e-01,\n",
       "         1.58040002e-01, -4.15560007e-01,  2.46065006e-01,\n",
       "        -8.96300018e-01,  3.78800005e-01, -3.19875002e-01,\n",
       "         2.54184991e-01, -4.09689993e-01, -1.97424993e-01,\n",
       "        -3.04295003e-01, -1.66970000e-01, -2.54455000e-01,\n",
       "        -1.48959994e-01,  3.93539995e-01, -3.29495013e-01,\n",
       "         2.43544998e-03,  8.85500014e-02, -1.60435006e-01,\n",
       "         2.24160001e-01, -7.21499994e-02, -4.98634994e-01,\n",
       "         2.22555008e-02,  5.12600005e-01,  7.37500012e-01,\n",
       "        -8.35550010e-01,  1.35195002e-01, -1.94610000e-01,\n",
       "        -2.13465005e-01,  1.44014999e-01,  3.16814989e-01,\n",
       "        -2.08470002e-01, -2.54810005e-01,  2.24235002e-02,\n",
       "         1.44694997e-02,  2.49829993e-01,  3.05810004e-01,\n",
       "        -3.92244995e-01,  3.46105009e-01,  1.89404994e-01,\n",
       "         3.91080007e-02,  2.22635008e-02]])"
      ]
     },
     "execution_count": 34,
     "metadata": {},
     "output_type": "execute_result"
    }
   ],
   "source": [
    "def doc2vec(doc, word2vec=word_vec_mapping):\n",
    "    docvec=np.zeros(vec_dimensions, )  ## 先處使劃一條向量，如果某個類別裡面的字都沒有在字典裡，那麼會回傳這條向量\n",
    "    vec_count = 1\n",
    "    \n",
    "    if pd.notnull(doc):\n",
    "        terms = tokenize(doc)  ## 把類別tokenize成一個個的詞彙\n",
    "        for term in terms:\n",
    "            termvec = word_vec_mapping.get(term, None)  ## 得到詞向量\n",
    "            if termvec is not None:\n",
    "                docvec += np.array(termvec, dtype=np.float32)  ## 把詞向量家道類別向量中\n",
    "                vec_count += 1              \n",
    "    return (docvec/vec_count)  ##  記得加了幾條向量，就要處以相應的數字取平均\n",
    "\n",
    "all_categories_vecs = np.concatenate((pd.Series(all_categories).apply(doc2vec).values)).reshape(len(all_categories), -1)\n",
    "all_categories_vecs[:10]"
   ]
  },
  {
   "cell_type": "markdown",
   "metadata": {
    "deletable": true,
    "editable": true
   },
   "source": [
    "# Clustering"
   ]
  },
  {
   "cell_type": "code",
   "execution_count": 38,
   "metadata": {
    "collapsed": true,
    "deletable": true,
    "editable": true
   },
   "outputs": [],
   "source": [
    "from sklearn.cluster import KMeans\n",
    "from sklearn.cluster import AgglomerativeClustering\n",
    "from sklearn.cluster import DBSCAN\n",
    "from collections import Counter\n",
    "X = all_categories_vecs\n",
    "n_clusters= 15"
   ]
  },
  {
   "cell_type": "markdown",
   "metadata": {
    "deletable": true,
    "editable": true
   },
   "source": [
    "## K means"
   ]
  },
  {
   "cell_type": "code",
   "execution_count": 39,
   "metadata": {
    "collapsed": false,
    "deletable": true,
    "editable": true,
    "scrolled": true
   },
   "outputs": [
    {
     "data": {
      "text/plain": [
       "Counter({7: 56,\n",
       "         13: 62,\n",
       "         9: 58,\n",
       "         4: 66,\n",
       "         1: 50,\n",
       "         6: 82,\n",
       "         2: 64,\n",
       "         5: 47,\n",
       "         14: 58,\n",
       "         8: 77,\n",
       "         0: 54,\n",
       "         3: 81,\n",
       "         11: 44,\n",
       "         10: 55,\n",
       "         12: 56})"
      ]
     },
     "execution_count": 39,
     "metadata": {},
     "output_type": "execute_result"
    }
   ],
   "source": [
    "kmeans = KMeans(n_clusters=n_clusters, random_state=0)\n",
    "all_categories_labels_kmeans = kmeans.fit_predict(X)\n",
    "Counter(all_categories_labels_kmeans)"
   ]
  },
  {
   "cell_type": "markdown",
   "metadata": {
    "deletable": true,
    "editable": true
   },
   "source": [
    "## Hireachy(single link)"
   ]
  },
  {
   "cell_type": "code",
   "execution_count": 40,
   "metadata": {
    "collapsed": false,
    "deletable": true,
    "editable": true,
    "scrolled": true
   },
   "outputs": [
    {
     "data": {
      "text/plain": [
       "Counter({2: 74,\n",
       "         9: 46,\n",
       "         14: 43,\n",
       "         3: 83,\n",
       "         4: 68,\n",
       "         0: 95,\n",
       "         5: 109,\n",
       "         10: 65,\n",
       "         6: 46,\n",
       "         12: 33,\n",
       "         1: 93,\n",
       "         8: 48,\n",
       "         7: 49,\n",
       "         13: 29,\n",
       "         11: 29})"
      ]
     },
     "execution_count": 40,
     "metadata": {},
     "output_type": "execute_result"
    }
   ],
   "source": [
    "linkage = ['ward', 'average', 'complete']\n",
    "all_categories_labels_single = AgglomerativeClustering(linkage=linkage[0], n_clusters=n_clusters).fit_predict(X)\n",
    "Counter(all_categories_labels_single)"
   ]
  },
  {
   "cell_type": "markdown",
   "metadata": {
    "deletable": true,
    "editable": true
   },
   "source": [
    "## Hireachy(average link)"
   ]
  },
  {
   "cell_type": "code",
   "execution_count": 41,
   "metadata": {
    "collapsed": false,
    "deletable": true,
    "editable": true,
    "scrolled": false
   },
   "outputs": [
    {
     "data": {
      "text/plain": [
       "Counter({0: 837,\n",
       "         2: 48,\n",
       "         6: 2,\n",
       "         5: 2,\n",
       "         9: 1,\n",
       "         12: 1,\n",
       "         13: 1,\n",
       "         14: 2,\n",
       "         4: 7,\n",
       "         11: 1,\n",
       "         1: 4,\n",
       "         7: 1,\n",
       "         10: 1,\n",
       "         8: 1,\n",
       "         3: 1})"
      ]
     },
     "execution_count": 41,
     "metadata": {},
     "output_type": "execute_result"
    }
   ],
   "source": [
    "linkage = ['ward', 'average', 'complete']\n",
    "all_categories_labels_average = AgglomerativeClustering(linkage=linkage[1], n_clusters=n_clusters).fit_predict(X)\n",
    "Counter(all_categories_labels_average)"
   ]
  },
  {
   "cell_type": "markdown",
   "metadata": {
    "deletable": true,
    "editable": true
   },
   "source": [
    "## Hireachy(complete link)"
   ]
  },
  {
   "cell_type": "code",
   "execution_count": 42,
   "metadata": {
    "collapsed": false,
    "deletable": true,
    "editable": true
   },
   "outputs": [
    {
     "data": {
      "text/plain": [
       "Counter({4: 98,\n",
       "         6: 111,\n",
       "         8: 53,\n",
       "         1: 178,\n",
       "         12: 56,\n",
       "         2: 40,\n",
       "         9: 69,\n",
       "         10: 4,\n",
       "         5: 71,\n",
       "         7: 25,\n",
       "         0: 93,\n",
       "         3: 63,\n",
       "         11: 38,\n",
       "         14: 3,\n",
       "         13: 8})"
      ]
     },
     "execution_count": 42,
     "metadata": {},
     "output_type": "execute_result"
    }
   ],
   "source": [
    "linkage = ['ward', 'average', 'complete']\n",
    "all_categories_labels_complete = AgglomerativeClustering(linkage=linkage[2], n_clusters=n_clusters).fit_predict(X)\n",
    "Counter(all_categories_labels_complete)"
   ]
  },
  {
   "cell_type": "markdown",
   "metadata": {
    "deletable": true,
    "editable": true
   },
   "source": [
    "## DBSCAN"
   ]
  },
  {
   "cell_type": "code",
   "execution_count": 43,
   "metadata": {
    "collapsed": false,
    "deletable": true,
    "editable": true
   },
   "outputs": [
    {
     "data": {
      "text/plain": [
       "Counter({-1: 898, 0: 12})"
      ]
     },
     "execution_count": 43,
     "metadata": {},
     "output_type": "execute_result"
    }
   ],
   "source": [
    "all_categories_labels_dbscam = DBSCAN().fit_predict(X)\n",
    "Counter(all_categories_labels_dbscam)"
   ]
  },
  {
   "cell_type": "code",
   "execution_count": 44,
   "metadata": {
    "collapsed": false,
    "deletable": true,
    "editable": true
   },
   "outputs": [
    {
     "name": "stdout",
     "output_type": "stream",
     "text": [
      "['Teethers', 'Playards', 'Epilators', 'Sweatercoat', 'Rainwear', 'Needlecraft', 'Bedspreads & Coverlets', 'Dehumidifiers', 'Humidifiers', 'Paperweights', 'Papermaking', 'other']\n"
     ]
    }
   ],
   "source": [
    "df_cat = pd.DataFrame(all_categories_labels_dbscam, index=all_categories, columns=['label'])\n",
    "print(list(df_cat[df_cat['label'] == 0].index))"
   ]
  },
  {
   "cell_type": "markdown",
   "metadata": {
    "deletable": true,
    "editable": true
   },
   "source": [
    "# PCA"
   ]
  },
  {
   "cell_type": "code",
   "execution_count": 69,
   "metadata": {
    "collapsed": true,
    "deletable": true,
    "editable": true
   },
   "outputs": [],
   "source": [
    "import matplotlib.pyplot as plt\n",
    "from mpl_toolkits.mplot3d import Axes3D\n",
    "from sklearn.decomposition import PCA\n",
    "\n",
    "def draw_PCA(X, Y, title):\n",
    "#     plt.rcParams[\"figure.figsize\"] = (20,3)\n",
    "    fig = plt.figure(1, figsize=(8, 6))\n",
    "    fig.set_size_inches(40, 40)\n",
    "    ax = Axes3D(fig, elev=-150, azim=110)\n",
    "\n",
    "    X_reduced = PCA(n_components=3).fit_transform(X)\n",
    "    ax.scatter(X_reduced[:, 0], X_reduced[:, 1], X_reduced[:, 2], c=Y,\n",
    "               cmap=plt.cm.Set1, edgecolor='k', s=40)\n",
    "    ax.set_title(title)\n",
    "    ax.set_xlabel(\"1st eigenvector\")\n",
    "    ax.w_xaxis.set_ticklabels([])\n",
    "    ax.set_ylabel(\"2nd eigenvector\")\n",
    "    ax.w_yaxis.set_ticklabels([])\n",
    "    ax.set_zlabel(\"3rd eigenvector\")\n",
    "    ax.w_zaxis.set_ticklabels([])\n",
    "\n",
    "    plt.show()"
   ]
  },
  {
   "cell_type": "code",
   "execution_count": 70,
   "metadata": {
    "collapsed": false,
    "deletable": true,
    "editable": true
   },
   "outputs": [
    {
     "ename": "MemoryError",
     "evalue": "In RendererAgg: Out of memory",
     "output_type": "error",
     "traceback": [
      "\u001b[1;31m---------------------------------------------------------------------------\u001b[0m",
      "\u001b[1;31mMemoryError\u001b[0m                               Traceback (most recent call last)",
      "\u001b[1;32mc:\\users\\test\\appdata\\local\\programs\\python\\python36\\lib\\site-packages\\IPython\\core\\formatters.py\u001b[0m in \u001b[0;36m__call__\u001b[1;34m(self, obj)\u001b[0m\n\u001b[0;32m    339\u001b[0m                 \u001b[1;32mpass\u001b[0m\u001b[1;33m\u001b[0m\u001b[0m\n\u001b[0;32m    340\u001b[0m             \u001b[1;32melse\u001b[0m\u001b[1;33m:\u001b[0m\u001b[1;33m\u001b[0m\u001b[0m\n\u001b[1;32m--> 341\u001b[1;33m                 \u001b[1;32mreturn\u001b[0m \u001b[0mprinter\u001b[0m\u001b[1;33m(\u001b[0m\u001b[0mobj\u001b[0m\u001b[1;33m)\u001b[0m\u001b[1;33m\u001b[0m\u001b[0m\n\u001b[0m\u001b[0;32m    342\u001b[0m             \u001b[1;31m# Finally look for special method names\u001b[0m\u001b[1;33m\u001b[0m\u001b[1;33m\u001b[0m\u001b[0m\n\u001b[0;32m    343\u001b[0m             \u001b[0mmethod\u001b[0m \u001b[1;33m=\u001b[0m \u001b[0mget_real_method\u001b[0m\u001b[1;33m(\u001b[0m\u001b[0mobj\u001b[0m\u001b[1;33m,\u001b[0m \u001b[0mself\u001b[0m\u001b[1;33m.\u001b[0m\u001b[0mprint_method\u001b[0m\u001b[1;33m)\u001b[0m\u001b[1;33m\u001b[0m\u001b[0m\n",
      "\u001b[1;32mc:\\users\\test\\appdata\\local\\programs\\python\\python36\\lib\\site-packages\\IPython\\core\\pylabtools.py\u001b[0m in \u001b[0;36m<lambda>\u001b[1;34m(fig)\u001b[0m\n\u001b[0;32m    242\u001b[0m \u001b[1;33m\u001b[0m\u001b[0m\n\u001b[0;32m    243\u001b[0m     \u001b[1;32mif\u001b[0m \u001b[1;34m'png'\u001b[0m \u001b[1;32min\u001b[0m \u001b[0mformats\u001b[0m\u001b[1;33m:\u001b[0m\u001b[1;33m\u001b[0m\u001b[0m\n\u001b[1;32m--> 244\u001b[1;33m         \u001b[0mpng_formatter\u001b[0m\u001b[1;33m.\u001b[0m\u001b[0mfor_type\u001b[0m\u001b[1;33m(\u001b[0m\u001b[0mFigure\u001b[0m\u001b[1;33m,\u001b[0m \u001b[1;32mlambda\u001b[0m \u001b[0mfig\u001b[0m\u001b[1;33m:\u001b[0m \u001b[0mprint_figure\u001b[0m\u001b[1;33m(\u001b[0m\u001b[0mfig\u001b[0m\u001b[1;33m,\u001b[0m \u001b[1;34m'png'\u001b[0m\u001b[1;33m,\u001b[0m \u001b[1;33m**\u001b[0m\u001b[0mkwargs\u001b[0m\u001b[1;33m)\u001b[0m\u001b[1;33m)\u001b[0m\u001b[1;33m\u001b[0m\u001b[0m\n\u001b[0m\u001b[0;32m    245\u001b[0m     \u001b[1;32mif\u001b[0m \u001b[1;34m'retina'\u001b[0m \u001b[1;32min\u001b[0m \u001b[0mformats\u001b[0m \u001b[1;32mor\u001b[0m \u001b[1;34m'png2x'\u001b[0m \u001b[1;32min\u001b[0m \u001b[0mformats\u001b[0m\u001b[1;33m:\u001b[0m\u001b[1;33m\u001b[0m\u001b[0m\n\u001b[0;32m    246\u001b[0m         \u001b[0mpng_formatter\u001b[0m\u001b[1;33m.\u001b[0m\u001b[0mfor_type\u001b[0m\u001b[1;33m(\u001b[0m\u001b[0mFigure\u001b[0m\u001b[1;33m,\u001b[0m \u001b[1;32mlambda\u001b[0m \u001b[0mfig\u001b[0m\u001b[1;33m:\u001b[0m \u001b[0mretina_figure\u001b[0m\u001b[1;33m(\u001b[0m\u001b[0mfig\u001b[0m\u001b[1;33m,\u001b[0m \u001b[1;33m**\u001b[0m\u001b[0mkwargs\u001b[0m\u001b[1;33m)\u001b[0m\u001b[1;33m)\u001b[0m\u001b[1;33m\u001b[0m\u001b[0m\n",
      "\u001b[1;32mc:\\users\\test\\appdata\\local\\programs\\python\\python36\\lib\\site-packages\\IPython\\core\\pylabtools.py\u001b[0m in \u001b[0;36mprint_figure\u001b[1;34m(fig, fmt, bbox_inches, **kwargs)\u001b[0m\n\u001b[0;32m    126\u001b[0m \u001b[1;33m\u001b[0m\u001b[0m\n\u001b[0;32m    127\u001b[0m     \u001b[0mbytes_io\u001b[0m \u001b[1;33m=\u001b[0m \u001b[0mBytesIO\u001b[0m\u001b[1;33m(\u001b[0m\u001b[1;33m)\u001b[0m\u001b[1;33m\u001b[0m\u001b[0m\n\u001b[1;32m--> 128\u001b[1;33m     \u001b[0mfig\u001b[0m\u001b[1;33m.\u001b[0m\u001b[0mcanvas\u001b[0m\u001b[1;33m.\u001b[0m\u001b[0mprint_figure\u001b[0m\u001b[1;33m(\u001b[0m\u001b[0mbytes_io\u001b[0m\u001b[1;33m,\u001b[0m \u001b[1;33m**\u001b[0m\u001b[0mkw\u001b[0m\u001b[1;33m)\u001b[0m\u001b[1;33m\u001b[0m\u001b[0m\n\u001b[0m\u001b[0;32m    129\u001b[0m     \u001b[0mdata\u001b[0m \u001b[1;33m=\u001b[0m \u001b[0mbytes_io\u001b[0m\u001b[1;33m.\u001b[0m\u001b[0mgetvalue\u001b[0m\u001b[1;33m(\u001b[0m\u001b[1;33m)\u001b[0m\u001b[1;33m\u001b[0m\u001b[0m\n\u001b[0;32m    130\u001b[0m     \u001b[1;32mif\u001b[0m \u001b[0mfmt\u001b[0m \u001b[1;33m==\u001b[0m \u001b[1;34m'svg'\u001b[0m\u001b[1;33m:\u001b[0m\u001b[1;33m\u001b[0m\u001b[0m\n",
      "\u001b[1;32mc:\\users\\test\\appdata\\local\\programs\\python\\python36\\lib\\site-packages\\matplotlib\\backend_bases.py\u001b[0m in \u001b[0;36mprint_figure\u001b[1;34m(self, filename, dpi, facecolor, edgecolor, orientation, format, bbox_inches, **kwargs)\u001b[0m\n\u001b[0;32m   2073\u001b[0m                     \u001b[0morientation\u001b[0m\u001b[1;33m=\u001b[0m\u001b[0morientation\u001b[0m\u001b[1;33m,\u001b[0m\u001b[1;33m\u001b[0m\u001b[0m\n\u001b[0;32m   2074\u001b[0m                     \u001b[0mbbox_inches_restore\u001b[0m\u001b[1;33m=\u001b[0m\u001b[0m_bbox_inches_restore\u001b[0m\u001b[1;33m,\u001b[0m\u001b[1;33m\u001b[0m\u001b[0m\n\u001b[1;32m-> 2075\u001b[1;33m                     **kwargs)\n\u001b[0m\u001b[0;32m   2076\u001b[0m             \u001b[1;32mfinally\u001b[0m\u001b[1;33m:\u001b[0m\u001b[1;33m\u001b[0m\u001b[0m\n\u001b[0;32m   2077\u001b[0m                 \u001b[1;32mif\u001b[0m \u001b[0mbbox_inches\u001b[0m \u001b[1;32mand\u001b[0m \u001b[0mrestore_bbox\u001b[0m\u001b[1;33m:\u001b[0m\u001b[1;33m\u001b[0m\u001b[0m\n",
      "\u001b[1;32mc:\\users\\test\\appdata\\local\\programs\\python\\python36\\lib\\site-packages\\matplotlib\\backends\\backend_agg.py\u001b[0m in \u001b[0;36mprint_png\u001b[1;34m(self, filename_or_obj, *args, **kwargs)\u001b[0m\n\u001b[0;32m    508\u001b[0m \u001b[1;33m\u001b[0m\u001b[0m\n\u001b[0;32m    509\u001b[0m         \"\"\"\n\u001b[1;32m--> 510\u001b[1;33m         \u001b[0mFigureCanvasAgg\u001b[0m\u001b[1;33m.\u001b[0m\u001b[0mdraw\u001b[0m\u001b[1;33m(\u001b[0m\u001b[0mself\u001b[0m\u001b[1;33m)\u001b[0m\u001b[1;33m\u001b[0m\u001b[0m\n\u001b[0m\u001b[0;32m    511\u001b[0m         \u001b[0mrenderer\u001b[0m \u001b[1;33m=\u001b[0m \u001b[0mself\u001b[0m\u001b[1;33m.\u001b[0m\u001b[0mget_renderer\u001b[0m\u001b[1;33m(\u001b[0m\u001b[1;33m)\u001b[0m\u001b[1;33m\u001b[0m\u001b[0m\n\u001b[0;32m    512\u001b[0m \u001b[1;33m\u001b[0m\u001b[0m\n",
      "\u001b[1;32mc:\\users\\test\\appdata\\local\\programs\\python\\python36\\lib\\site-packages\\matplotlib\\backends\\backend_agg.py\u001b[0m in \u001b[0;36mdraw\u001b[1;34m(self)\u001b[0m\n\u001b[0;32m    394\u001b[0m         \u001b[0mDraw\u001b[0m \u001b[0mthe\u001b[0m \u001b[0mfigure\u001b[0m \u001b[0musing\u001b[0m \u001b[0mthe\u001b[0m \u001b[0mrenderer\u001b[0m\u001b[1;33m.\u001b[0m\u001b[1;33m\u001b[0m\u001b[0m\n\u001b[0;32m    395\u001b[0m         \"\"\"\n\u001b[1;32m--> 396\u001b[1;33m         \u001b[0mself\u001b[0m\u001b[1;33m.\u001b[0m\u001b[0mrenderer\u001b[0m \u001b[1;33m=\u001b[0m \u001b[0mself\u001b[0m\u001b[1;33m.\u001b[0m\u001b[0mget_renderer\u001b[0m\u001b[1;33m(\u001b[0m\u001b[0mcleared\u001b[0m\u001b[1;33m=\u001b[0m\u001b[1;32mTrue\u001b[0m\u001b[1;33m)\u001b[0m\u001b[1;33m\u001b[0m\u001b[0m\n\u001b[0m\u001b[0;32m    397\u001b[0m         \u001b[1;31m# acquire a lock on the shared font cache\u001b[0m\u001b[1;33m\u001b[0m\u001b[1;33m\u001b[0m\u001b[0m\n\u001b[0;32m    398\u001b[0m         \u001b[0mRendererAgg\u001b[0m\u001b[1;33m.\u001b[0m\u001b[0mlock\u001b[0m\u001b[1;33m.\u001b[0m\u001b[0macquire\u001b[0m\u001b[1;33m(\u001b[0m\u001b[1;33m)\u001b[0m\u001b[1;33m\u001b[0m\u001b[0m\n",
      "\u001b[1;32mc:\\users\\test\\appdata\\local\\programs\\python\\python36\\lib\\site-packages\\matplotlib\\backends\\backend_agg.py\u001b[0m in \u001b[0;36mget_renderer\u001b[1;34m(self, cleared)\u001b[0m\n\u001b[0;32m    415\u001b[0m \u001b[1;33m\u001b[0m\u001b[0m\n\u001b[0;32m    416\u001b[0m         \u001b[1;32mif\u001b[0m \u001b[0mneed_new_renderer\u001b[0m\u001b[1;33m:\u001b[0m\u001b[1;33m\u001b[0m\u001b[0m\n\u001b[1;32m--> 417\u001b[1;33m             \u001b[0mself\u001b[0m\u001b[1;33m.\u001b[0m\u001b[0mrenderer\u001b[0m \u001b[1;33m=\u001b[0m \u001b[0mRendererAgg\u001b[0m\u001b[1;33m(\u001b[0m\u001b[0mw\u001b[0m\u001b[1;33m,\u001b[0m \u001b[0mh\u001b[0m\u001b[1;33m,\u001b[0m \u001b[0mself\u001b[0m\u001b[1;33m.\u001b[0m\u001b[0mfigure\u001b[0m\u001b[1;33m.\u001b[0m\u001b[0mdpi\u001b[0m\u001b[1;33m)\u001b[0m\u001b[1;33m\u001b[0m\u001b[0m\n\u001b[0m\u001b[0;32m    418\u001b[0m             \u001b[0mself\u001b[0m\u001b[1;33m.\u001b[0m\u001b[0m_lastKey\u001b[0m \u001b[1;33m=\u001b[0m \u001b[0mkey\u001b[0m\u001b[1;33m\u001b[0m\u001b[0m\n\u001b[0;32m    419\u001b[0m         \u001b[1;32melif\u001b[0m \u001b[0mcleared\u001b[0m\u001b[1;33m:\u001b[0m\u001b[1;33m\u001b[0m\u001b[0m\n",
      "\u001b[1;32mc:\\users\\test\\appdata\\local\\programs\\python\\python36\\lib\\site-packages\\matplotlib\\backends\\backend_agg.py\u001b[0m in \u001b[0;36m__init__\u001b[1;34m(self, width, height, dpi)\u001b[0m\n\u001b[0;32m     85\u001b[0m         \u001b[0mself\u001b[0m\u001b[1;33m.\u001b[0m\u001b[0mwidth\u001b[0m \u001b[1;33m=\u001b[0m \u001b[0mwidth\u001b[0m\u001b[1;33m\u001b[0m\u001b[0m\n\u001b[0;32m     86\u001b[0m         \u001b[0mself\u001b[0m\u001b[1;33m.\u001b[0m\u001b[0mheight\u001b[0m \u001b[1;33m=\u001b[0m \u001b[0mheight\u001b[0m\u001b[1;33m\u001b[0m\u001b[0m\n\u001b[1;32m---> 87\u001b[1;33m         \u001b[0mself\u001b[0m\u001b[1;33m.\u001b[0m\u001b[0m_renderer\u001b[0m \u001b[1;33m=\u001b[0m \u001b[0m_RendererAgg\u001b[0m\u001b[1;33m(\u001b[0m\u001b[0mint\u001b[0m\u001b[1;33m(\u001b[0m\u001b[0mwidth\u001b[0m\u001b[1;33m)\u001b[0m\u001b[1;33m,\u001b[0m \u001b[0mint\u001b[0m\u001b[1;33m(\u001b[0m\u001b[0mheight\u001b[0m\u001b[1;33m)\u001b[0m\u001b[1;33m,\u001b[0m \u001b[0mdpi\u001b[0m\u001b[1;33m)\u001b[0m\u001b[1;33m\u001b[0m\u001b[0m\n\u001b[0m\u001b[0;32m     88\u001b[0m         \u001b[0mself\u001b[0m\u001b[1;33m.\u001b[0m\u001b[0m_filter_renderers\u001b[0m \u001b[1;33m=\u001b[0m \u001b[1;33m[\u001b[0m\u001b[1;33m]\u001b[0m\u001b[1;33m\u001b[0m\u001b[0m\n\u001b[0;32m     89\u001b[0m \u001b[1;33m\u001b[0m\u001b[0m\n",
      "\u001b[1;31mMemoryError\u001b[0m: In RendererAgg: Out of memory"
     ]
    },
    {
     "data": {
      "text/plain": [
       "<Figure size 2880x2880 with 1 Axes>"
      ]
     },
     "metadata": {
      "needs_background": "light"
     },
     "output_type": "display_data"
    }
   ],
   "source": [
    "draw_PCA(X, all_categories_labels_kmeans, 'kmeans')\n",
    "draw_PCA(X, all_categories_labels_single, 'single link')\n",
    "draw_PCA(X, all_categories_labels_average, 'average link')\n",
    "draw_PCA(X, all_categories_labels_complete, 'complete link')\n",
    "draw_PCA(X, all_categories_labels_dbscam, 'dbscan')"
   ]
  },
  {
   "cell_type": "markdown",
   "metadata": {
    "deletable": true,
    "editable": true
   },
   "source": [
    "# Evaluation"
   ]
  },
  {
   "cell_type": "code",
   "execution_count": 122,
   "metadata": {
    "collapsed": false,
    "deletable": true,
    "editable": true,
    "scrolled": true
   },
   "outputs": [
    {
     "name": "stdout",
     "output_type": "stream",
     "text": [
      "cluster 0: \n",
      "['Sticker', 'Laptop', 'Button', 'Patch', 'Full Zip', 'Pin', 'Magic', 'Print', 'Mug', 'Paper', 'Tablet', 'Camera', 'Headphones', 'Block', 'Pad', 'Case', 'Gadget', 'Poster', 'Tape', 'Box', 'Clock', 'Telephone', 'iPad', 'Mini', 'Screen Protectors', 'Blu-Ray', 'Notebook', 'Pinback Button', 'Tag', 'Standard']\n",
      "=============================================\n",
      "=============================================\n",
      "cluster 1: \n",
      "['Track & Sweat Suits', 'Plate', 'Full-Length', 'Straight, Pencil', 'Feet', 'V-Neck', 'Ring', 'Golf Balls', 'Tops & T-Shirts', 'Three Button', 'Tank', 'Slim, Skinny', 'Change Purse', 'Button-Front', 'Scoop Neck', 'Training Pants', 'Loafers & Slip-Ons', 'Top & T-shirts', 'T-Shirts', 'Track Jacket', 'Leg Warmers', 'Clutch', 'Two Button', 'Cuff Links', 'Cross Stitch', 'Knit Top', 'Button Down Shirt', 'Rings', 'Boot Cut', 'Full Skirt', 'Belt', 'Above Knee, Mini', 'Backpack Style', 'Straight Leg', 'Track & Sweat Pants', 'Dress - Flat Front', 'Mid-Calf', 'Wrap', 'Wide Leg', 'Board Shorts', 'Classic, Straight Leg', 'Knee-Length', 'Shoulder Bag', 'Hip Bag', 'T-shirts', 'G-Strings & Thongs', 'Tires & Wheels', 'Golf Shoes']\n",
      "=============================================\n",
      "=============================================\n",
      "cluster 2: \n",
      "['Crewneck', 'Turtleneck', 'Tiered', 'Hooded', 'Tuxedo', 'Joggers', 'Trench', 'Overalls', 'Collared', 'Puffer', 'Relaxed', 'Peasant', 'Patriotic', 'Asymmetrical', 'Peacoat', 'Lithographs, Etchings & Woodcuts', 'Wool', 'Teacup', 'Turtleneck, Mock', 'Hawaiian', 'Tunic', 'Shrug', 'Necktie', 'Windbreaker', 'Tapestries', 'Pleated', 'Linen', 'Outerwear', 'Swimwear', 'Linens', 'Raincoat', 'Oxfords', 'Henley', 'Corduroys', 'Halter', 'Vests']\n",
      "=============================================\n",
      "=============================================\n",
      "cluster 3: \n",
      "['Wallet', 'Luggage', 'Plush', 'Toddler', 'Pouch', 'Lightweight', 'Grooming', 'Toiletry Kits', 'Pumps', 'Nursery', 'Nursery Bedding', 'Wallets', 'Wristlet', 'Lanyard', 'Purse', 'Playard Bedding', 'Maternity', 'Keychain', 'Bedding', 'Satchel', 'Eyewear', 'Handbag', 'Footwear', 'Leash', 'Parka', 'Apron', 'Frames', 'Tote', 'Buckle', 'Hobo', 'Doll', 'Corset', 'Tumbler', 'Messenger & Crossbody', 'Stationery', 'Watches', 'Novelty', 'Backpack', 'Carpenter, Utility', 'Belts']\n",
      "=============================================\n",
      "=============================================\n",
      "cluster 4: \n",
      "['Photo Albums & Frames', 'Historical, Military', 'Art Doll', 'Arts & Crafts', 'Arts & Photography', 'Presentation', 'Art', 'Film Photography', 'Photographs', 'Graphic Design', 'Action, Adventure', 'Artwork', 'Guest Books', 'Drawings', 'Illustration', 'Animation', 'Photography', 'Painting', 'Book', 'Beauty']\n",
      "=============================================\n",
      "=============================================\n",
      "cluster 5: \n",
      "['Quilts', 'Diapering', 'Felted', 'Yarn', 'Baguette', 'Paintings', 'Crafting', 'Teapot', 'Bakeware', 'Vases', 'Knitting', 'Geekery', 'Glassware', 'Bouquets', 'Ceramic', 'Patchwork', 'Carving', 'Cookware', 'Ceramics and Pottery', 'Vase', 'Sculptures', 'Cabochon', 'Paper Ephemera', 'Tiles', 'Ornaments', 'Origami', 'Scale Dollhouse Miniature', 'Figurine', 'Scrapbooking', 'Flatware', 'Sewing', 'Planter', 'Figurines', 'Tray', 'Bookmark', 'Dinnerware Set', 'Postcard', 'Personalized', 'Aceo', 'Embroidery', 'Printmaking', 'Garment Steamers', 'Casserole', 'Primitive', 'Seasonal Décor', 'Beading', 'Housewares', 'Nursery Décor', 'Porcelain', 'Needlepoint', 'Coasters', 'Planters', 'Collectibles', 'Handkerchief']\n",
      "=============================================\n",
      "=============================================\n",
      "cluster 6: \n",
      "[\"Men's Accessories\", 'Diaper Bags', 'Paper Goods', 'Jewelry Boxes & Organizers', 'Doll Clothing', 'Cosmetic Bags', \"Women's Accessories\", 'Travel Bathing Kits', 'Trash Bags', 'Bicycle Child Seats & Trailers', 'Bags & Cases', 'Daily & Travel items', 'Shipping Supplies', 'Electronics for Kids', 'Diaper Bag', 'Basic Supplies', 'Gift Wrap', 'Novelty & Gag Toys', 'Other Accessories', 'Beach Accessories', 'Golf Bags', \"Women's Handbags\", 'Clothing', \"Kids' Bedding\", 'Doll Clothes', 'Bathing Accessories', 'Gift Sets', 'Bags and Purses', 'Car Seats & Accessories', 'Wine Accessories', 'Clothing & Closet Storage']\n",
      "=============================================\n",
      "=============================================\n",
      "cluster 7: \n",
      "['Favors', 'Teethers', 'Magnet', 'Playards', 'Humor', 'Epilators', 'Cargo', 'Advertisement', 'Sweatercoat', 'Rainwear', 'Needlecraft', 'Snowsuits & Bibs', 'Bedspreads & Coverlets', 'Dehumidifiers', 'Nasal Aspirators', 'Clocks', 'Mirrors', 'Maxi', 'Carpenter', 'Tank, Cami', 'Humidifiers', 'Collages', 'Videogame', 'Sweeping', 'Flare', 'Souvenir', 'Asymmetrical Hem', 'Fixture', 'Formal', 'Ties', 'Cape', 'Paperweights', 'Bomber', 'Poncho', 'Papermaking', 'other', 'Gates & Doorways']\n",
      "=============================================\n",
      "=============================================\n",
      "cluster 8: \n",
      "['Fragrance', 'Pot Holder', 'Lighting', 'Water Coolers & Filters', 'Candle Holder', 'Shampoo Plus Conditioner', 'Shampoo', 'Air Purifiers', 'Stained Glass', 'Sun Protection', 'Glass', 'Bottles', 'Air Fresheners', 'Salt and Pepper Shakers', 'Candles', 'Light', 'Air Conditioners', 'Window Treatments', 'Shampoo & Conditioner Sets', 'Freezers & Ice Makers']\n",
      "=============================================\n",
      "=============================================\n",
      "cluster 9: \n",
      "['Vest', 'Gloves', 'Sweatshirt, Pullover', 'Jerseys', 'Sweater', 'Blazers & Sport Coats', 'Jackets', 'Apparel', 'Jacket', 'Suits & Blazers', 'Polo', 'Cleats', 'Coats & Jackets', 'Boots', 'Sweats & Hoodies', 'Cardigan', 'Tracksuits & Sweats', 'Tshirt', 'Thermal Underwear', 'Shirt', 'Blazer', 'Socks', 'Hoodie', 'Capri, Cropped', 'Hats', 'Sunglasses', 'Sweaters', 'Polo Shirt', 'Khakis, Chinos', 'Hat', 'Vest, Sleeveless', 'Slippers', 'Fleece Jacket']\n",
      "=============================================\n",
      "=============================================\n",
      "cluster 10: \n",
      "['Storage & Organization', 'Medical Supplies & Equipment', 'Equipment', 'Storage & Containers', 'Garage Storage & Organization', 'Supplies', 'Car Subwoofers', 'Food Service Equipment & Supplies', 'Home Surveillance', 'Kitchen Storage & Organization', 'Replacement Parts', 'Space Heaters', 'Travel Systems', 'Outdoor Safety', 'Tools & Equipment', 'Office supplies', 'Small Appliances', 'Electrical Safety', 'Bathroom Storage & Organization', 'Storage Cabinets', 'Car Speakers & Systems', 'GPS Units & Equipment', 'Automotive', 'Safety', 'Car Stereos & Components', 'Cleaning Supplies', 'Grooming & Healthcare Kits', 'Laundry Storage & Organization', 'Household Cleaners', 'Electronics', 'Storage Solutions', 'Engineering & Transportation', 'Components & Parts', 'Home Speakers & Subwoofers', 'Household Supplies', 'Storage', 'Trash & Recycling', 'Car Security & Convenience', 'Replacement Parts & Tools', 'Drives, Storage & Media', 'Building Toys', 'Highchairs & Booster Seats']\n",
      "=============================================\n",
      "=============================================\n",
      "cluster 11: \n",
      "['Knitting Supplies', 'Baskets & Bins', 'Maternity Pillows', 'Boxes', 'Candles & Holders', 'Blankets & Throws', 'Dishes', 'Washcloths & Towels', 'Paper Towels', 'Mattress Pads', 'Bath Rugs', 'Pillows & Stools', 'Duvet Covers & Sets', 'Pillow', 'Pillows', 'Baskets', 'Comforters & Sets', 'Backpacks, Bags & Briefcases', 'Scarves & Wraps', 'Bowls', 'Decorative Pillows, Inserts & Covers', 'Bathing Tubs & Seats', 'Area Rugs & Pads', 'Cabinet Locks & Straps', 'Kitchen Knives & Cutlery Accessories', 'Sheets & Pillowcases', 'Decorative Pillows', 'Towels', 'Racks, Shelves & Drawers', 'Blanket', 'Breastfeeding Pillows & Stools', 'Inflatable Beds']\n",
      "=============================================\n",
      "=============================================\n",
      "cluster 12: \n",
      "['Changing Kits', 'Trading Cards', 'Safety Caps', 'Signs', 'Magazines', 'Patterns', 'Electronic', 'Styling Tools', 'Strategy Guides', 'eBook Access', 'Draft Stoppers', 'Prenatal Monitoring Devices', 'Lifestyle & Cultures', 'Networking & Connectivity', 'Action Figures & Statues', 'Cell Phones & Smartphones', 'Computers & Tablets', 'Gadgets', 'Price Guides & Publications', 'Activity Centers & Entertainers', 'Cards', 'Cases, Covers & Skins', 'Sets & Kits', 'Sets', 'Organization', 'Consoles']\n",
      "=============================================\n",
      "=============================================\n",
      "cluster 13: \n",
      "['Motorcycle', 'Golf', 'Golf Apparel', 'Hiking & Camping', 'Bike & Skate', 'Coaster', 'Potty Training', 'Outdoor', 'Yoga & Pilates', 'Gear', 'Motorcycle & Powersports', 'Swim Trunks', 'Outdoors', 'Fishing', 'Skateboard', 'Indoor', 'Costume', 'Ballet', 'Snowboard', 'Board, Surf']\n",
      "=============================================\n",
      "=============================================\n",
      "cluster 14: \n",
      "['Skirt', 'Dresses', 'Leggings', 'Jeans', 'Fashion Sneakers', 'Dress Suit', 'Denim', 'Sandals', 'Jean Jacket', 'Capris, Cropped', 'Panties', 'Pants', 'Dress Shorts', 'Suits', 'Bras', 'Casual Shorts', 'Shirts & Tops', 'Dress Shirts', 'Tops', 'Swim Briefs', 'Pants, Tights, Leggings', 'Pant Suit', 'Skirts, Skorts & Dresses', 'Dress - Pleat', 'Dress', 'Dress Pants', 'Underwear', 'Skirt Suit', 'Tops & Blouses', 'Skirts', 'Casual Pants', 'Shoes', 'Bottoms', 'Shorts', 'Flats', 'Lingerie', 'Baggy, Loose']\n",
      "=============================================\n",
      "=============================================\n",
      "cluster 15: \n",
      "['Charm', 'Beads', 'Bracelet', 'Handmade', 'Blouse', 'Vintage & Collectibles', 'Bead', 'Double Breasted', 'Frame', 'Earrings', 'Scarf', 'Leather', 'Trim', 'Collar', 'Chain', 'Jewelry', 'Brooch', 'Antique', 'Necklace', 'Necklaces', 'Crochet', 'Cowl Neck', 'Fabric', 'Pendant', 'Vintage', 'Bracelets', 'Pattern', 'Fabric Postcard', 'Shawl']\n",
      "=============================================\n",
      "=============================================\n",
      "cluster 16: \n",
      "['Athletic Training', 'Track & Field', 'Boxing & MMA', 'Lacrosse', 'Hockey', 'Badminton', 'Bowl', 'Varsity', 'Team Sports', 'Athletic', 'Volleyball', 'MLB', 'NBA', 'Games', 'Game', 'Basket', 'Football', 'Bowling', 'Pitcher', 'Tennis & Racquets', 'Cup', 'Outdoor Games', 'Baseball & Softball', 'Baseball', 'Sports Bras', 'Sports & Outdoor Play', 'Sport', 'Athletic Apparel', 'Sports & Outdoors', 'Sports', \"Women's Golf Clubs\", 'Soccer', 'NHL', 'NFL', 'NCAA', 'Basketball', \"Men's Golf Clubs\", 'Polo, Rugby']\n",
      "=============================================\n",
      "=============================================\n",
      "cluster 17: \n",
      "['Car Electronics & Accessories', 'GPS Accessories & Mounts', 'Flashes & Flash Accessories', 'RV Parts & Accessories', 'Lights & Lighting Accessories', 'Accessories', 'Cell Phone Accessories', 'Portable Audio & Accessories', 'Cell Phones & Accessories', 'Interior Accessories', 'Cameras & Photography', 'Accessory', 'Automotive Enthusiast Merchandise', 'Lamps& Accessories', 'Camera & Photo Accessories', 'Exterior Accessories', 'Nail Tools', 'Styling Products', 'Dolls & Accessories', 'Custom', 'Fitness accessories', 'Instrument Accessories', 'Posters & Prints', 'Vinyl', 'Digital Cameras', 'Ink & Toner', 'Tools & Accessories', 'Performance Parts & Accessories']\n",
      "=============================================\n",
      "=============================================\n",
      "cluster 18: \n",
      "['Small Animal', 'Pets', 'Animals', 'Animal', 'Afghan', 'Cage', 'Pet Lover', 'Toys', 'Toy', 'Walkers', 'Children', 'Baby & Toddler Toys', 'Stuffed Animals & Plush', 'Serving', 'Teething Relief', 'Military', 'Feeding', 'Pet Supplies', 'Dogs']\n",
      "=============================================\n",
      "=============================================\n",
      "cluster 19: \n",
      "['Dusting', 'Waxing', 'Oils & Fluids', 'Garbage Disposals', 'Sponges', 'Mules & Clogs', 'Brushes & Applicators', 'Brushes', 'Conditioners', 'Mopping', 'Diaper Pails & Refills', 'Wipes & Holders', 'Breastfeeding', 'Soaps & Cleansers', 'Cleansers', 'Shampoos', 'Cloth Diapers', 'Powders & Lotions', 'Irons & Ironing Boards', 'Disposable Diapers', 'Stamps', 'Swings, Jumpers & Bouncers', 'Washers & Dryers', 'Diaper Stackers & Caddies']\n",
      "=============================================\n",
      "=============================================\n",
      "cluster 20: \n",
      "['Monitors', 'Thermometers', 'Amplifiers & Effects', 'Toothbrushes', 'Camcorders', 'Tweezers', 'Tripods & Supports', 'Tricycles, Scooters & Wagons', 'Dolls and Miniatures', 'Slipcovers', 'Backpacks & Carriers', 'Televisions', 'Prams', 'Cables & Adapters', 'Harnesses & Leashes', 'Fireplaces & Accessories', 'Batteries', 'Binoculars & Telescopes', 'Magnets', 'Humidifiers & Vaporizers', 'Microphones & Accessories', 'Microwaves', 'Lenses & Filters', 'Headsets', 'Strollers', 'Refrigerators', 'Laptops & Netbooks', 'Keyboards', 'Potties & Seats', 'Pacifiers & Accessories', 'Chargers & Cradles', 'Printers, Scanners & Supplies']\n",
      "=============================================\n",
      "=============================================\n",
      "cluster 21: \n",
      "['Coffee & Tea Accessories', 'Shams, Bed Skirts & Bed Frame Draperies', 'Water Sports', 'Bubble Bath', 'Bath Linen Sets', 'Bath', 'Cream and Sugar Set', 'Bottle-Feeding', 'Home Fragrance', 'Sun', 'Home Brewing & Wine Making', \"Kids' Bath\", 'Food', 'Bath & Body', 'Bed Pillows', 'Candles & Home Scents', 'Bed', 'Non-Slip Bath Mats', 'Cake Toppers', 'Bed in a Bag', 'Wine, Beer & Beverage Coolers', 'Bubble']\n",
      "=============================================\n",
      "=============================================\n",
      "cluster 22: \n",
      "['Kitchen', 'Home Decor', 'Kitchen Safety', 'Home Décor', 'Home Décor Accents', 'Dining & Entertaining', 'Cleaning', \"Kids' Furniture\", 'Bathroom Safety', 'Other Furniture', 'Car Seats', 'Home Office Furniture', 'Holiday Décor Storage', 'House', 'Kitchen & Table Linens', \"Kids' Room Décor\", 'Bedroom Furniture', 'Home Bar Furniture', 'Home Appliances', 'Seat Covers', 'Wall Hanging', 'Kitchen Appliances', 'Vacuums & Floor Care', 'Table', 'Kitchen Utensils & Gadgets', 'Furniture', 'Bathroom', 'Office', \"Kids' Furniture, Décor & Storage\", 'Car', 'Kitchen & Dining', 'Living Room Furniture', 'Home Entertainment Furniture', 'Nursery Furniture', 'Chair', 'Bathroom Furniture Sets', 'Travel Beds', 'Bathroom Accessories', 'Wall Decor', 'Shopping Cart Covers']\n",
      "=============================================\n",
      "=============================================\n",
      "cluster 23: \n",
      "['Girls', 'Face', 'Kids', 'Dress Up & Pretend Play', 'Human Figure Doll', 'Sleep Positioners', 'Watch', 'Boys', '50 To 75 Years', 'Desktops & All-In-Ones', 'A-Line', 'Women', \"New Year's\", 'Home', 'Boys 2T-5T', \"Kids' Home Store\", 'Day of the Dead', \"St Patrick's\", 'Other', '75 To 100 Years', 'Baby Gyms & Playmats', 'Men', 'One-Piece', 'One Button', 'Birthday', 'Baby & Child Care', 'Fans', 'Health & Baby Care', 'Boys (4+)', 'All Other Sports', 'Child Friendly', 'Two-Piece', 'Car Care', 'Girls 0-24 Mos', 'Girls 2T-5T', 'Girls (4+)', 'Boys 0-24 Mos', '100 Years or Older', 'How to', 'One-Pieces', 'Baby', 'Baby Seats', 'Something Blue', 'Boyfriend']\n",
      "=============================================\n",
      "=============================================\n",
      "cluster 24: \n",
      "['Books', 'Puzzles', 'Christian Books & Bibles', 'Writing', 'Nonfiction', 'Instructional', 'Cookbook', 'Puzzle', 'Biographies & Memoirs', 'Religion', 'Biography', 'Scifi', 'Hobbies', 'Religious', 'Sci-Fi, Fantasy', 'Journal', 'Poetry', 'Religion & Spirituality', 'Illustrated', 'Woodworking', 'Educational', 'Literature & Fiction', 'Fantasy', 'Horror', 'VHS', 'Fiction', 'Reference', 'eBook Readers', 'Books and Zines', 'Comic', 'Comics']\n",
      "=============================================\n",
      "=============================================\n",
      "cluster 25: \n",
      "['TV, Audio & Surveillance', 'Studio Recording Equipment', 'Fan Shop', 'DVD & Blu-ray Players', 'Radio', 'Car Video', 'Music', 'Video Game', 'Dance', 'Toy Remote Control & Play Vehicles', 'DVD', 'Video Gaming Merchandise', 'Live Sound & Stage', 'Video Games & Consoles', 'Cover-Ups', 'Media', 'Car Audio, Video & GPS', 'Lighting & Studio', 'Television', 'DJ, Electronic Music & Karaoke', 'Home Audio', 'CD']\n",
      "=============================================\n",
      "=============================================\n",
      "cluster 26: \n",
      "['Exercise', 'Education & Teaching', 'Health', 'Business & Money', 'Work & Safety', 'Finding', 'Learning & Education', 'Action Figure', 'School Supplies', 'Sports Nutrition', 'Politics & Social Sciences', 'Personal Care', 'Family Planning Tests', \"Children's Books\", 'Science', 'Fitness technology', 'Medical Books', 'Science & Math', 'History', 'Health Care', 'Strength training', 'Mixed Media', 'Others']\n",
      "=============================================\n",
      "=============================================\n",
      "cluster 27: \n",
      "['Eyes', 'Hair Relaxers', 'Nail Care', 'Pregnancy & Maternity', 'Scrubs & Body Treatments', 'Bathing & Skin Care', 'Makeup Palettes', 'Changing Pads & Covers', 'Hair Loss Products', 'Lips', 'Paint, Body & Trim', 'Makeup Brushes & Tools', 'Hair Color', 'Makeup Sets', 'Hair Perms & Texturizers', 'Nails', 'Body', 'Makeup Remover', 'Hair Coloring Tools', 'Hair & Scalp Treatments', 'Hands & Nails', 'Hair Care', 'Hair', 'Makeup', 'Hair Accessories', 'Hair Styling Tools', 'Skin Care']\n",
      "=============================================\n",
      "=============================================\n",
      "cluster 28: \n",
      "['Calendars', 'Weddings', 'Totes & Shoppers', 'Thanksgiving', 'Halloween', 'Holidays', 'Decorating', 'Calendar', 'Christmas', 'Valentine', 'Invitations', 'Easter', 'Stationery & Party Supplies', 'Decorations', 'Flight', 'Party Supplies']\n",
      "=============================================\n",
      "=============================================\n",
      "cluster 29: \n",
      "['Bass Guitars', 'Brass Instruments', 'Stringed Instruments', 'Guitars', 'Band & Orchestra', 'Instrument', 'Musical instruments', 'Wind & Woodwind Instruments', 'Drums & Percussion']\n",
      "=============================================\n",
      "=============================================\n"
     ]
    }
   ],
   "source": [
    "df_cat = pd.DataFrame(all_categories_labels_kmeans, index=all_categories, columns=['label'])\n",
    "for i in range(len(set(all_categories_labels_kmeans))):\n",
    "    cats = list(df_cat[df_cat['label'] == i].index)    \n",
    "    print(\"cluster \" + str(i) + \": \")\n",
    "    print(list(cats))\n",
    "    print(\"=============================================\")\n",
    "    print(\"=============================================\")\n"
   ]
  },
  {
   "cell_type": "code",
   "execution_count": 123,
   "metadata": {
    "collapsed": false,
    "deletable": true,
    "editable": true
   },
   "outputs": [
    {
     "name": "stdout",
     "output_type": "stream",
     "text": [
      "cluster 0: \n",
      "['Batteries', 'Bicycle Child Seats & Trailers', 'Cables & Adapters', 'Camera', 'Camera & Photo Accessories', 'Cameras & Photography', 'Car', 'Car Care', 'Car Electronics & Accessories', 'Car Seats', 'Car Seats & Accessories', 'Car Security & Convenience', 'Car Speakers & Systems', 'Car Stereos & Components', 'Car Subwoofers', 'Cell Phone Accessories', 'Cell Phones & Accessories', 'Cell Phones & Smartphones', 'Computers & Tablets', 'Digital Cameras', 'Flashes & Flash Accessories', 'Highchairs & Booster Seats', 'Home Speakers & Subwoofers', 'Ink & Toner', 'Laptop', 'Laptops & Netbooks', 'Lenses & Filters', 'Mini', 'Notebook', 'Pad', 'Performance Parts & Accessories', 'Portable Audio & Accessories', 'RV Parts & Accessories', 'Replacement Parts', 'Replacement Parts & Tools', 'Tablet', 'iPad']\n",
      "=============================================\n",
      "=============================================\n",
      "cluster 1: \n",
      "['Activity Centers & Entertainers', 'Automotive', 'Automotive Enthusiast Merchandise', 'Basic Supplies', 'Components & Parts', 'Educational', 'Electrical Safety', 'Electronic', 'Electronics', 'Engineering & Transportation', 'Equipment', 'Food Service Equipment & Supplies', 'GPS Units & Equipment', 'Gadget', 'Gadgets', 'Household Supplies', 'Instrument Accessories', 'Lifestyle & Cultures', 'Medical Supplies & Equipment', 'Networking & Connectivity', 'Office supplies', 'Organization', 'Outdoor Safety', 'Party Supplies', 'Pet Supplies', 'Prenatal Monitoring Devices', 'Safety', 'Safety Caps', 'School Supplies', 'Shipping Supplies', 'Stationery & Party Supplies', 'Storage Solutions', 'Supplies', 'Tools & Equipment', 'Travel Systems']\n",
      "=============================================\n",
      "=============================================\n",
      "cluster 2: \n",
      "['Athletic', 'Athletic Apparel', 'Athletic Training', 'Badminton', 'Baseball', 'Baseball & Softball', 'Basket', 'Basketball', 'Bike & Skate', 'Board, Surf', 'Bowling', 'Boxing & MMA', 'Cup', 'Fishing', 'Football', 'Golf', 'Golf Apparel', 'Golf Bags', 'Golf Balls', 'Golf Shoes', 'Hiking & Camping', 'Hockey', 'Indoor', 'Lacrosse', \"Men's Golf Clubs\", 'Outdoor', 'Outdoor Games', 'Outdoors', 'Polo', 'Polo, Rugby', 'Skateboard', 'Snowboard', 'Soccer', 'Sport', 'Sports', 'Sports & Outdoor Play', 'Sports & Outdoors', 'Swim Briefs', 'Swim Trunks', 'Team Sports', 'Tennis & Racquets', 'Track & Field', 'Varsity', 'Volleyball', 'Water Sports', \"Women's Golf Clubs\"]\n",
      "=============================================\n",
      "=============================================\n",
      "cluster 3: \n",
      "['Backpacks & Carriers', 'Binoculars & Telescopes', 'Camcorders', 'Chargers & Cradles', 'Clock', 'Clocks', 'Coaster', 'Coasters', 'Dusting', 'Flare', 'Garbage Disposals', 'Handkerchief', 'Harnesses & Leashes', 'Headsets', 'Keyboards', 'Keychain', 'Lanyard', 'Leash', 'Magnet', 'Microwaves', 'Mirrors', 'Monitors', 'Mopping', 'Motorcycle', 'Motorcycle & Powersports', 'Mules & Clogs', 'Potties & Seats', 'Prams', 'Printers, Scanners & Supplies', 'Raincoat', 'Refrigerators', 'Slipcovers', 'Space Heaters', 'Sponges', 'Strollers', 'Sweeping', 'Swings, Jumpers & Bouncers', 'Televisions', 'Tiles', 'Tires & Wheels', 'Toothbrushes', 'Tricycles, Scooters & Wagons', 'Tripods & Supports', 'Tweezers', 'Vase', 'Vases', 'Walkers']\n",
      "=============================================\n",
      "=============================================\n",
      "cluster 4: \n",
      "['Afghan', 'Bomber', 'Carpenter', 'Carpenter, Utility', 'Draft Stoppers', 'Fixture', 'Historical, Military', 'MLB', 'Military', 'NBA', 'NCAA', 'NFL', 'NHL', 'Patriotic', 'Pitcher', 'Religious', 'Signs', 'Ties']\n",
      "=============================================\n",
      "=============================================\n",
      "cluster 5: \n",
      "['Animation', 'Art', 'Art Doll', 'Arts & Crafts', 'Arts & Photography', 'Beauty', 'Biography', 'Book', 'Books', 'Books and Zines', 'Christian Books & Bibles', 'Comic', 'Comics', 'Consoles', 'Cookbook', 'Fantasy', 'Fiction', 'Film Photography', 'Graphic Design', 'Guest Books', 'Hobbies', 'Illustrated', 'Illustration', 'Instructional', 'Literature & Fiction', 'Nonfiction', 'Photography', 'Poetry', 'Price Guides & Publications', 'Puzzle', 'Puzzles', 'Reference', 'Sci-Fi, Fantasy', 'Scifi', 'Strategy Guides', 'VHS', 'Videogame', 'Woodworking', 'eBook Access', 'eBook Readers']\n",
      "=============================================\n",
      "=============================================\n",
      "cluster 6: \n",
      "['Air Conditioners', 'Air Fresheners', 'Air Purifiers', 'Bath', 'Bottle-Feeding', 'Bottles', 'Bowl', 'Bowls', 'Bubble', 'Bubble Bath', 'Candle Holder', 'Candles', 'Candles & Holders', 'Candles & Home Scents', 'Coffee & Tea Accessories', 'Cream and Sugar Set', 'Feeding', 'Food', 'Fragrance', 'Freezers & Ice Makers', 'Glass', 'Home Brewing & Wine Making', 'Home Fragrance', 'Light', 'Lighting', 'Lighting & Studio', 'Lights & Lighting Accessories', 'Non-Slip Bath Mats', 'Plate', 'Pot Holder', 'Salt and Pepper Shakers', 'Scoop Neck', 'Serving', 'Stained Glass', 'Sun', 'Sun Protection', 'Trash & Recycling', 'Trash Bags', 'Tray', 'Water Coolers & Filters', 'Wine Accessories', 'Wine, Beer & Beverage Coolers', 'Wrap']\n",
      "=============================================\n",
      "=============================================\n",
      "cluster 7: \n",
      "['Area Rugs & Pads', 'Backpacks, Bags & Briefcases', 'Bags & Cases', 'Bags and Purses', 'Bath Rugs', 'Bathing Tubs & Seats', 'Belts', 'Blanket', 'Blankets & Throws', 'Breastfeeding Pillows & Stools', 'Brushes', 'Brushes & Applicators', 'Cabinet Locks & Straps', 'Cloth Diapers', 'Comforters & Sets', 'Cosmetic Bags', 'Decorative Pillows', 'Decorative Pillows, Inserts & Covers', 'Diaper Bag', 'Diaper Bags', 'Diaper Pails & Refills', 'Diaper Stackers & Caddies', 'Dishes', 'Disposable Diapers', 'Favors', 'Irons & Ironing Boards', 'Maternity Pillows', 'Mattress Pads', 'Pillow', 'Pillows', 'Pillows & Stools', 'Racks, Shelves & Drawers', 'Scarves & Wraps', 'Sheets & Pillowcases', 'Stamps', 'Towels', 'Wallets', 'Washcloths & Towels', 'Wipes & Holders']\n",
      "=============================================\n",
      "=============================================\n",
      "cluster 8: \n",
      "['Aceo', 'Antique', 'Bakeware', 'Bedding', 'Biographies & Memoirs', 'Cabochon', 'Carving', 'Ceramic', 'Ceramics and Pottery', 'Collectibles', 'Cookware', 'Crafting', 'Crochet', 'Decorating', 'Diapering', 'Dinnerware Set', 'Dolls and Miniatures', 'Embroidery', 'Felted', 'Figurines', 'Flatware', 'Garment Steamers', 'Gates & Doorways', 'Geekery', 'Glassware', 'Grooming', 'Grooming & Healthcare Kits', 'Humidifiers & Vaporizers', 'Knitting', 'Knitting Supplies', 'Lithographs, Etchings & Woodcuts', 'Needlepoint', 'Nursery', 'Nursery Bedding', 'Nursery Décor', 'Origami', 'Patchwork', 'Pattern', 'Patterns', 'Planters', 'Playard Bedding', 'Plush', 'Porcelain', 'Primitive', 'Printmaking', 'Quilts', 'Scale Dollhouse Miniature', 'Scrapbooking', 'Sewing', 'Stuffed Animals & Plush', 'Tapestries', 'Teacup', 'Teapot', 'Thermometers', 'Toiletry Kits', 'Trim', 'Washers & Dryers', 'Yarn']\n",
      "=============================================\n",
      "=============================================\n",
      "cluster 9: \n",
      "['Bathroom', 'Bathroom Furniture Sets', 'Bathroom Safety', 'Bathroom Storage & Organization', 'Bedroom Furniture', 'Chair', 'Cleaning', 'Cleaning Supplies', 'Dining & Entertaining', 'Furniture', 'Garage Storage & Organization', 'Holiday Décor Storage', 'Home Appliances', 'Home Bar Furniture', 'Home Decor', 'Home Décor', 'Home Décor Accents', 'Home Entertainment Furniture', 'Home Office Furniture', 'Household Cleaners', 'Inflatable Beds', \"Kids' Furniture\", \"Kids' Furniture, Décor & Storage\", 'Kitchen', 'Kitchen & Dining', 'Kitchen & Table Linens', 'Kitchen Appliances', 'Kitchen Knives & Cutlery Accessories', 'Kitchen Safety', 'Kitchen Storage & Organization', 'Kitchen Utensils & Gadgets', 'Laundry Storage & Organization', 'Living Room Furniture', 'Nursery Furniture', 'Other Furniture', 'Small Appliances', 'Storage', 'Storage & Containers', 'Storage & Organization', 'Storage Cabinets', 'Table', 'Travel Beds', 'Vacuums & Floor Care', 'Wall Decor', 'Wall Hanging', 'Window Treatments']\n",
      "=============================================\n",
      "=============================================\n",
      "cluster 10: \n",
      "['A-Line', 'Ballet', 'Block', 'Cape', 'Cargo', 'Collar', 'Face', 'Formal', 'Humor', 'Maxi', 'Media', 'Men', 'Mixed Media', 'Patch', 'Pin', 'Poncho', 'Tag', 'Tank, Cami', 'Yoga & Pilates']\n",
      "=============================================\n",
      "=============================================\n",
      "cluster 11: \n",
      "['Business & Money', 'Children', \"Children's Books\", 'Daily & Travel items', 'Education & Teaching', 'Exercise', 'Family Planning Tests', 'Fitness technology', 'Health', 'Health & Baby Care', 'Health Care', 'History', 'Learning & Education', 'Medical Books', 'Others', 'Personal Care', 'Politics & Social Sciences', 'Potty Training', 'Presentation', 'Religion', 'Religion & Spirituality', 'Science', 'Science & Math', 'Sports Nutrition', 'Strength training', 'Women', \"Women's Handbags\", 'Work & Safety', 'Writing']\n",
      "=============================================\n",
      "=============================================\n",
      "cluster 12: \n",
      "['Bath & Body', 'Bathing & Skin Care', 'Body', 'Eyes', 'Feet', 'Hair', 'Hair & Scalp Treatments', 'Hair Accessories', 'Hair Care', 'Hair Color', 'Hair Coloring Tools', 'Hair Loss Products', 'Hair Perms & Texturizers', 'Hair Relaxers', 'Hair Styling Tools', 'Hands & Nails', 'Lips', 'Makeup', 'Makeup Brushes & Tools', 'Makeup Palettes', 'Makeup Remover', 'Makeup Sets', 'Nail Care', 'Nail Tools', 'Nails', 'Paint, Body & Trim', 'Scrubs & Body Treatments', 'Shampoo', 'Shampoo & Conditioner Sets', 'Shampoo Plus Conditioner', 'Skin Care', 'Styling Products', 'Styling Tools']\n",
      "=============================================\n",
      "=============================================\n",
      "cluster 13: \n",
      "['Action Figure', 'Action Figures & Statues', 'Action, Adventure', 'Band & Orchestra', 'Blu-Ray', 'CD', 'Car Audio, Video & GPS', 'Car Video', 'DJ, Electronic Music & Karaoke', 'DVD', 'DVD & Blu-ray Players', 'Dance', 'Drives, Storage & Media', 'Flight', 'Game', 'Games', 'Home Audio', 'Home Surveillance', 'Live Sound & Stage', 'Music', 'Office', 'Radio', 'Studio Recording Equipment', 'TV, Audio & Surveillance', 'Television', 'Toy Remote Control & Play Vehicles', 'Video Game', 'Video Games & Consoles', 'Video Gaming Merchandise']\n",
      "=============================================\n",
      "=============================================\n",
      "cluster 14: \n",
      "['Apparel', 'Apron', 'Breastfeeding', 'Clothing', 'Eyewear', 'Fashion Sneakers', 'Footwear', 'Handbag', 'Hobo', 'Lingerie', 'Luggage', 'Maternity', 'Messenger & Crossbody', 'Novelty', 'Outerwear', 'Pouch', 'Pregnancy & Maternity', 'Purse', 'Satchel', 'Sunglasses', 'Swimwear', 'Teething Relief', 'Toddler', 'Tote', 'Wallet', 'Wristlet']\n",
      "=============================================\n",
      "=============================================\n",
      "cluster 15: \n",
      "['Boys', 'Boys (4+)', 'Boys 0-24 Mos', 'Boys 2T-5T', 'Fans', 'Girls', 'Girls (4+)', 'Girls 0-24 Mos', 'Girls 2T-5T', 'T-Shirts', 'T-shirts', 'Top & T-shirts', 'Tops & T-Shirts']\n",
      "=============================================\n",
      "=============================================\n",
      "cluster 16: \n",
      "['Above Knee, Mini', 'Boot Cut', 'Button', 'Button Down Shirt', 'Button-Front', 'Change Purse', 'Classic, Straight Leg', 'Cowl Neck', 'Double Breasted', 'Dress - Flat Front', 'Full Skirt', 'Full Zip', 'Full-Length', 'Hip Bag', 'Knee-Length', 'Leg Warmers', 'Lightweight', 'Mid-Calf', 'One Button', 'Pinback Button', 'Relaxed', 'Shoulder Bag', 'Slim, Skinny', 'Straight Leg', 'Straight, Pencil', 'Three Button', 'Tiered', 'Track & Sweat Pants', 'Track & Sweat Suits', 'Track Jacket', 'Two Button', 'V-Neck', 'Wide Leg']\n",
      "=============================================\n",
      "=============================================\n",
      "cluster 17: \n",
      "['Advertisement', 'Artwork', 'Baguette', 'Baskets', 'Baskets & Bins', 'Bookmark', 'Bouquets', 'Boxes', 'Cake Toppers', 'Calendar', 'Calendars', 'Casserole', 'Collages', 'Decorations', 'Drawings', 'Figurine', 'Frames', 'Invitations', 'Jewelry Boxes & Organizers', 'Journal', 'Magazines', 'Magnets', 'Mug', 'Ornaments', 'Painting', 'Paintings', 'Pendant', 'Personalized', 'Photographs', 'Planter', 'Postcard', 'Sculptures', 'Seasonal Décor', 'Souvenir', 'Stationery', 'Telephone', 'Totes & Shoppers', 'Tumbler', 'Weddings']\n",
      "=============================================\n",
      "=============================================\n",
      "cluster 18: \n",
      "['Baby', 'Baby & Child Care', 'Baby Gyms & Playmats', 'Baby Seats', 'Bed', 'Bed Pillows', 'Bed in a Bag', 'Birthday', 'Boyfriend', 'Christmas', 'Easter', 'Holidays', 'Home', 'House', \"Kids' Bath\", \"Kids' Home Store\", \"Kids' Room Décor\", 'Shams, Bed Skirts & Bed Frame Draperies', 'Sleep Positioners', \"St Patrick's\", 'Thanksgiving', 'Valentine']\n",
      "=============================================\n",
      "=============================================\n",
      "cluster 19: \n",
      "['Bead', 'Beads', 'Bracelet', 'Bracelets', 'Brooch', 'Earrings', 'Handmade', 'Jewelry', 'Necklace', 'Necklaces', 'Vintage', 'Vintage & Collectibles']\n",
      "=============================================\n",
      "=============================================\n",
      "cluster 20: \n",
      "['Backpack', 'Backpack Style', 'Bath Linen Sets', 'Belt', 'Box', 'Cards', 'Case', 'Cases, Covers & Skins', 'Chain', 'Changing Kits', 'Changing Pads & Covers', 'Charm', 'Clutch', 'Cover-Ups', 'Cross Stitch', 'Cuff Links', 'Custom', 'Duvet Covers & Sets', 'Fabric', 'Fabric Postcard', 'Fan Shop', 'Frame', 'Gear', 'Gift Sets', 'Gift Wrap', 'Hat', 'Headphones', 'Knit Top', 'Loafers & Slip-Ons', 'Magic', 'Paper', 'Paper Ephemera', 'Paper Goods', 'Paper Towels', 'Photo Albums & Frames', 'Poster', 'Posters & Prints', 'Print', 'Ring', 'Rings', 'Screen Protectors', 'Seat Covers', 'Sets', 'Sets & Kits', 'Standard', 'Sticker', 'Tank', 'Tape', 'Trading Cards', 'Vinyl']\n",
      "=============================================\n",
      "=============================================\n",
      "cluster 21: \n",
      "['Baggy, Loose', 'Blazer', 'Blouse', 'Board Shorts', 'Boots', 'Bras', 'Cardigan', 'Casual Pants', 'Casual Shorts', 'Denim', 'Dress', 'Dress - Pleat', 'Dress Pants', 'Dress Shirts', 'Dress Shorts', 'Dress Suit', 'Fleece Jacket', 'G-Strings & Thongs', 'Hoodie', 'Jacket', 'Jean Jacket', 'Jeans', 'Leather', 'Leggings', 'Pant Suit', 'Panties', 'Pants', 'Pants, Tights, Leggings', 'Polo Shirt', 'Scarf', 'Shirt', 'Shoes', 'Shorts', 'Skirt', 'Skirt Suit', 'Slippers', 'Socks', 'Sports Bras', 'Suits', 'Sweater', 'Thermal Underwear', 'Training Pants', 'Tshirt', 'Underwear', 'Vest', 'Vest, Sleeveless', 'Watches']\n",
      "=============================================\n",
      "=============================================\n",
      "cluster 22: \n",
      "['Bass Guitars', 'Brass Instruments', 'Drums & Percussion', 'Guitars', 'Instrument', 'Musical instruments', 'Stringed Instruments', 'Wind & Woodwind Instruments']\n",
      "=============================================\n",
      "=============================================\n",
      "cluster 23: \n",
      "['Accessories', 'Accessory', 'Bathing Accessories', 'Bathroom Accessories', 'Beach Accessories', 'Clothing & Closet Storage', 'Dolls & Accessories', 'Exterior Accessories', 'Fireplaces & Accessories', 'Fitness accessories', 'GPS Accessories & Mounts', 'Interior Accessories', 'Lamps& Accessories', \"Men's Accessories\", 'Microphones & Accessories', 'Other Accessories', 'Pacifiers & Accessories', 'Shopping Cart Covers', 'Tools & Accessories', 'Travel Bathing Kits', \"Women's Accessories\"]\n",
      "=============================================\n",
      "=============================================\n",
      "cluster 24: \n",
      "['Asymmetrical', 'Asymmetrical Hem', 'Beading', 'Bottoms', 'Buckle', 'Capri, Cropped', 'Capris, Cropped', 'Collared', 'Corduroys', 'Corset', 'Crewneck', 'Flats', 'Halter', 'Hawaiian', 'Henley', 'Hooded', 'Housewares', 'Joggers', 'Khakis, Chinos', 'Linen', 'Linens', 'Necktie', 'Overalls', 'Oxfords', 'Parka', 'Peacoat', 'Peasant', 'Pleated', 'Puffer', 'Pumps', 'Sandals', 'Shawl', 'Shrug', 'Snowsuits & Bibs', 'Sweatshirt, Pullover', 'Trench', 'Tunic', 'Turtleneck', 'Turtleneck, Mock', 'Tuxedo', 'Windbreaker', 'Wool']\n",
      "=============================================\n",
      "=============================================\n",
      "cluster 25: \n",
      "['Amplifiers & Effects', 'Cleansers', 'Conditioners', 'Nasal Aspirators', 'Oils & Fluids', 'Powders & Lotions', 'Shampoos', 'Soaps & Cleansers', 'Waxing']\n",
      "=============================================\n",
      "=============================================\n",
      "cluster 26: \n",
      "['Bedspreads & Coverlets', 'Dehumidifiers', 'Epilators', 'Humidifiers', 'Needlecraft', 'Papermaking', 'Paperweights', 'Playards', 'Rainwear', 'Sweatercoat', 'Teethers', 'other']\n",
      "=============================================\n",
      "=============================================\n",
      "cluster 27: \n",
      "['Animal', 'Animals', 'Baby & Toddler Toys', 'Building Toys', 'Cage', 'Child Friendly', 'Costume', 'Dogs', 'Doll', 'Doll Clothes', 'Doll Clothing', 'Electronics for Kids', 'Finding', 'Halloween', 'Horror', 'Human Figure Doll', 'Kids', \"Kids' Bedding\", 'Novelty & Gag Toys', 'Pet Lover', 'Pets', 'Small Animal', 'Toy', 'Toys']\n",
      "=============================================\n",
      "=============================================\n",
      "cluster 28: \n",
      "['Blazers & Sport Coats', 'Cleats', 'Coats & Jackets', 'Dresses', 'Gloves', 'Hats', 'Jackets', 'Jerseys', 'Shirts & Tops', 'Skirts', 'Skirts, Skorts & Dresses', 'Suits & Blazers', 'Sweaters', 'Sweats & Hoodies', 'Tops', 'Tops & Blouses', 'Tracksuits & Sweats', 'Vests']\n",
      "=============================================\n",
      "=============================================\n",
      "cluster 29: \n",
      "['100 Years or Older', '50 To 75 Years', '75 To 100 Years', 'All Other Sports', 'Day of the Dead', 'Desktops & All-In-Ones', 'Dress Up & Pretend Play', 'How to', \"New Year's\", 'One-Piece', 'One-Pieces', 'Other', 'Something Blue', 'Two-Piece', 'Watch']\n",
      "=============================================\n",
      "=============================================\n"
     ]
    }
   ],
   "source": [
    "df_cat = pd.DataFrame(all_categories_labels_single, index=all_categories, columns=['label'])\n",
    "for i in range(len(set(all_categories_labels_kmeans))):\n",
    "    cats = list(df_cat[df_cat['label'] == i].index)    \n",
    "    print(\"cluster \" + str(i) + \": \")\n",
    "    print(sorted(list(cats)))\n",
    "    print(\"=============================================\")\n",
    "    print(\"=============================================\")"
   ]
  },
  {
   "cell_type": "code",
   "execution_count": null,
   "metadata": {
    "collapsed": true,
    "deletable": true,
    "editable": true
   },
   "outputs": [],
   "source": []
  },
  {
   "cell_type": "code",
   "execution_count": null,
   "metadata": {
    "collapsed": true,
    "deletable": true,
    "editable": true
   },
   "outputs": [],
   "source": []
  },
  {
   "cell_type": "code",
   "execution_count": null,
   "metadata": {
    "collapsed": true,
    "deletable": true,
    "editable": true
   },
   "outputs": [],
   "source": []
  }
 ],
 "metadata": {
  "kernelspec": {
   "display_name": "Python 3",
   "language": "python",
   "name": "python3"
  },
  "language_info": {
   "codemirror_mode": {
    "name": "ipython",
    "version": 3
   },
   "file_extension": ".py",
   "mimetype": "text/x-python",
   "name": "python",
   "nbconvert_exporter": "python",
   "pygments_lexer": "ipython3",
   "version": "3.5.3"
  }
 },
 "nbformat": 4,
 "nbformat_minor": 2
}
