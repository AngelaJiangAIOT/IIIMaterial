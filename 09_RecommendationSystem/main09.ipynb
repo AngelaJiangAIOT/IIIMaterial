{
 "cells": [
  {
   "cell_type": "markdown",
   "metadata": {},
   "source": [
    "# Recommendation"
   ]
  },
  {
   "cell_type": "markdown",
   "metadata": {},
   "source": [
    "1. 推薦系統的種類\n",
    "    - collabrative(協同推薦)\n",
    "    \n",
    "    ![collabrative](./imgs/collabrative.jpg)\n",
    "    \n",
    "    - content-based(內容推薦)\n",
    "    \n",
    "    ![content-based](./imgs/content-based.jpg)\n",
    "\n",
    "\n",
    "from [quora](https://www.quora.com/What-is-the-difference-between-content-based-filtering-and-collaborative-filtering)"
   ]
  },
  {
   "cell_type": "markdown",
   "metadata": {},
   "source": [
    "## IMPORT & DATA"
   ]
  },
  {
   "cell_type": "code",
   "execution_count": 2,
   "metadata": {
    "_cell_guid": "719f3966-e6fd-49c8-9f60-7bd741542450",
    "_uuid": "b61cd3125a7f8f991fc1bda85ae3cd26f74090ae"
   },
   "outputs": [],
   "source": [
    "import numpy as np\n",
    "import scipy\n",
    "import pandas as pd\n",
    "import math\n",
    "import random\n",
    "import sklearn\n",
    "from nltk.corpus import stopwords\n",
    "from sklearn.model_selection import train_test_split\n",
    "from sklearn.feature_extraction.text import TfidfVectorizer\n",
    "from sklearn.metrics.pairwise import cosine_similarity\n",
    "from scipy.sparse.linalg import svds\n",
    "import matplotlib.pyplot as plt\n",
    "\n",
    "\n",
    "import warnings\n",
    "warnings.filterwarnings('ignore')"
   ]
  },
  {
   "cell_type": "code",
   "execution_count": 3,
   "metadata": {
    "_cell_guid": "e601f966-d03f-4edc-886f-ca3d511a8045",
    "_uuid": "569c301bd128f66f29b4d97c34171e4d1712015a"
   },
   "outputs": [
    {
     "data": {
      "text/html": [
       "<div>\n",
       "<style scoped>\n",
       "    .dataframe tbody tr th:only-of-type {\n",
       "        vertical-align: middle;\n",
       "    }\n",
       "\n",
       "    .dataframe tbody tr th {\n",
       "        vertical-align: top;\n",
       "    }\n",
       "\n",
       "    .dataframe thead th {\n",
       "        text-align: right;\n",
       "    }\n",
       "</style>\n",
       "<table border=\"1\" class=\"dataframe\">\n",
       "  <thead>\n",
       "    <tr style=\"text-align: right;\">\n",
       "      <th></th>\n",
       "      <th>timestamp</th>\n",
       "      <th>eventType</th>\n",
       "      <th>contentId</th>\n",
       "      <th>authorPersonId</th>\n",
       "      <th>authorSessionId</th>\n",
       "      <th>authorUserAgent</th>\n",
       "      <th>authorRegion</th>\n",
       "      <th>authorCountry</th>\n",
       "      <th>contentType</th>\n",
       "      <th>url</th>\n",
       "      <th>title</th>\n",
       "      <th>text</th>\n",
       "      <th>lang</th>\n",
       "    </tr>\n",
       "  </thead>\n",
       "  <tbody>\n",
       "    <tr>\n",
       "      <th>1</th>\n",
       "      <td>1459193988</td>\n",
       "      <td>CONTENT SHARED</td>\n",
       "      <td>-4110354420726924665</td>\n",
       "      <td>4340306774493623681</td>\n",
       "      <td>8940341205206233829</td>\n",
       "      <td>NaN</td>\n",
       "      <td>NaN</td>\n",
       "      <td>NaN</td>\n",
       "      <td>HTML</td>\n",
       "      <td>http://www.nytimes.com/2016/03/28/business/dea...</td>\n",
       "      <td>Ethereum, a Virtual Currency, Enables Transact...</td>\n",
       "      <td>All of this work is still very early. The firs...</td>\n",
       "      <td>en</td>\n",
       "    </tr>\n",
       "    <tr>\n",
       "      <th>2</th>\n",
       "      <td>1459194146</td>\n",
       "      <td>CONTENT SHARED</td>\n",
       "      <td>-7292285110016212249</td>\n",
       "      <td>4340306774493623681</td>\n",
       "      <td>8940341205206233829</td>\n",
       "      <td>NaN</td>\n",
       "      <td>NaN</td>\n",
       "      <td>NaN</td>\n",
       "      <td>HTML</td>\n",
       "      <td>http://cointelegraph.com/news/bitcoin-future-w...</td>\n",
       "      <td>Bitcoin Future: When GBPcoin of Branson Wins O...</td>\n",
       "      <td>The alarm clock wakes me at 8:00 with stream o...</td>\n",
       "      <td>en</td>\n",
       "    </tr>\n",
       "    <tr>\n",
       "      <th>3</th>\n",
       "      <td>1459194474</td>\n",
       "      <td>CONTENT SHARED</td>\n",
       "      <td>-6151852268067518688</td>\n",
       "      <td>3891637997717104548</td>\n",
       "      <td>-1457532940883382585</td>\n",
       "      <td>NaN</td>\n",
       "      <td>NaN</td>\n",
       "      <td>NaN</td>\n",
       "      <td>HTML</td>\n",
       "      <td>https://cloudplatform.googleblog.com/2016/03/G...</td>\n",
       "      <td>Google Data Center 360° Tour</td>\n",
       "      <td>We're excited to share the Google Data Center ...</td>\n",
       "      <td>en</td>\n",
       "    </tr>\n",
       "    <tr>\n",
       "      <th>4</th>\n",
       "      <td>1459194497</td>\n",
       "      <td>CONTENT SHARED</td>\n",
       "      <td>2448026894306402386</td>\n",
       "      <td>4340306774493623681</td>\n",
       "      <td>8940341205206233829</td>\n",
       "      <td>NaN</td>\n",
       "      <td>NaN</td>\n",
       "      <td>NaN</td>\n",
       "      <td>HTML</td>\n",
       "      <td>https://bitcoinmagazine.com/articles/ibm-wants...</td>\n",
       "      <td>IBM Wants to \"Evolve the Internet\" With Blockc...</td>\n",
       "      <td>The Aite Group projects the blockchain market ...</td>\n",
       "      <td>en</td>\n",
       "    </tr>\n",
       "    <tr>\n",
       "      <th>5</th>\n",
       "      <td>1459194522</td>\n",
       "      <td>CONTENT SHARED</td>\n",
       "      <td>-2826566343807132236</td>\n",
       "      <td>4340306774493623681</td>\n",
       "      <td>8940341205206233829</td>\n",
       "      <td>NaN</td>\n",
       "      <td>NaN</td>\n",
       "      <td>NaN</td>\n",
       "      <td>HTML</td>\n",
       "      <td>http://www.coindesk.com/ieee-blockchain-oxford...</td>\n",
       "      <td>IEEE to Talk Blockchain at Cloud Computing Oxf...</td>\n",
       "      <td>One of the largest and oldest organizations fo...</td>\n",
       "      <td>en</td>\n",
       "    </tr>\n",
       "  </tbody>\n",
       "</table>\n",
       "</div>"
      ],
      "text/plain": [
       "    timestamp       eventType            contentId       authorPersonId  \\\n",
       "1  1459193988  CONTENT SHARED -4110354420726924665  4340306774493623681   \n",
       "2  1459194146  CONTENT SHARED -7292285110016212249  4340306774493623681   \n",
       "3  1459194474  CONTENT SHARED -6151852268067518688  3891637997717104548   \n",
       "4  1459194497  CONTENT SHARED  2448026894306402386  4340306774493623681   \n",
       "5  1459194522  CONTENT SHARED -2826566343807132236  4340306774493623681   \n",
       "\n",
       "       authorSessionId authorUserAgent authorRegion authorCountry contentType  \\\n",
       "1  8940341205206233829             NaN          NaN           NaN        HTML   \n",
       "2  8940341205206233829             NaN          NaN           NaN        HTML   \n",
       "3 -1457532940883382585             NaN          NaN           NaN        HTML   \n",
       "4  8940341205206233829             NaN          NaN           NaN        HTML   \n",
       "5  8940341205206233829             NaN          NaN           NaN        HTML   \n",
       "\n",
       "                                                 url  \\\n",
       "1  http://www.nytimes.com/2016/03/28/business/dea...   \n",
       "2  http://cointelegraph.com/news/bitcoin-future-w...   \n",
       "3  https://cloudplatform.googleblog.com/2016/03/G...   \n",
       "4  https://bitcoinmagazine.com/articles/ibm-wants...   \n",
       "5  http://www.coindesk.com/ieee-blockchain-oxford...   \n",
       "\n",
       "                                               title  \\\n",
       "1  Ethereum, a Virtual Currency, Enables Transact...   \n",
       "2  Bitcoin Future: When GBPcoin of Branson Wins O...   \n",
       "3                       Google Data Center 360° Tour   \n",
       "4  IBM Wants to \"Evolve the Internet\" With Blockc...   \n",
       "5  IEEE to Talk Blockchain at Cloud Computing Oxf...   \n",
       "\n",
       "                                                text lang  \n",
       "1  All of this work is still very early. The firs...   en  \n",
       "2  The alarm clock wakes me at 8:00 with stream o...   en  \n",
       "3  We're excited to share the Google Data Center ...   en  \n",
       "4  The Aite Group projects the blockchain market ...   en  \n",
       "5  One of the largest and oldest organizations fo...   en  "
      ]
     },
     "execution_count": 3,
     "metadata": {},
     "output_type": "execute_result"
    }
   ],
   "source": [
    "df_articles = pd.read_csv('shared_articles.csv')\n",
    "df_articles = df_articles[df_articles['eventType'] == 'CONTENT SHARED']\n",
    "df_articles.head(5)"
   ]
  },
  {
   "cell_type": "code",
   "execution_count": 32,
   "metadata": {
    "_cell_guid": "445d39ec-f6b0-4155-9f92-0a2540918bd1",
    "_uuid": "9829842326037e364de457f832deceae074d6164"
   },
   "outputs": [
    {
     "data": {
      "text/html": [
       "<div>\n",
       "<style scoped>\n",
       "    .dataframe tbody tr th:only-of-type {\n",
       "        vertical-align: middle;\n",
       "    }\n",
       "\n",
       "    .dataframe tbody tr th {\n",
       "        vertical-align: top;\n",
       "    }\n",
       "\n",
       "    .dataframe thead th {\n",
       "        text-align: right;\n",
       "    }\n",
       "</style>\n",
       "<table border=\"1\" class=\"dataframe\">\n",
       "  <thead>\n",
       "    <tr style=\"text-align: right;\">\n",
       "      <th></th>\n",
       "      <th>timestamp</th>\n",
       "      <th>eventType</th>\n",
       "      <th>contentId</th>\n",
       "      <th>personId</th>\n",
       "      <th>sessionId</th>\n",
       "      <th>userAgent</th>\n",
       "      <th>userRegion</th>\n",
       "      <th>userCountry</th>\n",
       "    </tr>\n",
       "  </thead>\n",
       "  <tbody>\n",
       "    <tr>\n",
       "      <th>0</th>\n",
       "      <td>1465413032</td>\n",
       "      <td>VIEW</td>\n",
       "      <td>-3499919498720038879</td>\n",
       "      <td>-8845298781299428018</td>\n",
       "      <td>1264196770339959068</td>\n",
       "      <td>NaN</td>\n",
       "      <td>NaN</td>\n",
       "      <td>NaN</td>\n",
       "    </tr>\n",
       "    <tr>\n",
       "      <th>1</th>\n",
       "      <td>1465412560</td>\n",
       "      <td>VIEW</td>\n",
       "      <td>8890720798209849691</td>\n",
       "      <td>-1032019229384696495</td>\n",
       "      <td>3621737643587579081</td>\n",
       "      <td>Mozilla/5.0 (Macintosh; Intel Mac OS X 10_11_2...</td>\n",
       "      <td>NY</td>\n",
       "      <td>US</td>\n",
       "    </tr>\n",
       "    <tr>\n",
       "      <th>2</th>\n",
       "      <td>1465416190</td>\n",
       "      <td>VIEW</td>\n",
       "      <td>310515487419366995</td>\n",
       "      <td>-1130272294246983140</td>\n",
       "      <td>2631864456530402479</td>\n",
       "      <td>NaN</td>\n",
       "      <td>NaN</td>\n",
       "      <td>NaN</td>\n",
       "    </tr>\n",
       "    <tr>\n",
       "      <th>3</th>\n",
       "      <td>1465413895</td>\n",
       "      <td>FOLLOW</td>\n",
       "      <td>310515487419366995</td>\n",
       "      <td>344280948527967603</td>\n",
       "      <td>-3167637573980064150</td>\n",
       "      <td>NaN</td>\n",
       "      <td>NaN</td>\n",
       "      <td>NaN</td>\n",
       "    </tr>\n",
       "    <tr>\n",
       "      <th>4</th>\n",
       "      <td>1465412290</td>\n",
       "      <td>VIEW</td>\n",
       "      <td>-7820640624231356730</td>\n",
       "      <td>-445337111692715325</td>\n",
       "      <td>5611481178424124714</td>\n",
       "      <td>NaN</td>\n",
       "      <td>NaN</td>\n",
       "      <td>NaN</td>\n",
       "    </tr>\n",
       "    <tr>\n",
       "      <th>5</th>\n",
       "      <td>1465413742</td>\n",
       "      <td>VIEW</td>\n",
       "      <td>310515487419366995</td>\n",
       "      <td>-8763398617720485024</td>\n",
       "      <td>1395789369402380392</td>\n",
       "      <td>Mozilla/5.0 (Windows NT 10.0; WOW64) AppleWebK...</td>\n",
       "      <td>MG</td>\n",
       "      <td>BR</td>\n",
       "    </tr>\n",
       "    <tr>\n",
       "      <th>6</th>\n",
       "      <td>1465415950</td>\n",
       "      <td>VIEW</td>\n",
       "      <td>-8864073373672512525</td>\n",
       "      <td>3609194402293569455</td>\n",
       "      <td>1143207167886864524</td>\n",
       "      <td>NaN</td>\n",
       "      <td>NaN</td>\n",
       "      <td>NaN</td>\n",
       "    </tr>\n",
       "    <tr>\n",
       "      <th>7</th>\n",
       "      <td>1465415066</td>\n",
       "      <td>VIEW</td>\n",
       "      <td>-1492913151930215984</td>\n",
       "      <td>4254153380739593270</td>\n",
       "      <td>8743229464706506141</td>\n",
       "      <td>Mozilla/5.0 (X11; Linux x86_64) AppleWebKit/53...</td>\n",
       "      <td>SP</td>\n",
       "      <td>BR</td>\n",
       "    </tr>\n",
       "    <tr>\n",
       "      <th>8</th>\n",
       "      <td>1465413762</td>\n",
       "      <td>VIEW</td>\n",
       "      <td>310515487419366995</td>\n",
       "      <td>344280948527967603</td>\n",
       "      <td>-3167637573980064150</td>\n",
       "      <td>NaN</td>\n",
       "      <td>NaN</td>\n",
       "      <td>NaN</td>\n",
       "    </tr>\n",
       "    <tr>\n",
       "      <th>9</th>\n",
       "      <td>1465413771</td>\n",
       "      <td>VIEW</td>\n",
       "      <td>3064370296170038610</td>\n",
       "      <td>3609194402293569455</td>\n",
       "      <td>1143207167886864524</td>\n",
       "      <td>NaN</td>\n",
       "      <td>NaN</td>\n",
       "      <td>NaN</td>\n",
       "    </tr>\n",
       "  </tbody>\n",
       "</table>\n",
       "</div>"
      ],
      "text/plain": [
       "    timestamp eventType            contentId             personId  \\\n",
       "0  1465413032      VIEW -3499919498720038879 -8845298781299428018   \n",
       "1  1465412560      VIEW  8890720798209849691 -1032019229384696495   \n",
       "2  1465416190      VIEW   310515487419366995 -1130272294246983140   \n",
       "3  1465413895    FOLLOW   310515487419366995   344280948527967603   \n",
       "4  1465412290      VIEW -7820640624231356730  -445337111692715325   \n",
       "5  1465413742      VIEW   310515487419366995 -8763398617720485024   \n",
       "6  1465415950      VIEW -8864073373672512525  3609194402293569455   \n",
       "7  1465415066      VIEW -1492913151930215984  4254153380739593270   \n",
       "8  1465413762      VIEW   310515487419366995   344280948527967603   \n",
       "9  1465413771      VIEW  3064370296170038610  3609194402293569455   \n",
       "\n",
       "             sessionId                                          userAgent  \\\n",
       "0  1264196770339959068                                                NaN   \n",
       "1  3621737643587579081  Mozilla/5.0 (Macintosh; Intel Mac OS X 10_11_2...   \n",
       "2  2631864456530402479                                                NaN   \n",
       "3 -3167637573980064150                                                NaN   \n",
       "4  5611481178424124714                                                NaN   \n",
       "5  1395789369402380392  Mozilla/5.0 (Windows NT 10.0; WOW64) AppleWebK...   \n",
       "6  1143207167886864524                                                NaN   \n",
       "7  8743229464706506141  Mozilla/5.0 (X11; Linux x86_64) AppleWebKit/53...   \n",
       "8 -3167637573980064150                                                NaN   \n",
       "9  1143207167886864524                                                NaN   \n",
       "\n",
       "  userRegion userCountry  \n",
       "0        NaN         NaN  \n",
       "1         NY          US  \n",
       "2        NaN         NaN  \n",
       "3        NaN         NaN  \n",
       "4        NaN         NaN  \n",
       "5         MG          BR  \n",
       "6        NaN         NaN  \n",
       "7         SP          BR  \n",
       "8        NaN         NaN  \n",
       "9        NaN         NaN  "
      ]
     },
     "execution_count": 32,
     "metadata": {},
     "output_type": "execute_result"
    }
   ],
   "source": [
    "df_interactions = pd.read_csv('users_interactions.csv')\n",
    "df_interactions.head(10)"
   ]
  },
  {
   "cell_type": "markdown",
   "metadata": {
    "_cell_guid": "585f81a5-c6ff-4399-bbec-901c41fc7285",
    "_uuid": "6abb0af8474eabb50be7a9e6496bfa75ec1b2bd9"
   },
   "source": [
    "## Preprocessing"
   ]
  },
  {
   "cell_type": "code",
   "execution_count": 33,
   "metadata": {},
   "outputs": [
    {
     "data": {
      "text/plain": [
       "{'BOOKMARK', 'COMMENT CREATED', 'FOLLOW', 'LIKE', 'VIEW'}"
      ]
     },
     "execution_count": 33,
     "metadata": {},
     "output_type": "execute_result"
    }
   ],
   "source": [
    "set(df_interactions['eventType'])"
   ]
  },
  {
   "cell_type": "code",
   "execution_count": 34,
   "metadata": {
    "_cell_guid": "3239c376-05b8-4a58-9afc-f6f57f67405f",
    "_uuid": "b06f8c0b082f0ad07bf773a5ad2fae33c1f7acc2"
   },
   "outputs": [
    {
     "name": "stdout",
     "output_type": "stream",
     "text": [
      "平均互動分數: 1.2362885828078327\n"
     ]
    }
   ],
   "source": [
    "event_type_strength = {\n",
    "   'VIEW': 1.0,\n",
    "   'LIKE': 2.0, \n",
    "   'BOOKMARK': 2.5, \n",
    "   'FOLLOW': 3.0,\n",
    "   'COMMENT CREATED': 4.0,  \n",
    "}\n",
    "\n",
    "# 請將eventType按照event_type_strength進行評分\n",
    "#=============your works starts===============#\n",
    "df_interactions['eventStrength'] = df_interactions['eventType'].apply(lambda x: event_type_strength[x])\n",
    "#==============your works ends================#\n",
    "\n",
    "print(\"平均互動分數:\", np.average(df_interactions['eventStrength']))\n",
    "# 平均互動分數: 1.2362885828078327"
   ]
  },
  {
   "cell_type": "markdown",
   "metadata": {
    "_cell_guid": "5c92aa80-2926-44db-b358-c4c32de806c4",
    "_uuid": "91100a395fdf4fb20df02c8d248072457c980b5d"
   },
   "source": [
    "在推薦系統中，有一個很常見的問題，稱為***cold-start***。因為，很多使用者並沒有真正的根產品產生任何互動，所以並沒有辦法從資料及當中了解到他們偏好。因此，這邊我們將少於五個interactions的user刪掉。"
   ]
  },
  {
   "cell_type": "code",
   "execution_count": 35,
   "metadata": {
    "_cell_guid": "bad1d8ea-9b67-4a47-80c5-87a5e55c4f38",
    "_uuid": "1698c88340183baa7f3ebb8c3b60eaa8e6ca708f"
   },
   "outputs": [
    {
     "name": "stdout",
     "output_type": "stream",
     "text": [
      "平均互動次數:  21.482849604221634 次\n",
      "使用者個數:  1895\n",
      "互動大於5次使用者個數 1140\n"
     ]
    }
   ],
   "source": [
    "# 計算出每個使用者有對幾項不同的商品進行互動(hint: 以['personId', 'contentId']進行groupby取出現次數，再用'personId'進行groupby取出現次數)\n",
    "# 篩選掉互動商品數小於五次的使用者(hint: return list)\n",
    "#=============your works starts===============#\n",
    "df_users_interactions_count = df_interactions.groupby(['personId', 'contentId']).size().groupby('personId').size()\n",
    "users_with_enough_interactions = df_users_interactions_count[df_users_interactions_count >= 5].index.tolist()\n",
    "#==============your works ends================#\n",
    "\n",
    "print(\"平均對?個賞品有互動: \", np.average(df_users_interactions_count), \"次\")\n",
    "print(\"使用者個數: \",  len(df_users_interactions_count))\n",
    "print(\"互動大於5次使用者個數\", len(users_with_enough_interactions))\n",
    "# 平均互動次數:  21.482849604221634 次\n",
    "# 使用者個數:  1895\n",
    "# 互動大於5次使用者個數 1140"
   ]
  },
  {
   "cell_type": "code",
   "execution_count": 36,
   "metadata": {
    "_cell_guid": "4e79a418-a9d6-4e01-9f38-9b290a645626",
    "_uuid": "0f428a4c6e76f95de7ea328dc33c6539389ae5f0"
   },
   "outputs": [
    {
     "name": "stdout",
     "output_type": "stream",
     "text": [
      "總互動比數: 72312\n",
      "互動次數大於五用戶總互動比數: 69868\n"
     ]
    }
   ],
   "source": [
    "# 找出df_interactions中personId在users_with_enough_interactions當中的row\n",
    "#=============your works starts===============#\n",
    "df_interactions_from_selected_users = df_interactions[df_interactions['personId'].apply(lambda x:x in set(users_with_enough_interactions))]\n",
    "#==============your works ends================#\n",
    "\n",
    "print('總互動比數:', len(df_interactions))\n",
    "print('互動次數大於五用戶總互動比數:', len(df_interactions_from_selected_users))\n",
    "# 總互動比數: 72312\n",
    "# 互動次數大於五用戶總互動比數: 69868"
   ]
  },
  {
   "cell_type": "code",
   "execution_count": 37,
   "metadata": {
    "_cell_guid": "54c82dd1-1102-4f11-ac6a-7993f8e5e842",
    "_uuid": "dcd64b20b47cf2c365341303ff410626a801f7a6"
   },
   "outputs": [
    {
     "name": "stdout",
     "output_type": "stream",
     "text": [
      "0.6931471805599453\n",
      "1.0986122886681098\n",
      "1.3862943611198906\n"
     ]
    }
   ],
   "source": [
    "def smooth_user_preference(x):\n",
    "    # 請先+1再取log，以平滑互動分數\n",
    "    #=============your works starts===============#\n",
    "    logged = np.log(1+x)\n",
    "    #==============your works ends================#\n",
    "    return logged\n",
    "\n",
    "\n",
    "print(smooth_user_preference(1))\n",
    "print(smooth_user_preference(2))\n",
    "print(smooth_user_preference(3))\n",
    "# 0.6931471805599453\n",
    "# 1.0986122886681098\n",
    "# 1.3862943611198906"
   ]
  },
  {
   "cell_type": "code",
   "execution_count": 38,
   "metadata": {},
   "outputs": [
    {
     "name": "stdout",
     "output_type": "stream",
     "text": [
      "平均喜好分數(未平滑) 2.214954226972843\n",
      "平均喜好分數(平滑) -2.7931391804641068e+16\n"
     ]
    }
   ],
   "source": [
    "# 計算使用者對於個別文章喜愛的加總\n",
    "# 並透過上面的smooth_user_preference使其平滑\n",
    "#=============your works starts===============#\n",
    "df_interactions_full_no_smooth = df_interactions_from_selected_users.groupby(['personId', 'contentId'])['eventStrength'].sum()\n",
    "df_interactions_full = df_interactions_full_no_smooth.apply(smooth_user_preference).reset_index()\n",
    "#==============your works ends================#\n",
    "\n",
    "print('平均喜好分數(未平滑)', np.average(df_interactions_full_no_smooth))\n",
    "print('平均喜好分數(平滑)', np.average(df_interactions_full))\n",
    "# 平均喜好分數(未平滑) 2.214954226972843\n",
    "# 平均喜好分數(平滑) 1.015265936675581"
   ]
  },
  {
   "cell_type": "markdown",
   "metadata": {},
   "source": [
    "## 評價\n",
    "### 基礎知識\n",
    "\n",
    "|     col    | Retrieved         | Non Retrieved      |\n",
    "|------------|-------------------|--------------------|\n",
    "| Relevant   | True Positive(TP) | False Negative(TN) |\n",
    "| Irrelevant | False Postive(FP) | True Negative(TN)  |\n",
    "\n",
    "### 解釋\n",
    "1. Precision at K\n",
    "\n",
    "$$ Precision={|Relevant \\cap Retrieved| \\over |Retrieved|}={|TP| \\over |TP|+|FP|}\\quad \\quad$$\n",
    "\n",
    "2. Recall at K\n",
    "\n",
    "$$ Recall={|Relevant \\cap Retrieved| \\over |Relevant|}={|TP| \\over |TP|+|FN|}\\quad \\quad$$\n",
    "\n",
    "3. F measure\n",
    "\n",
    "    1. 算術平均數\n",
    "\n",
    "    $$F={P+R \\over 2}\\quad where \\quad P=Precision,\\; R=Recall \\quad \\quad$$\n",
    "\n",
    "    2. 幾何平均數\n",
    "\n",
    "    $$F =\\cfrac{1}{\\alpha  {\\cfrac{1}{P}} + (1 - \\alpha )  {\\cfrac{1}{R}}}= \\cfrac{(\\beta ^2 +1)PR}{\\beta ^2 B +R} \\quad where \\quad \\beta ^2 = \\cfrac{1- \\alpha}{\\alpha}\\quad \\quad$$\n",
    "    \n",
    "    3. $F_\\beta$ or $F_1$\n",
    "    \n",
    "    $$ F_1 = F_\\beta = \\cfrac{1}{0.5  {\\cfrac{1}{P}} + 0.5 {\\cfrac{1}{R}}} = \\cfrac{PR}{0.5P+0.5R} = \\cfrac{2PR}{P+R}$$\n",
    "\n",
    "4. R-Precision\n",
    "5. NDCG\n",
    "6. MAP\n",
    "\n",
    "### 注意事項\n",
    "1. 注意與Accuracy的區別\n",
    "$$ {|TP|+|TF| \\over |TP|+|TN|+|FP|+|FN|} \\quad \\quad$$\n",
    "\n",
    "2. [參考資訊](https://goatwang.github.io/2017/04/22/Evaluation-in-Information-Retrieval/)\n"
   ]
  },
  {
   "cell_type": "code",
   "execution_count": 39,
   "metadata": {},
   "outputs": [
    {
     "data": {
      "text/html": [
       "<div>\n",
       "<style scoped>\n",
       "    .dataframe tbody tr th:only-of-type {\n",
       "        vertical-align: middle;\n",
       "    }\n",
       "\n",
       "    .dataframe tbody tr th {\n",
       "        vertical-align: top;\n",
       "    }\n",
       "\n",
       "    .dataframe thead th {\n",
       "        text-align: right;\n",
       "    }\n",
       "</style>\n",
       "<table border=\"1\" class=\"dataframe\">\n",
       "  <thead>\n",
       "    <tr style=\"text-align: right;\">\n",
       "      <th></th>\n",
       "      <th>personId</th>\n",
       "      <th>contentId</th>\n",
       "    </tr>\n",
       "  </thead>\n",
       "  <tbody>\n",
       "    <tr>\n",
       "      <th>0</th>\n",
       "      <td>-9223121837663643404</td>\n",
       "      <td>{5211673327552264703, -5002383425685129595, -7...</td>\n",
       "    </tr>\n",
       "    <tr>\n",
       "      <th>1</th>\n",
       "      <td>-9212075797126931087</td>\n",
       "      <td>{-1995591062742965408, 6852597772196653540, -9...</td>\n",
       "    </tr>\n",
       "    <tr>\n",
       "      <th>2</th>\n",
       "      <td>-9207251133131336884</td>\n",
       "      <td>{-4029704725707465084, -1297580205670251233, -...</td>\n",
       "    </tr>\n",
       "    <tr>\n",
       "      <th>3</th>\n",
       "      <td>-9199575329909162940</td>\n",
       "      <td>{5293701842202310496, -5002383425685129595, 54...</td>\n",
       "    </tr>\n",
       "    <tr>\n",
       "      <th>4</th>\n",
       "      <td>-9196668942822132778</td>\n",
       "      <td>{-721732705314803549, -8813724423497152538, -8...</td>\n",
       "    </tr>\n",
       "  </tbody>\n",
       "</table>\n",
       "</div>"
      ],
      "text/plain": [
       "              personId                                          contentId\n",
       "0 -9223121837663643404  {5211673327552264703, -5002383425685129595, -7...\n",
       "1 -9212075797126931087  {-1995591062742965408, 6852597772196653540, -9...\n",
       "2 -9207251133131336884  {-4029704725707465084, -1297580205670251233, -...\n",
       "3 -9199575329909162940  {5293701842202310496, -5002383425685129595, 54...\n",
       "4 -9196668942822132778  {-721732705314803549, -8813724423497152538, -8..."
      ]
     },
     "execution_count": 39,
     "metadata": {},
     "output_type": "execute_result"
    }
   ],
   "source": [
    "# ground truth\n",
    "# 找出每一個personId曾經互動過「不重複」的文章\n",
    "#=============your works starts===============#\n",
    "df_answer = df_interactions_full.groupby(['personId'])['contentId'].apply(set).reset_index()\n",
    "#==============your works ends================#\n",
    "\n",
    "df_answer.head(5)\n",
    "# personId\tcontentId\n",
    "# 0\t-9223121837663643404\t{5211673327552264703, -5002383425685129595, -7...\n",
    "# 1\t-9212075797126931087\t{-1995591062742965408, 6852597772196653540, -9...\n",
    "# 2\t-9207251133131336884\t{-4029704725707465084, -1297580205670251233, -...\n",
    "# 3\t-9199575329909162940\t{5293701842202310496, -5002383425685129595, 54...\n",
    "# 4\t-9196668942822132778\t{-721732705314803549, -8813724423497152538, -8..."
   ]
  },
  {
   "cell_type": "markdown",
   "metadata": {
    "_cell_guid": "2fac2a15-cc5c-4f31-8818-8065b0d2dc16",
    "_uuid": "59dd2131949c4d7e801114bffc11fb439c930b4c"
   },
   "source": [
    "## Popularity model (Base Line)"
   ]
  },
  {
   "cell_type": "code",
   "execution_count": 40,
   "metadata": {
    "_cell_guid": "9f525720-8c11-462c-82d8-764f36470e89",
    "_uuid": "c3e52a16c288e002c2e7e2e019139491bc01b782"
   },
   "outputs": [
    {
     "data": {
      "text/plain": [
       "[{'contentId': -4.029704725707465e+18, 'eventStrength': 213.30481497288199},\n",
       " {'contentId': -6.783772548752092e+18, 'eventStrength': 162.03158006500846},\n",
       " {'contentId': -1.3313934239753886e+17, 'eventStrength': 158.05458586966674},\n",
       " {'contentId': -8.208801367848628e+18, 'eventStrength': 136.62458307425328},\n",
       " {'contentId': -6.843047699859122e+18, 'eventStrength': 134.34939619163308}]"
      ]
     },
     "execution_count": 40,
     "metadata": {},
     "output_type": "execute_result"
    }
   ],
   "source": [
    "# 以contentId進行groupby，按照每篇文章總分數進行排序\n",
    "#=============your works starts===============#\n",
    "df_item_popularity = df_interactions_full.groupby('contentId')['eventStrength'].sum().sort_values(ascending=False).reset_index()\n",
    "#==============your works ends================#\n",
    "\n",
    "df_item_popularity.head(5).to_dict(orient='record')\n",
    "# [{'contentId': -4.029704725707465e+18, 'eventStrength': 213.30481497288199},\n",
    "#  {'contentId': -6.783772548752092e+18, 'eventStrength': 162.03158006500846},\n",
    "#  {'contentId': -1.3313934239753886e+17, 'eventStrength': 158.05458586966674},\n",
    "#  {'contentId': -8.208801367848628e+18, 'eventStrength': 136.62458307425328},\n",
    "#  {'contentId': -6.843047699859122e+18, 'eventStrength': 134.34939619163308}]"
   ]
  },
  {
   "cell_type": "code",
   "execution_count": 42,
   "metadata": {},
   "outputs": [
    {
     "data": {
      "text/html": [
       "<div>\n",
       "<style scoped>\n",
       "    .dataframe tbody tr th:only-of-type {\n",
       "        vertical-align: middle;\n",
       "    }\n",
       "\n",
       "    .dataframe tbody tr th {\n",
       "        vertical-align: top;\n",
       "    }\n",
       "\n",
       "    .dataframe thead th {\n",
       "        text-align: right;\n",
       "    }\n",
       "</style>\n",
       "<table border=\"1\" class=\"dataframe\">\n",
       "  <thead>\n",
       "    <tr style=\"text-align: right;\">\n",
       "      <th></th>\n",
       "      <th>personId</th>\n",
       "      <th>contentId</th>\n",
       "      <th>popularity_recommend</th>\n",
       "    </tr>\n",
       "  </thead>\n",
       "  <tbody>\n",
       "    <tr>\n",
       "      <th>0</th>\n",
       "      <td>-9223121837663643404</td>\n",
       "      <td>{5211673327552264703, -5002383425685129595, -7...</td>\n",
       "      <td>[-4029704725707465084, -6783772548752091658, -...</td>\n",
       "    </tr>\n",
       "    <tr>\n",
       "      <th>1</th>\n",
       "      <td>-9212075797126931087</td>\n",
       "      <td>{-1995591062742965408, 6852597772196653540, -9...</td>\n",
       "      <td>[-4029704725707465084, -6783772548752091658, -...</td>\n",
       "    </tr>\n",
       "    <tr>\n",
       "      <th>2</th>\n",
       "      <td>-9207251133131336884</td>\n",
       "      <td>{-4029704725707465084, -1297580205670251233, -...</td>\n",
       "      <td>[-4029704725707465084, -6783772548752091658, -...</td>\n",
       "    </tr>\n",
       "    <tr>\n",
       "      <th>3</th>\n",
       "      <td>-9199575329909162940</td>\n",
       "      <td>{5293701842202310496, -5002383425685129595, 54...</td>\n",
       "      <td>[-4029704725707465084, -6783772548752091658, -...</td>\n",
       "    </tr>\n",
       "    <tr>\n",
       "      <th>4</th>\n",
       "      <td>-9196668942822132778</td>\n",
       "      <td>{-721732705314803549, -8813724423497152538, -8...</td>\n",
       "      <td>[-4029704725707465084, -6783772548752091658, -...</td>\n",
       "    </tr>\n",
       "  </tbody>\n",
       "</table>\n",
       "</div>"
      ],
      "text/plain": [
       "              personId                                          contentId  \\\n",
       "0 -9223121837663643404  {5211673327552264703, -5002383425685129595, -7...   \n",
       "1 -9212075797126931087  {-1995591062742965408, 6852597772196653540, -9...   \n",
       "2 -9207251133131336884  {-4029704725707465084, -1297580205670251233, -...   \n",
       "3 -9199575329909162940  {5293701842202310496, -5002383425685129595, 54...   \n",
       "4 -9196668942822132778  {-721732705314803549, -8813724423497152538, -8...   \n",
       "\n",
       "                                popularity_recommend  \n",
       "0  [-4029704725707465084, -6783772548752091658, -...  \n",
       "1  [-4029704725707465084, -6783772548752091658, -...  \n",
       "2  [-4029704725707465084, -6783772548752091658, -...  \n",
       "3  [-4029704725707465084, -6783772548752091658, -...  \n",
       "4  [-4029704725707465084, -6783772548752091658, -...  "
      ]
     },
     "execution_count": 42,
     "metadata": {},
     "output_type": "execute_result"
    }
   ],
   "source": [
    "def popularity_recommend(user_id):\n",
    "    # 直接回傳分數加總最高的500篇文章\n",
    "    #=============your works starts===============#\n",
    "    recommend = df_item_popularity.loc[:500, 'contentId'].values    \n",
    "    #==============your works ends================#\n",
    "    return recommend\n",
    "\n",
    "# 透過apply function使用popularity_recommend到df_interactions_full[\"personId\"]的每一個row上\n",
    "df_answer['popularity_recommend'] = df_answer[\"personId\"].apply(popularity_recommend)\n",
    "df_answer.head(5)"
   ]
  },
  {
   "cell_type": "code",
   "execution_count": 43,
   "metadata": {},
   "outputs": [
    {
     "name": "stdout",
     "output_type": "stream",
     "text": [
      "Average Precision At K: 0.08511873350923484\n"
     ]
    }
   ],
   "source": [
    "def precision_at_k(row, k=10):\n",
    "    # 計算每一個row的precision_at_k\n",
    "    #=============your works starts===============#\n",
    "    precision = len(set(row['popularity_recommend'][:k]) & set(row['contentId'])) / k\n",
    "    #==============your works ends================#\n",
    "    return precision\n",
    "\n",
    "evaluation_result = df_answer.apply(precision_at_k, axis=1)\n",
    "print(\"Average Precision At K:\", np.average(evaluation_result))\n",
    "# Average Precision At K: 0.08511873350923484"
   ]
  },
  {
   "cell_type": "code",
   "execution_count": 44,
   "metadata": {},
   "outputs": [
    {
     "name": "stdout",
     "output_type": "stream",
     "text": [
      "Average Recall At K: 0.08730221807976521\n"
     ]
    }
   ],
   "source": [
    "def recall_at_k(row, k=10):\n",
    "    # 計算每一個row的recall_at_k\n",
    "    #=============your works starts===============#\n",
    "    recall = len(set(row['popularity_recommend'][:k]) & set(row['contentId'])) / len(row['contentId'])\n",
    "    #==============your works ends================#\n",
    "    return recall\n",
    "\n",
    "evaluation_result = df_answer.apply(recall_at_k, axis=1)\n",
    "print(\"Average Recall At K:\", np.average(evaluation_result))\n",
    "# Average Recall At K: 0.08730221807976521"
   ]
  },
  {
   "cell_type": "code",
   "execution_count": 15,
   "metadata": {},
   "outputs": [
    {
     "name": "stdout",
     "output_type": "stream",
     "text": [
      "[0.14142480211081795, 0.12163588390501319, 0.1150395778364116, 0.1054089709762533, 0.09931398416886543]\n",
      "[0.023556124542213237, 0.034394715562071, 0.043386947980631974, 0.04921683202394738, 0.05832411771369351]\n"
     ]
    }
   ],
   "source": [
    "precisions_popularity = []\n",
    "recalls_popularity = []\n",
    "for k in range(1, 500):\n",
    "    # 找出k個retrieved結果下的precision並append到precisions中\n",
    "    # 找出k個retrieved結果下的recall並append到recalls中\n",
    "    #=============your works starts===============#\n",
    "    p_avg = np.average(df_answer.apply(precision_at_k, axis=1, k=k))\n",
    "    r_avg = np.average(df_answer.apply(recall_at_k, axis=1, k=k))\n",
    "    precisions_popularity.append(p_avg)\n",
    "    recalls_popularity.append(r_avg)\n",
    "    #==============your works ends================#\n",
    "\n",
    "print(precisions_popularity[:5])\n",
    "print(recalls_popularity[:5])\n",
    "# [0.14142480211081795, 0.12163588390501319, 0.1150395778364116, 0.1054089709762533, 0.09931398416886543]\n",
    "# [0.023556124542213237, 0.034394715562071, 0.043386947980631974, 0.04921683202394738, 0.05832411771369351]"
   ]
  },
  {
   "cell_type": "code",
   "execution_count": 16,
   "metadata": {},
   "outputs": [
    {
     "data": {
      "image/png": "[encoded data removed]",
      "text/plain": [
       "<Figure size 432x288 with 1 Axes>"
      ]
     },
     "metadata": {
      "needs_background": "light"
     },
     "output_type": "display_data"
    }
   ],
   "source": [
    "plt.scatter(recalls_popularity, precisions_popularity)\n",
    "plt.show()"
   ]
  },
  {
   "cell_type": "markdown",
   "metadata": {
    "_cell_guid": "96005510-c4ac-41c4-b60d-cb2ded15a71a",
    "_uuid": "ddb5580ac46252c2fde764a72a0d7b34c652e4d8"
   },
   "source": [
    "## Content-Based Filtering model"
   ]
  },
  {
   "cell_type": "code",
   "execution_count": 17,
   "metadata": {
    "_cell_guid": "aebda143-fc54-4bba-8e32-6919902d6af2",
    "_uuid": "8a623643872e9d09701cd1d0ce9dee4163279f3d"
   },
   "outputs": [],
   "source": [
    "stopwords_list = stopwords.words('english') + stopwords.words('portuguese')\n",
    "vectorizer = TfidfVectorizer(analyzer='word', ngram_range=(1, 2), min_df=0.003, max_df=0.5, max_features=5000, stop_words=stopwords_list)\n"
   ]
  },
  {
   "cell_type": "code",
   "execution_count": 46,
   "metadata": {},
   "outputs": [
    {
     "data": {
      "text/plain": [
       "array([ 9.50111727,  8.76829702,  7.07315723, 10.39925989,  7.69531653])"
      ]
     },
     "execution_count": 46,
     "metadata": {},
     "output_type": "execute_result"
    }
   ],
   "source": [
    "# 計算df_articles['title'] + \" \" + df_articles['text']中每個row的tfidf_matrix\n",
    "#=============your works starts===============#\n",
    "tfidf_matrix = vectorizer.fit_transform(df_articles['title'] + \" \" + df_articles['text'])\n",
    "#==============your works ends================#\n",
    "\n",
    "np.sum(tfidf_matrix[:5].toarray(), axis=1)\n",
    "# array([ 9.50111727,  8.76829702,  7.07315723, 10.39925989,  7.69531653])"
   ]
  },
  {
   "cell_type": "code",
   "execution_count": 47,
   "metadata": {},
   "outputs": [
    {
     "data": {
      "text/plain": [
       "0    [0.002215745405614616, 0.0030089016793024893, ...\n",
       "1    [0.0, 0.012489418801235969, 0.0, 0.0, 0.003228...\n",
       "2    [0.013707054489011659, 0.0020078374794908756, ...\n",
       "3    [0.0, 0.006133107865163184, 0.0, 0.0, 0.003888...\n",
       "4    [0.0, 0.0, 0.0, 0.0, 0.018891626761135934, 0.0...\n",
       "Name: preference_vector, dtype: object"
      ]
     },
     "execution_count": 47,
     "metadata": {},
     "output_type": "execute_result"
    }
   ],
   "source": [
    "# article id\n",
    "item_ids = df_articles['contentId'].tolist()\n",
    "item_ids_set = set(item_ids)\n",
    "\n",
    "def get_user_vector(like_content_list):\n",
    "    # 找出like_content_list中每一篇文章所在的位置idx\n",
    "    #=============your works starts===============#\n",
    "    idxs = [item_ids.index(i) for i in like_content_list if i in item_ids_set]\n",
    "    #==============your works ends================#\n",
    "    if len(idxs) == 0:\n",
    "        # 初始劃一條全部為零，與tfidf_matrix中每一條向量等長的np.array()\n",
    "        #=============your works starts===============#\n",
    "        average_vector = np.zeros(tfidf_matrix.shape[1])\n",
    "        #==============your works ends================#\n",
    "    else:\n",
    "        # 使用idxs找出tfidf_matrix中的對應向量\n",
    "        # 並element-wise的計算每一條向量中每個元素的平均值(axis=0)\n",
    "        #=============your works starts===============#\n",
    "        tfidf_vectors = tfidf_matrix[idxs].toarray()\n",
    "        average_vector = np.average(tfidf_vectors, axis=0)\n",
    "        #==============your works ends================#\n",
    "    return average_vector\n",
    "\n",
    "df_answer['preference_vector'] = df_answer['contentId'].apply(get_user_vector)\n",
    "df_answer['preference_vector'].head(5)\n",
    "# 0    [0.002215745405614616, 0.0030089016793024893, ...\n",
    "# 1    [0.0, 0.012489418801235969, 0.0, 0.0, 0.003228...\n",
    "# 2    [0.013707054489011659, 0.0020078374794908756, ...\n",
    "# 3    [0.0, 0.006133107865163184, 0.0, 0.0, 0.003888...\n",
    "# 4    [0.0, 0.0, 0.0, 0.0, 0.018891626761135934, 0.0...\n",
    "# Name: preference_vector, dtype: object"
   ]
  },
  {
   "cell_type": "code",
   "execution_count": 48,
   "metadata": {},
   "outputs": [
    {
     "name": "stdout",
     "output_type": "stream",
     "text": [
      "(1895, 3047)\n"
     ]
    },
    {
     "data": {
      "text/plain": [
       "array([[0.11906298, 0.10576356, 0.23490161, 0.16308151, 0.14992823],\n",
       "       [0.03358471, 0.03448321, 0.13672524, 0.04660727, 0.04195372],\n",
       "       [0.04197812, 0.03863454, 0.04912078, 0.08057892, 0.02526139],\n",
       "       [0.08572221, 0.0880551 , 0.10085452, 0.13203768, 0.08862588],\n",
       "       [0.0424938 , 0.01100553, 0.01393111, 0.0539832 , 0.04202164]])"
      ]
     },
     "execution_count": 48,
     "metadata": {},
     "output_type": "execute_result"
    }
   ],
   "source": [
    "# 使用cosine_similarity去計算每一個preference_vector與每一篇待選文章的cosine similarity\n",
    "#=============your works starts===============#\n",
    "user_preference_vectors = np.hstack(df_answer['preference_vector'].values).reshape(-1, len(df_answer['preference_vector'].iloc[0]))\n",
    "similarity_metric = cosine_similarity(user_preference_vectors, tfidf_matrix)\n",
    "#==============your works ends================#\n",
    "#請特別注意:\n",
    "# 每一個row是使用者對每一篇文章的similarity(preference)\n",
    "# 所以接下來要篩出，每一個row當中similarity最高分的10篇文章\n",
    "\n",
    "print(similarity_metric.shape)\n",
    "# (1895, 3047)\n",
    "similarity_metric[:5, :5]\n",
    "# array([[0.11906298, 0.10576356, 0.23490161, 0.16308151, 0.14992823],\n",
    "#        [0.03358471, 0.03448321, 0.13672524, 0.04660727, 0.04195372],\n",
    "#        [0.04197812, 0.03863454, 0.04912078, 0.08057892, 0.02526139],\n",
    "#        [0.08572221, 0.0880551 , 0.10085452, 0.13203768, 0.08862588],\n",
    "#        [0.0424938 , 0.01100553, 0.01393111, 0.0539832 , 0.04202164]])"
   ]
  },
  {
   "cell_type": "code",
   "execution_count": 50,
   "metadata": {},
   "outputs": [
    {
     "data": {
      "text/plain": [
       "array([[ 650, 1032, 1643, ..., 2179, 2547,  985],\n",
       "       [ 977, 1023, 1601, ..., 1544, 1671,  394],\n",
       "       [1671, 1593, 1795, ..., 1733, 2880, 2467],\n",
       "       ...,\n",
       "       [1622, 1845, 3021, ..., 2519, 2148,  126],\n",
       "       [1185, 1636, 1116, ..., 1355, 1610,  826],\n",
       "       [2664, 2781,  659, ...,  597,  909,  300]], dtype=int64)"
      ]
     },
     "execution_count": 50,
     "metadata": {},
     "output_type": "execute_result"
    }
   ],
   "source": [
    "# 使用np.argsort將每一個row的similarity進行排序，然後倒過來排續，篩出前500個\n",
    "#=============your works starts===============#\n",
    "top_content_idxs = np.argsort(similarity_metric, axis=1)[:, ::-1][:, :500]\n",
    "#==============your works ends================#\n",
    "# 請注意這邊的產出代表的是每一篇文章的在tfidf_matrix的idx位置\n",
    "# 必須與contentId區別\n",
    "\n",
    "top_content_idxs\n",
    "# array([[ 650, 1032, 1643, ...,  237, 1034, 3018],\n",
    "#        [ 977, 1023, 1601, ..., 1548, 1175, 1769],\n",
    "#        [1671, 1593, 1795, ..., 2477, 1117, 1520],\n",
    "#        ...,\n",
    "#        [1622, 1845, 3021, ...,  974, 1035, 1607],\n",
    "#        [1185, 1636, 1116, ..., 2309, 2357, 2616],\n",
    "#        [2664, 2781,  659, ..., 2634, 1552, 3018]], dtype=int64)"
   ]
  },
  {
   "cell_type": "code",
   "execution_count": 51,
   "metadata": {},
   "outputs": [
    {
     "data": {
      "text/plain": [
       "array([[ 8596997246990922861,  2858969450431709251, -4541461982704074404],\n",
       "       [-1995591062742965408,  6852597772196653540,  -969155230116728853],\n",
       "       [-1297580205670251233, -9216926795620865886, -4434534460030275781],\n",
       "       [-1755875383603052680,  5293701842202310496,  5037403311832115000],\n",
       "       [ 9175693555063886126,  7013665235990336340, -2069509552243850466]],\n",
       "      dtype=int64)"
      ]
     },
     "execution_count": 51,
     "metadata": {},
     "output_type": "execute_result"
    }
   ],
   "source": [
    "# 將tfidf_matrix的idx轉換成contentId\n",
    "#=============your works starts===============#\n",
    "top_contentId = np.array([np.array(item_ids)[top_content_idx] for top_content_idx in top_content_idxs])\n",
    "#==============your works ends================#\n",
    "\n",
    "top_contentId[:5, :3]\n",
    "# array([[ 8596997246990922861,  2858969450431709251, -4541461982704074404],\n",
    "#        [-1995591062742965408,  6852597772196653540,  -969155230116728853],\n",
    "#        [-1297580205670251233, -9216926795620865886, -4434534460030275781],\n",
    "#        [-1755875383603052680,  5293701842202310496,  5037403311832115000],\n",
    "#        [ 9175693555063886126,  7013665235990336340, -2069509552243850466]],\n",
    "#       dtype=int64)"
   ]
  },
  {
   "cell_type": "code",
   "execution_count": 52,
   "metadata": {},
   "outputs": [],
   "source": [
    "# 將top_10_contentId指派回df_answer['content_based_recommended']\n",
    "#=============your works starts===============#\n",
    "df_answer['content_based_recommended'] = list(top_contentId)\n",
    "#==============your works ends================#\n"
   ]
  },
  {
   "cell_type": "code",
   "execution_count": 53,
   "metadata": {},
   "outputs": [
    {
     "name": "stdout",
     "output_type": "stream",
     "text": [
      "Average Precision At K: 0.4271240105540897\n"
     ]
    }
   ],
   "source": [
    "def precision_at_k(row, k=10):\n",
    "    # 計算每一個row的precision_at_k\n",
    "    #=============your works starts===============#\n",
    "    precision = len(set(row['content_based_recommended'][:k]) & set(row['contentId'])) / k\n",
    "    #==============your works ends================#\n",
    "    return precision\n",
    "\n",
    "evaluation_result = df_answer.apply(precision_at_k, axis=1)\n",
    "print(\"Average Precision At K:\", np.average(evaluation_result))\n",
    "# Average Precision At K: 0.4271240105540897"
   ]
  },
  {
   "cell_type": "code",
   "execution_count": 25,
   "metadata": {},
   "outputs": [
    {
     "name": "stdout",
     "output_type": "stream",
     "text": [
      "Average Recall At K: 0.7014372644445073\n"
     ]
    }
   ],
   "source": [
    "def recall_at_k(row, k=10):\n",
    "    # 計算每一個row的recall_at_k\n",
    "    #=============your works starts===============#\n",
    "    precision = len(set(row['content_based_recommended'][:k]) & set(row['contentId'])) / len(row['contentId'])\n",
    "    #==============your works ends================#\n",
    "    return precision\n",
    "\n",
    "evaluation_result = df_answer.apply(recall_at_k, axis=1)\n",
    "print(\"Average Recall At K:\", np.average(evaluation_result))\n",
    "# Average Recall At K: 0.7014372644445073"
   ]
  },
  {
   "cell_type": "code",
   "execution_count": 26,
   "metadata": {},
   "outputs": [
    {
     "name": "stdout",
     "output_type": "stream",
     "text": [
      "[0.8881266490765172, 0.8007915567282322, 0.7261213720316623, 0.662269129287599, 0.6073878627968338]\n",
      "[0.2902330255447432, 0.4325134024349371, 0.5155799081444566, 0.5702582888232454, 0.609574135903257]\n"
     ]
    }
   ],
   "source": [
    "precisions_content_based = []\n",
    "recalls_content_based = []\n",
    "for k in range(1, 500):\n",
    "    # 找出k個retrieved結果下的precision並append到precisions中\n",
    "    # 找出k個retrieved結果下的recall並append到recalls中\n",
    "    #=============your works starts===============#\n",
    "    p_avg = np.average(df_answer.apply(precision_at_k, axis=1, k=k))\n",
    "    r_avg = np.average(df_answer.apply(recall_at_k, axis=1, k=k))\n",
    "    precisions_content_based.append(p_avg)\n",
    "    recalls_content_based.append(r_avg)\n",
    "    #==============your works ends================#\n",
    "\n",
    "print(precisions_content_based[:5])\n",
    "print(recalls_content_based[:5])\n",
    "# [0.8881266490765172, 0.8007915567282322, 0.7261213720316623, 0.662269129287599, 0.6073878627968338]\n",
    "# [0.2902330255447432, 0.4325134024349371, 0.5155799081444566, 0.5702582888232454, 0.609574135903257]"
   ]
  },
  {
   "cell_type": "code",
   "execution_count": 27,
   "metadata": {},
   "outputs": [
    {
     "data": {
      "image/png": "[encoded data removed]",
      "text/plain": [
       "<Figure size 432x288 with 1 Axes>"
      ]
     },
     "metadata": {
      "needs_background": "light"
     },
     "output_type": "display_data"
    }
   ],
   "source": [
    "plt.scatter(recalls_popularity, precisions_popularity, c='g')\n",
    "plt.scatter(recalls_content_based, precisions_content_based, c='r')\n",
    "plt.show()"
   ]
  }
 ],
 "metadata": {
  "kernelspec": {
   "display_name": "Python 3",
   "language": "python",
   "name": "python3"
  },
  "language_info": {
   "codemirror_mode": {
    "name": "ipython",
    "version": 3
   },
   "file_extension": ".py",
   "mimetype": "text/x-python",
   "name": "python",
   "nbconvert_exporter": "python",
   "pygments_lexer": "ipython3",
   "version": "3.6.4"
  }
 },
 "nbformat": 4,
 "nbformat_minor": 1
}
